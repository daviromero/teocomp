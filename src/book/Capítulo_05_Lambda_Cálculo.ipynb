{
  "cells": [
    {
      "cell_type": "markdown",
      "metadata": {
        "id": "U13SmYZEnoO3"
      },
      "source": [
        "# Teoria da Computação: Lambda Cálculo\n",
        "> *Autor: Davi Romero de Vasconcelos, daviromero@ufc.br, Universidade Federal do Ceará, Campus de Quixadá, Setembro de 2021*.\n",
        "> *(Última atualização 13/12/2021)*\n",
        "\n",
        "Este material foi preparado para a disciplina de Teoria da Computação com a finalidade de apresentar os conceitos básicos do modelo Computacional Lambda Cálculo na Linguagem de Programação Python. Para cada seção é apresentado um link (no título da seção) com um vídeo explicando o conteúdo a ser abordado. Uma Playlist com todo o conteúdo de Lambda Cálculo está disponível no [YouTube](https://www.youtube.com/embed/videoseries?list=PLfOnKvd6pFiqNIU9XZ5bnvEKDgQIgZQrg).\n",
        "A implementação das funções de Lambda Cálculo em Python foi baseada na apresentação do David Beazley - Lambda Calculus from the Ground Up - PyCon 2019, disponível no [YouTube](https://youtu.be/pkCLMl0e_0k)"
      ]
    },
    {
      "cell_type": "markdown",
      "metadata": {
        "id": "aubkkePxjd_-"
      },
      "source": [
        "# [Introdução ao Lambda Cálculo](https://youtu.be/GZXStG8rzhk)\n",
        "\n",
        "O Lambda Cálculo ($\\lambda-calculus$) foi criado por Alonzo Church em 1936 como um modelo do que é computável. Com esse cálculo demonstrou-se que existem problemas indecidíveis. É um modelo de computação equivalente aos modelos de computação mais gerais como as Funções Recursivas de Kleene e as Máquinas de Turing. O que reforça a tese de Church-Turing sobre o que é computável. Além disso, existe uma forte relação de $\\lambda-calculus$ Tipado com Lógica Intuicionística (Isomorfismo Curry-Howard).\n",
        "\n",
        "Importante registrar que o Church foi orientador de ilustres cientistas dentre eles Alan Turing, Stephen C. Kleene, Martin Davis, Leon Henkin, Dana Scott, Raymond Smullyan.\n",
        "\n",
        "As linguagens de programação funcional (Lisp, Scheme, Haskell, Scala, Kotlin, Go, etc) são todas fortemente inspiradas no Cálculo Lambda. Atualmente, muitas das linguagens de programação no paradigma imperativo também permitem programação funcional, como Python. \n",
        "\n",
        "O Lambda Cálculo provê uma semântica para computação, permitindo que propriedades de computação sejam estudas. No $\\lambda-calculus$ as funções são anônimas e têm uma simples entrada. Por exemplo, para a função $f(x,y)=x^2+y^2$, podemos:\n",
        "  - reescrever de forma anônima $(x,y)\\mapsto x^2+y^2$;\n",
        "  - transformar em uma função equivalente que contém apenas uma entrada. Assim, $(x,y)\\mapsto x^2+y^2$ pode ser reescrita por $((x\\mapsto(y\\mapsto x^2+y^2))$\n",
        "\n",
        "Este método, conhecido como Currying, transforma uma função com múltiplos argumentos em uma cadeia de funções cada com um argumento. Por exemplo,\n",
        "  - A aplicação da função $f(x,y)$ aos argumentos $5, 2$ tem $(((x,y)\\mapsto x^2+y^2)(5,2))=5^2+2^2 =29$\n",
        "  - A versão requer Curried um passo a mais: $(((x\\mapsto(y\\mapsto x^2+y^2))(5))(2)=(y\\mapsto 5^2+y^2)(2) =5^2+2^2 =29$\n",
        "\n",
        "## [Linguagem Lambda](https://youtu.be/JgkI5TsxLJ0)\n",
        "Seja $\\mathcal{V}$ um conjunto enumerável de variáveis. A **Linguagem Lambda $\\Lambda$** é definida indutivamente como o menor conjunto que satisfaz:\n",
        "- Se $x\\in \\mathcal{V}$, então $x\\in\\Lambda$.\n",
        "- Se $M\\in\\Lambda$ e $x\\in \\mathcal{V}$, então $(\\lambda x.M)\\in\\Lambda$ ($\\lambda-$abstração).\n",
        "- Se $M,N\\in\\Lambda$, então $(M~N)\\in\\Lambda$ ($\\lambda-$aplicação).\n",
        "\n",
        "Se $x\\in \\Lambda$, dizemos que **$x$ é um $\\lambda$-termo**.. \n",
        "\n",
        "> **Exemplos:** São exemplos de $\\lambda$-termos:\n",
        "  - $x\\in\\Lambda$, \n",
        "  - $(\\lambda x.x)\\in\\Lambda$, \n",
        "  - $((\\lambda x.x)~y)\\in\\Lambda$, $(\\lambda t.(\\lambda f.~t))\\in\\Lambda$, \n",
        "  - $(\\lambda t.(\\lambda f.f))\\in\\Lambda$,\n",
        "  - $(\\lambda s.(\\lambda x.x))\\in\\Lambda$, \n",
        "  - $(\\lambda s.(\\lambda x.(s~(s~x))))\\in\\Lambda$, \n",
        "  - $(\\lambda s.(\\lambda x.(s~(s~(s~x)))))\\in\\Lambda$\n",
        "    \n",
        "### [Convenções nos Lambda-Termos](https://youtu.be/YqvXa3yetGw)\n",
        "Sejam $x,y,z\\in\\mathcal{V}$ e $M,N,L\\in\\Lambda$. Algumas convenções:\n",
        "- Os parênteses mais externos podem ser omitidos $(M~ N)$ será $M~ N$.\n",
        "- $M\\equiv N$ denotam o mesmo termo ou podem ser obtidos por substituição de variáveis ligadas. Ex.: $(\\lambda x.y)~z\\equiv(\\lambda x.y)~z$, $(\\lambda x.x)~z\\equiv(\\lambda y.y)~z$, $(\\lambda x.x)~z\\not\\equiv z$ e $(\\lambda x.x)~z\\not\\equiv(\\lambda x.y)~z$.\n",
        "- Usamos a seguinte abreviação $F~M_1~M_2,\\ldots M_n\\equiv (\\ldots((F ~M_1)~M_2)\\ldots M_n)$.\n",
        "- $\\lambda x_1\\ldots x_n .M\\equiv \\lambda x_1.(\\lambda x_2.(\\ldots(\\lambda x_n. M)\\ldots))$\n",
        "\n",
        "São exemplos de lambda-termos utilizando as convenções:\n",
        "- $\\lambda sx.(s~x)\\equiv (\\lambda s.(\\lambda x.(s~x)))$ e $\\lambda sx.(s~(s~x))\\equiv (\\lambda s.(\\lambda x.(s~(s~x))))$\n",
        "- $\\lambda zsx.(s~(z~s~x))\\equiv (\\lambda z.(\\lambda s.(\\lambda x.s~ ((z~s)~x))))$.\n",
        " \n",
        "### [Variáveis Livres e Ligadas](https://youtu.be/QbkSzPG2Bxo)\n",
        "Seja $VL(M)$ o conjunto de **Variáveis Livres** definidos indutivamente como segue:\n",
        "- $VL(x)$, então $\\{x\\}$.\n",
        "- $VL(M ~N)=VL(M)\\cup VL(N)$.\n",
        "- $VL(\\lambda x.M)=VL(M)-\\{x\\}$\n",
        "\n",
        "Se a variável $x$ não é livre em $M$, dizemos que é **ligada**.\n",
        "\n",
        "> **Vejamos alguns exemplos:**\n",
        "> - $\\lambda xy.~x~y~z$ tem $z$ como variável livre e $x,y$ como ligada.\n",
        "> - $x~\\lambda xy.~x~y~z$ tem $x,z$ como variável livre e $y$ como ligada.\n",
        "\n",
        "### [Substituição](https://youtu.be/vjo9S_cUMsA) \n",
        "\n",
        "Escrevemos $M[x\\leftarrow N]$ para denotar o resultado da substituição de $N$ para as variáveis livres de $x$ ocorrendo em $M$ e que é definido da seguinte forma:\n",
        "- $$y[x\\leftarrow N]\\equiv \\left\\{\\begin{align*}N, \\text{ se }x\\equiv y \\\\     y, \\text{ se }x\\not\\equiv y\\end{align*}\\right.$$\n",
        "\n",
        "- $$(M_1~ M_2)[x\\leftarrow N]\\equiv ((M_1[x\\leftarrow N])~ (M_2[x\\leftarrow N]))$$\n",
        "- $$(\\lambda y.M)[x\\leftarrow N]\\equiv \n",
        "  \\left\\{\\begin{align*}\n",
        "  (\\lambda y.M), \\text{ se }x\\equiv y\\text{ ou } y\\in VL(N)\n",
        "  \\\\ (\\lambda y.(M[x\\leftarrow N])), \\text{ se }x\\not\\equiv y\\text{ e } y\\not\\in VL(N)\\end{align*}\\right.$$\n",
        " \n",
        "Vejamos alguns exemplos de substituição: \n",
        "- $\\lambda x. (x+y)[y\\leftarrow 2 ]\\equiv\\lambda x. (x[y\\leftarrow 2 ]+y[y\\leftarrow 2 ])\\equiv \\lambda x. (x+2)$\n",
        "- $\\lambda x. (x+y)[y\\leftarrow 2*x ]\\equiv\\lambda x. (x+y)$, pois $x\\in VL(2*x)$\n",
        "- $\\lambda xy. x~y~z[z\\leftarrow \\lambda w.w]\\equiv\\lambda xy. x~y\\lambda w.w$\n",
        "\n",
        "### [Reduções](https://youtu.be/ri_RHBFTEng)\n",
        "Para estreitar a relação extensional ($=$) e a relação intencional ($\\equiv$),\n",
        "  define-se o conceito de redução, o qual se configura em uma espécie de \"passo computacional\" na busca por um valor representativo para um $\\lambda$-termo. Uma redução entre termos, denotada por $\\rhd$ pode ser de dois tipos:\n",
        "- Tipo Beta ($\\beta$-redução):\n",
        "  $(\\lambda x.M)~N\\rhd M[x\\leftarrow N]$\n",
        "- Tipo Alpha ($\\alpha$-redução):\n",
        "  $\\lambda x.M\\rhd \\lambda y.M[x\\leftarrow y]$, onde $y\\not\\in VL(M)$.\n",
        "\n",
        "Assuma operações nos números naturais (apenas para efeito didático).\n",
        "- $(\\lambda x.2*x+1)~3\\rhd(2*x+1)[x\\leftarrow 3]=2*3+1=7$\n",
        "- $\\lambda x.2+x\\rhd\\lambda y.2+y$\n",
        "- $(\\lambda xy.x+y)~5\\text{ }7\\rhd((\\lambda y.x+y)[x\\leftarrow 5]~7=(\\lambda y.5+y)~7\\rhd (5+y)[y\\leftarrow 7]=5+7=12$\n",
        "- $(\\lambda xy.x+y)~(\\lambda z.2*z)\\rhd (\\lambda y.x+y)[x\\leftarrow \\lambda z.2*z]=\\lambda y.(\\lambda z.2*z)+y$\n",
        "- $(\\lambda x.~x~x)~(\\lambda x.~x~x)\\rhd x~x[x\\leftarrow(\\lambda x.~x~x)]=(\\lambda x.~x~x)~(\\lambda x.~x~x)$\n",
        "\n",
        "### [Redução Iterada](https://youtu.be/EYuZHYFxPEI)\n",
        "A Redução Iterada, denotada por $\\rhd^*$, é o fecho reflexivo e transitivo de $\\rhd$:\n",
        "- $M\\rhd^* M$\n",
        "- se $M\\rhd N$, então $M\\rhd^* N$\n",
        "- se $M\\rhd N$, então $K(M)\\rhd^* K(N)$\n",
        "- se $M\\rhd^* N$ e $N\\rhd K$, então $M\\rhd^* K$\n",
        "\n",
        "É necessário observar que\n",
        "- O processo de redução em alguns casos não pára.\n",
        "- O processo de redução não é algorítmico, pois as reduções não tem ordem preferencial de reduções. Assim,\n",
        "  - $(\\lambda y.z)~((\\lambda x.~x~x)~(\\lambda x.~x~x))\\rhd z$ ou\n",
        "  - $(\\lambda y.z)~((\\lambda x.~x~x)~(\\lambda x.~x~x))\\rhd (\\lambda y.z)~((\\lambda x.~x~x)~(\\lambda x.~x~x))\\rhd\\ldots$\n",
        "\n",
        "### [Igualdade por Redução](https://youtu.be/WIJ6iL7xYHI)\n",
        "A Igualdade Induzida por Redução é definida por\n",
        "    \\begin{align*}\n",
        "    % \\nonumber to remove numbering (before each equation)\n",
        "      M=_\\beta N &\\Longleftrightarrow& \\text{existe um }K\\text{ tal que }M\\rhd^* K\\text{ e }N\\rhd^*K\n",
        "    \\end{align*}\n",
        "Vejamos alguns exemplos:\n",
        "- $(\\lambda x.x+2)=_\\beta (\\lambda y.y+2)$, pois $(\\lambda y.y+2)\\rhd (\\lambda x.(y+2[y\\leftarrow x]))\\rhd (\\lambda x.x+2)$\n",
        "- $(\\lambda x.x+2)~2=_\\beta (\\lambda y.2+y)~2$, pois $(\\lambda x.x+2)~2\\rhd^* 2+2$ e $(\\lambda y.2+y)~2\\rhd^* 2+2$"
      ]
    },
    {
      "cell_type": "markdown",
      "metadata": {
        "id": "vjtHp4kY1qlV"
      },
      "source": [
        "## Funções Lambda em Python"
      ]
    },
    {
      "cell_type": "markdown",
      "metadata": {
        "id": "uqVYos6lzllh"
      },
      "source": [
        "> *Em Python* temos função lambda na linguagem. Assim, podemos definir o lambda-termo $\\lambda x. x+2$ como o código:\n",
        "`lambda x: x+2`\n",
        "> - $(\\lambda x. x+2)~3\\rhd x+2[x\\leftarrow 3]=3+2\\rhd 5$ que seria o código: `(lambda x: x+2) (3)`"
      ]
    },
    {
      "cell_type": "code",
      "execution_count": null,
      "metadata": {
        "colab": {
          "base_uri": "https://localhost:8080/"
        },
        "id": "F78BQgrO3E5c",
        "outputId": "0e0ac769-e702-424b-e966-b2d43d6d23a6"
      },
      "outputs": [
        {
          "data": {
            "text/plain": [
              "5"
            ]
          },
          "execution_count": 1,
          "metadata": {},
          "output_type": "execute_result"
        }
      ],
      "source": [
        "(lambda x: x+2)(3)"
      ]
    },
    {
      "cell_type": "markdown",
      "metadata": {
        "id": "yLU-SIYVzm_1"
      },
      "source": [
        "> *Em Python* temos função lambda na linguagem. Assim, podemos definir o lambda-termo $\\lambda xy. x+y$ como o código:\n",
        ">\n",
        "> `lambda x: lambda y: x+y`\n",
        "> - $(\\lambda xy. x+y)~3~2\\rhd (\\lambda y. x+y[x\\leftarrow 3])~2=(\\lambda y. 3+y)~2\\rhd 3+y[y\\leftarrow 2]=3+2\\rhd 5$ \n",
        ">\n",
        "> que seria o código: `(lambda x: lambda y: x+y) (3) (2) `"
      ]
    },
    {
      "cell_type": "code",
      "execution_count": null,
      "metadata": {
        "colab": {
          "base_uri": "https://localhost:8080/"
        },
        "id": "ocSFoZpezsd8",
        "outputId": "12e2ce8d-89b3-4a2c-a8a2-d80d332f8632"
      },
      "outputs": [
        {
          "data": {
            "text/plain": [
              "5"
            ]
          },
          "execution_count": 2,
          "metadata": {},
          "output_type": "execute_result"
        }
      ],
      "source": [
        "(lambda x: lambda y: x+y) (3) (2)"
      ]
    },
    {
      "cell_type": "markdown",
      "metadata": {
        "id": "26B3yiPZzv99"
      },
      "source": [
        "> *Em Python* podemos ter um função lambda com múltiplos argumentos. **Em lambda Cálculo** devemos usar a versão *curried*. O código abaixo é possível em *Python*, mas não em Lambda Cálculo!\n",
        ">\n",
        "> `(lambda x, y: x+y) (3,2) `"
      ]
    },
    {
      "cell_type": "code",
      "execution_count": null,
      "metadata": {
        "colab": {
          "base_uri": "https://localhost:8080/"
        },
        "id": "UBFtH1430AsL",
        "outputId": "3c55119e-9bc8-47ea-eec3-810adc68e693"
      },
      "outputs": [
        {
          "data": {
            "text/plain": [
              "5"
            ]
          },
          "execution_count": 3,
          "metadata": {},
          "output_type": "execute_result"
        }
      ],
      "source": [
        "(lambda x, y: x+y) (3,2)"
      ]
    },
    {
      "cell_type": "markdown",
      "metadata": {
        "id": "o_syvbCF1cu_"
      },
      "source": [
        "> Em *Python*, podemos dar nomes as funções lambdas. Vejamos alguns exemplos:\n",
        "> - `soma2 = lambda x: x+2`\n",
        "> - `soma = lambda x: lambda y: x+y`\n",
        "\n",
        "Para facilitar o entendimento das definições também usaremos nomes para as funções em Lambda Cálculo.\n",
        "> - $soma2:= \\lambda x. x+2$\n",
        "> - $soma:= \\lambda xy. x+y$"
      ]
    },
    {
      "cell_type": "code",
      "execution_count": null,
      "metadata": {
        "colab": {
          "base_uri": "https://localhost:8080/"
        },
        "id": "UyNpXGiN1hxk",
        "outputId": "d90f6c6b-8250-47d2-d55d-3fefff9e0b48"
      },
      "outputs": [
        {
          "data": {
            "text/plain": [
              "5"
            ]
          },
          "execution_count": 7,
          "metadata": {},
          "output_type": "execute_result"
        }
      ],
      "source": [
        "soma2 = lambda x: x+2\n",
        "soma2 (3)"
      ]
    },
    {
      "cell_type": "code",
      "execution_count": null,
      "metadata": {
        "colab": {
          "base_uri": "https://localhost:8080/"
        },
        "id": "Qr-b7rDt1klE",
        "outputId": "7b973355-67f4-49db-b797-993a6ba43ee8"
      },
      "outputs": [
        {
          "data": {
            "text/plain": [
              "5"
            ]
          },
          "execution_count": 5,
          "metadata": {},
          "output_type": "execute_result"
        }
      ],
      "source": [
        "soma = lambda x: lambda y: x+y\n",
        "soma (3) (2)"
      ]
    },
    {
      "cell_type": "markdown",
      "metadata": {
        "id": "XBwvooWqtR1z"
      },
      "source": [
        "## [Representação de Valores Booleanos](https://youtu.be/WQXDNRT60Gc)\n",
        "Em lambda-cálculo não temos dados, tudo é função! Para representar os valores verdadeiro e falso, utilizamos funções para representar ambos os valores.\n",
        "- O valor lógico verdadeiro $V:=\\lambda xy. x$ - Projeção da Primeira Componente\n",
        "- O valor lógico falso $F:=\\lambda xy. y$ - Projeção do Segundo Componente"
      ]
    },
    {
      "cell_type": "code",
      "execution_count": null,
      "metadata": {
        "id": "WDy8RYFAs6i6"
      },
      "outputs": [],
      "source": [
        "V = ...\n",
        "\n",
        "F = ..."
      ]
    },
    {
      "cell_type": "code",
      "execution_count": null,
      "metadata": {
        "colab": {
          "base_uri": "https://localhost:8080/",
          "height": 35
        },
        "id": "FvVMiT2fbbuQ",
        "outputId": "6e21ab9e-a33a-478b-97ae-dff694ff9493"
      },
      "outputs": [
        {
          "data": {
            "application/vnd.google.colaboratory.intrinsic+json": {
              "type": "string"
            },
            "text/plain": [
              "'verdadeiro'"
            ]
          },
          "execution_count": 9,
          "metadata": {},
          "output_type": "execute_result"
        }
      ],
      "source": [
        "V('verdadeiro')('falso')"
      ]
    },
    {
      "cell_type": "code",
      "execution_count": null,
      "metadata": {
        "colab": {
          "base_uri": "https://localhost:8080/",
          "height": 35
        },
        "id": "wwOjxAllbfun",
        "outputId": "525154a1-7578-43b2-bab5-a1690cc54d54"
      },
      "outputs": [
        {
          "data": {
            "application/vnd.google.colaboratory.intrinsic+json": {
              "type": "string"
            },
            "text/plain": [
              "'falso'"
            ]
          },
          "execution_count": 10,
          "metadata": {},
          "output_type": "execute_result"
        }
      ],
      "source": [
        "F('verdadeiro')('falso')"
      ]
    },
    {
      "cell_type": "markdown",
      "metadata": {
        "id": "dTqfZOqmc2kz"
      },
      "source": [
        "### Exibindo um valor-verdade em Python: Verdadeiro e Falso não são dados e sim funções!"
      ]
    },
    {
      "cell_type": "code",
      "execution_count": null,
      "metadata": {
        "id": "2G7Rq_bZdFIE"
      },
      "outputs": [],
      "source": [
        "# Essa função é utilizada apenas para prover um \"valor\" em Python para um lambda-termo para efeitos didáticos.\n",
        "def print_boolean(func):\n",
        "  print(func('verdadeiro')('falso'))"
      ]
    },
    {
      "cell_type": "code",
      "execution_count": null,
      "metadata": {
        "colab": {
          "base_uri": "https://localhost:8080/"
        },
        "id": "M0bKaAxldTrz",
        "outputId": "13105ca1-76b9-4daa-d10e-c76536707f18"
      },
      "outputs": [
        {
          "name": "stdout",
          "output_type": "stream",
          "text": [
            "verdadeiro\n"
          ]
        }
      ],
      "source": [
        "print_boolean(V)"
      ]
    },
    {
      "cell_type": "code",
      "execution_count": null,
      "metadata": {
        "colab": {
          "base_uri": "https://localhost:8080/"
        },
        "id": "aQsNdOhcdYLr",
        "outputId": "37c91796-1934-4151-e8b8-47c6370d7bd9"
      },
      "outputs": [
        {
          "name": "stdout",
          "output_type": "stream",
          "text": [
            "falso\n"
          ]
        }
      ],
      "source": [
        "print_boolean(F)"
      ]
    },
    {
      "cell_type": "markdown",
      "metadata": {
        "id": "7eTPmtW9uLcK"
      },
      "source": [
        "## [A Negação Lógica](https://youtu.be/3Q3_bNASjR0)\n",
        "$\\lnot p :=\\lambda p. p\\ F\\ V$\n",
        "- $(\\lambda p. p\\ F\\ V)~F\\rhd (F\\ F\\ V)\\rhd V$, pois $F$ é 2a. projeção.\n",
        "- $(\\lambda p. p\\ F\\ V)~V\\rhd (V\\ F\\ V)\\rhd F$, pois $V$ é 1a. projeção.\n"
      ]
    },
    {
      "cell_type": "code",
      "execution_count": null,
      "metadata": {
        "id": "HpU9knpfuVZi"
      },
      "outputs": [],
      "source": [
        "NEG = ..."
      ]
    },
    {
      "cell_type": "code",
      "execution_count": null,
      "metadata": {
        "id": "rXoiBbu1vkrD"
      },
      "outputs": [],
      "source": [
        "NEG(V) # irá exibir uma função."
      ]
    },
    {
      "cell_type": "code",
      "execution_count": null,
      "metadata": {
        "id": "FOvsD3l8eA6k"
      },
      "outputs": [],
      "source": [
        "print_boolean(NEG(V))\n",
        "print_boolean(NEG(F))\n",
        "print_boolean(NEG(NEG(V)))"
      ]
    },
    {
      "cell_type": "markdown",
      "metadata": {
        "id": "kR91TScXgfpJ"
      },
      "source": [
        "## [A Conjunção Lógica](https://youtu.be/YQqmAj-tSQs) \n",
        "$p \\wedge q:=\\lambda pq. p\\ q\\ p$\n",
        "- $(\\lambda pq. p\\ q\\ p)~F\\ F\\rhd (\\lambda q. F\\ q\\ F)~F\\rhd (F\\ F\\ F)\\rhd F$.\n",
        "- $(\\lambda pq. p\\ q\\ p)~F\\ V\\rhd (\\lambda q. F\\ q\\ F)~V\\rhd (F\\ V\\ F)\\rhd F$.\n",
        "- $(\\lambda pq. p\\ q\\ p)~V\\ F\\rhd (\\lambda q. V\\ q\\ V)~F\\rhd (V\\ F\\ V)\\rhd F$.\n",
        "- $(\\lambda pq. p\\ q\\ p)~V\\ V\\rhd (\\lambda q. V\\ q\\ V)~V\\rhd (V\\ V\\ V)\\rhd V$."
      ]
    },
    {
      "cell_type": "code",
      "execution_count": null,
      "metadata": {
        "id": "ANhZyHZYF8F0"
      },
      "outputs": [],
      "source": [
        "AND = ..."
      ]
    },
    {
      "cell_type": "code",
      "execution_count": null,
      "metadata": {
        "id": "yfhBzm1VF8Lm"
      },
      "outputs": [],
      "source": [
        "print_boolean(AND(V)(V))\n",
        "print_boolean(AND(V)(F))\n",
        "print_boolean(AND(F)(V))\n",
        "print_boolean(AND(F)(F))"
      ]
    },
    {
      "cell_type": "markdown",
      "metadata": {
        "id": "DpBCe1mLh42-"
      },
      "source": [
        "## [A Disjunção Lógica](https://youtu.be/BIf6kh4MnoU)\n",
        "$p \\vee q:=\\lambda pq. p\\ p\\ q$\n",
        "- $(\\lambda pq. p\\ p\\ q)~F\\ F\\rhd (\\lambda q. F\\ F\\ q)~F\\rhd (F\\ F\\ F)\\rhd F$.\n",
        "- $(\\lambda pq. p\\ p\\ q)~F\\ V\\rhd (\\lambda q. F\\ F\\ q)~V\\rhd (F\\ F\\ V)\\rhd V$.\n",
        "- $(\\lambda pq. p\\ p\\ q)~V\\ F\\rhd (\\lambda q. V\\ V\\ q)~F\\rhd (V\\ V\\ F)\\rhd V$.\n",
        "- $(\\lambda pq. p\\ p\\ q)~V\\ V\\rhd (\\lambda q. V\\ V\\ q)~V\\rhd (V\\ V\\ V)\\rhd V$."
      ]
    },
    {
      "cell_type": "code",
      "execution_count": null,
      "metadata": {
        "id": "yKLbse0Th3sP"
      },
      "outputs": [],
      "source": [
        "OR = ..."
      ]
    },
    {
      "cell_type": "code",
      "execution_count": null,
      "metadata": {
        "id": "lj0YQT7PiE7u"
      },
      "outputs": [],
      "source": [
        "print_boolean(OR(V)(V))\n",
        "print_boolean(OR(V)(F))\n",
        "print_boolean(OR(F)(V))\n",
        "print_boolean(OR(F)(F))"
      ]
    },
    {
      "cell_type": "markdown",
      "metadata": {
        "id": "mLWAMklwiUq_"
      },
      "source": [
        "## [A Implicação Lógica](https://youtu.be/gWoVVt1_Pr8)\n",
        "$p \\rightarrow q:=\\lambda pq. p\\ q\\ V$\n",
        "- $(\\lambda pq. p\\ q\\ V)~F\\ F\\rhd (\\lambda q. F\\ q\\ V)~ F\\rhd (F\\ F\\ V)\\rhd V$.\n",
        "- $(\\lambda pq. p\\ q\\ V)~F\\ V\\rhd (\\lambda q. F\\ q\\ V)~ V\\rhd (F\\ V\\ V)\\rhd V$.\n",
        "- $(\\lambda pq. p\\ q\\ V)~V\\ F\\rhd (\\lambda q. V\\ q\\ V)~ F\\rhd (V\\ F\\ V)\\rhd F$.\n",
        "- $(\\lambda pq. p\\ q\\ V)~V\\ V\\rhd (\\lambda q. V\\ q\\ V)~ V\\rhd (V\\ V\\ V)\\rhd V$."
      ]
    },
    {
      "cell_type": "code",
      "execution_count": null,
      "metadata": {
        "id": "-xW1RL1rigfV"
      },
      "outputs": [],
      "source": [
        "IMP = ..."
      ]
    },
    {
      "cell_type": "code",
      "execution_count": null,
      "metadata": {
        "id": "edJhRzoFiny-"
      },
      "outputs": [],
      "source": [
        "print_boolean(IMP(V)(V))\n",
        "print_boolean(IMP(V)(F))\n",
        "print_boolean(IMP(F)(V))\n",
        "print_boolean(IMP(F)(F))"
      ]
    },
    {
      "cell_type": "markdown",
      "metadata": {
        "id": "-9-fhCwrg8jy"
      },
      "source": [
        "## Exercício: A Equivalência Lógica\n",
        "Escreva em lambda Cálculo a equivalência lógica, também chamada de bi-implicação lógica. "
      ]
    },
    {
      "cell_type": "code",
      "execution_count": null,
      "metadata": {
        "id": "mTCQVggM0xmH"
      },
      "outputs": [],
      "source": [
        "BI_IMP = ..."
      ]
    },
    {
      "cell_type": "code",
      "execution_count": null,
      "metadata": {
        "id": "7KIMiELe05-F"
      },
      "outputs": [],
      "source": [
        "print_boolean(BI_IMP(V)(V))\n",
        "print_boolean(BI_IMP(V)(F))\n",
        "print_boolean(BI_IMP(F)(V))\n",
        "print_boolean(BI_IMP(F)(F))"
      ]
    },
    {
      "cell_type": "markdown",
      "metadata": {
        "id": "NZxpOdgJmdDC"
      },
      "source": [
        "## Exercício: A Disjunção Exclusiva (xor) \n",
        "Escreva em Lambda Cálculo a disjunção exclusivo, também chamada ou-exclusivo. \n"
      ]
    },
    {
      "cell_type": "code",
      "execution_count": null,
      "metadata": {
        "id": "9u7hQGqxmbT_"
      },
      "outputs": [],
      "source": [
        "XOR = ..."
      ]
    },
    {
      "cell_type": "code",
      "execution_count": null,
      "metadata": {
        "id": "JRJkvOUNnh5l"
      },
      "outputs": [],
      "source": [
        "print_boolean(XOR(V)(V))\n",
        "print_boolean(XOR(V)(F))\n",
        "print_boolean(XOR(F)(V))\n",
        "print_boolean(XOR(F)(F))"
      ]
    },
    {
      "cell_type": "markdown",
      "metadata": {
        "id": "vcdy8eOXV4n8"
      },
      "source": [
        "## [O Comando If-Then-Else](https://youtu.be/sDSlmzz3dKs)\n",
        "$IFTE(p,a,b) :=λpab.p  a b$\n",
        "- $(\\lambda pab. p\\ a\\ b)~F \\rhd (\\lambda ab. F\\ a\\ b) \\rhd \\lambda ab.b$.\n",
        "- $(\\lambda pab. p\\ a\\ b)~V \\rhd (\\lambda ab. V\\ a\\ b) \\rhd \\lambda ab.a$."
      ]
    },
    {
      "cell_type": "code",
      "execution_count": null,
      "metadata": {
        "id": "TNmymyx-WEYf"
      },
      "outputs": [],
      "source": [
        "IFTE = ..."
      ]
    },
    {
      "cell_type": "code",
      "execution_count": null,
      "metadata": {
        "id": "xoABW0c1Wlbi"
      },
      "outputs": [],
      "source": [
        "IFTE (F)('a')('b')"
      ]
    },
    {
      "cell_type": "code",
      "execution_count": null,
      "metadata": {
        "id": "D48yPEy0WN3v"
      },
      "outputs": [],
      "source": [
        "IFTE (V)('a')('b')"
      ]
    },
    {
      "cell_type": "markdown",
      "metadata": {
        "id": "vvwts_0wsG1g"
      },
      "source": [
        "# [Números Inteiros](https://youtu.be/UvRxZEpePSI)\n",
        "\n",
        "Existem diversas formas de representar os números. Iremos usar a representação de Church $n=\\lambda fx.f^n x$. Assim,\n",
        "    \n",
        "\\begin{align*}\n",
        "  0 &:=& \\lambda fx. x \\\\\n",
        "  1 &:=& \\lambda fx. f\\textrm{ }x \\\\\n",
        "  2 &:=& \\lambda fx. f (f\\textrm{ }x)\\\\\n",
        "  3 &:=& \\lambda fx. f (f (f\\textrm{ }x))\\\\\n",
        "  \\vdots&  & \\vdots\\\\\n",
        "  n &:=& \\lambda fx.f^n x\n",
        "\\end{align*}"
      ]
    },
    {
      "cell_type": "code",
      "execution_count": null,
      "metadata": {
        "id": "yJZHokEPs9C5"
      },
      "outputs": [],
      "source": [
        "ZERO = ...\n",
        "UM = ...\n",
        "DOIS = ...\n",
        "TRES = ...\n",
        "QUATRO = ...\n",
        "CINCO = ...\n"
      ]
    },
    {
      "cell_type": "markdown",
      "metadata": {
        "id": "YnQNeAfntZaX"
      },
      "source": [
        "### Exibindo um número: numerais de church não são dados e sim funções!"
      ]
    },
    {
      "cell_type": "code",
      "execution_count": null,
      "metadata": {
        "id": "R23OJCw6uDb9"
      },
      "outputs": [],
      "source": [
        "# Registre-se que 1 e + não estão definidas em lambda cálculo. Essa função é utilizada apenas para prover um \"valor\" em Python para um lambda-termo para efeitos didáticos.\n",
        "def inc(x): \n",
        "  return x+1  \n",
        "# Função que irá \"mostrar\" o valor de uma função lambda-cálculo\n",
        "def print_number(numeral):\n",
        "  print(numeral(inc)(0))"
      ]
    },
    {
      "cell_type": "code",
      "execution_count": null,
      "metadata": {
        "id": "jcKxSh3quYEx"
      },
      "outputs": [],
      "source": [
        "print_number(ZERO)\n",
        "print_number(UM)\n",
        "print_number(DOIS)\n",
        "print_number(TRES)"
      ]
    },
    {
      "cell_type": "markdown",
      "metadata": {
        "id": "Ka0eb77aw7Z8"
      },
      "source": [
        "## [Sucessor](https://youtu.be/TZJZBZQyWz0)\n",
        "A função sucessor $suc(n):=\\lambda nfx.f~(n~f~x)$\n",
        "\n",
        "\\begin{align*}      \n",
        "        suc(0):=(\\lambda nfx.f~(n~f~x))\\lambda fx. x  &\\rhd& \\lambda fx.f~((\\lambda fx. x)\\textrm{ }f\\textrm{ }x) \\\\\n",
        "                                            &\\rhd& \\lambda fx.f~(\\lambda x. x\\textrm{ }x) \\\\\n",
        "                                            &\\rhd& \\lambda fx.f~\\textrm{ }x\n",
        "\\end{align*}\n",
        "\n",
        "\\begin{align*}\n",
        "        suc(1):=(\\lambda nfx.f(n~f~x))\\lambda fx. f~x  & \\rhd & \\lambda fx.f~((\\lambda fx. f~x)~f~x) \\\\\n",
        "                                            &\\rhd& \\lambda fx.f~(\\lambda x. (f~x)~x) \\\\\n",
        "                                            &\\rhd& \\lambda fx.f~(f~x)\n",
        "\\end{align*}\n",
        "\n",
        "\\begin{align*}\n",
        "        suc(2):=(\\lambda nfx.f~(n~f~x))\\lambda fx. f~( f~x)  & \\rhd & \\lambda fx.f~((\\lambda fx. f~( f~x))~f~x) \\\\\n",
        "                                            &\\rhd& \\lambda fx.f~(\\lambda x. f ~(f~x)~x) \\\\\n",
        "                                            &\\rhd& \\lambda fx.f~(~f~(f~x))\n",
        "\\end{align*} "
      ]
    },
    {
      "cell_type": "code",
      "execution_count": null,
      "metadata": {
        "id": "cy01EPT0xBPV"
      },
      "outputs": [],
      "source": [
        "SUC = ..."
      ]
    },
    {
      "cell_type": "code",
      "execution_count": null,
      "metadata": {
        "id": "yJLhCsAgzzf7"
      },
      "outputs": [],
      "source": [
        "print_number(SUC(UM))\n",
        "print_number(SUC(DOIS))\n",
        "print_number(SUC(TRES))\n",
        "print_number(SUC(SUC(TRES)))\n"
      ]
    },
    {
      "cell_type": "markdown",
      "metadata": {
        "id": "6iC7X14e0zZ6"
      },
      "source": [
        "# [Soma](https://youtu.be/0Ev2cAMGvkA)\n",
        "A função soma $+(m,n)= suc^m(n)$ será representada por $+(m,n):=\\lambda mn.m~suc~n$\n",
        "\\begin{align*}\n",
        "        \\overbrace{+(2,1)}^{suc(suc(1))}&:=&\n",
        "                \\overbrace{(\\lambda mn.m~suc~n)}^{+(m,n)}\n",
        "                    \\overbrace{\\lambda fx. f(f~x)}^2~\\overbrace{\\lambda fx. f~x}^1 \\\\\n",
        "                &\\rhd& (\\lambda n.(\\lambda fx. f~(f~x)~suc~n)\n",
        "                    \\lambda fx. f~x \\\\\n",
        "                &\\rhd& (\\lambda n.(\\lambda x. suc(suc~x)~n))\n",
        "                    \\lambda fx. f~x \\\\\n",
        "                &\\rhd& (\\lambda x. suc(suc~x)~\\lambda fx. f~x) \\\\\n",
        "                &\\rhd& suc(suc~\\lambda fx. f~x)\\\\\n",
        "                &\\rhd^*& \\lambda fx. f(f(f~x))\n",
        "\\end{align*}"
      ]
    },
    {
      "cell_type": "code",
      "execution_count": null,
      "metadata": {
        "id": "Pfg5TIIIZ5WG"
      },
      "outputs": [],
      "source": [
        "SOMA = ..."
      ]
    },
    {
      "cell_type": "code",
      "execution_count": null,
      "metadata": {
        "id": "4GxSLZifaIj0"
      },
      "outputs": [],
      "source": [
        "print_number(SOMA(TRES)(DOIS))"
      ]
    },
    {
      "cell_type": "markdown",
      "metadata": {
        "id": "kAZW-tbF2WUt"
      },
      "source": [
        "##  [Multiplicação](https://youtu.be/XywGxSVJJG4)\n",
        "A função multiplicação $*(m,n)=\\overbrace{n+\\ldots+n}^m= +^m(n,0)$ será representada por $*(m,n):=\\lambda mn.m~(+~n)~0$\n",
        "\\begin{align*}\n",
        "    \\overbrace{*(3,2)}^{+(2+(2,+(2,0)))}&:=&\n",
        "            \\overbrace{\\lambda mn.m~(+~n)~0}^{*(m,n)}~\n",
        "                \\overbrace{\\lambda fx. f(f(f~x))}^3~ \\overbrace{\\lambda fx. f(f~x)}^2 \\\\\n",
        "            &\\rhd& (\\lambda n.(\\lambda fx. f(f(f~x)))~(+~n)~0)\n",
        "                \\lambda fx. f(f~x) \\\\\n",
        "            &\\rhd& (\\lambda n.(\\lambda x. + n(+ n(+ n~x)))~0)\n",
        "                \\lambda fx. f(f~x) \\\\\n",
        "            &\\rhd& (\\lambda n.(+ n(+ n(+ n~0))))\n",
        "                \\lambda fx. f(f~x) \\\\\n",
        "            &\\rhd& (+ \\underbrace{\\lambda fx. f(f~x)}_2(+ \\underbrace{\\lambda fx. f(f~x)}_2(+ \\underbrace{\\lambda fx. f(f~x)}_2~0)))\n",
        "            \\\\\n",
        "            &\\rhd^*&\\underbrace{\\lambda fx. f(f(f(f(f(f~x)))))}_6\n",
        "\\end{align*}"
      ]
    },
    {
      "cell_type": "code",
      "execution_count": null,
      "metadata": {
        "id": "igYzYNsmagtd"
      },
      "outputs": [],
      "source": [
        "MULT = ..."
      ]
    },
    {
      "cell_type": "code",
      "execution_count": null,
      "metadata": {
        "id": "vZCDC4duas0A"
      },
      "outputs": [],
      "source": [
        "print_number(MULT(TRES)(DOIS))"
      ]
    },
    {
      "cell_type": "markdown",
      "metadata": {
        "id": "Fu2Sb6_SLj02"
      },
      "source": [
        "## Exercício: Exponenciação\n",
        "Faça uma função em Lambda Cálculo $EXP(m,n)$ que retorna a exponenciação $m^n$ de dois números (numerais de Church).\n",
        "\n",
        "A função exponenciação $m^n=\\overbrace{m *\\ldots* m}^n= *^n(m,1)$ será representada por $m^n:=\\lambda mn.n~(*~m)~1$\n",
        "\\begin{align*}\n",
        "        \\overbrace{3^2}^{*(3 *(3,1))}&:=&\n",
        "                \\overbrace{\\lambda mn.n~(*~m)~1}^{*(m,n)}~\n",
        "                    \\overbrace{\\lambda fx. f(f(f~x))}^3~ \\overbrace{\\lambda fx. f~(f~x)}^2 \\\\\n",
        "                &\\rhd& (\\lambda n.n~(*~3)~1)\n",
        "                    \\lambda fx. f(f~x) \\\\\n",
        "                &\\rhd& (\\lambda fx. f~(f~x)~(*~3)~1)\n",
        "                    \\\\\n",
        "                &\\rhd& (\\lambda x. *~3(*~3~x)~1)\n",
        "                    \\\\\n",
        "                &\\rhd& \\underbrace{(*~3(*~3~1))}_{3^2}\n",
        "\\end{align*}"
      ]
    },
    {
      "cell_type": "code",
      "execution_count": null,
      "metadata": {
        "id": "97L7G2hAL4nk"
      },
      "outputs": [],
      "source": [
        "EXP = ..."
      ]
    },
    {
      "cell_type": "code",
      "execution_count": null,
      "metadata": {
        "id": "kT_FyT7lMdlk"
      },
      "outputs": [],
      "source": [
        "print_number(EXP(TRES)(DOIS))"
      ]
    },
    {
      "cell_type": "markdown",
      "metadata": {
        "id": "Gu9d4x5Vcbhf"
      },
      "source": [
        "## Exercício: Testa se um número é zero\n",
        "Faça uma função em Lambda Cálculo $ISZERO(n)$ que dado um número (numeral de Church) retorna: verdadeiro (o lambda-termo V), se é zero; ou falso (o lambda-termo F) caso contrário .\n",
        "\n",
        "Testa se um número é zero\n",
        "$ISZERO(n):=\\lambda n.n~(\\lambda x.F)~V$\n",
        "\n",
        "\\begin{align*}\n",
        "        ISZERO(0)&:=&(\\lambda n.n~(\\lambda x.F)~V)~(\\lambda fx. x)\\\\\n",
        "        & \\rhd & (\\lambda fx. x)~(\\lambda x.F)~V \\\\\n",
        "        & \\rhd & (\\lambda x. x)~V \\\\\n",
        "        &\\rhd& V \\\\\n",
        "\\end{align*} \n",
        "\n",
        "\\begin{align*}\n",
        "        ISZERO(2)&:=&(\\lambda n.n~(\\lambda x.F)~V)~(\\lambda fx. f~( f~x))\\\\\n",
        "        & \\rhd & (\\lambda fx. f~( f~x))~(\\lambda x.F)~V \\\\\n",
        "        &\\rhd& \\lambda x.(((\\lambda x.F) ~((\\lambda x.F)~x)~V) \\\\\n",
        "        &\\rhd& ((\\lambda x.F) ~((\\lambda x.F)~V) \\\\\n",
        "        &\\rhd& F \\\\\n",
        "\\end{align*} "
      ]
    },
    {
      "cell_type": "code",
      "execution_count": null,
      "metadata": {
        "id": "-4jgCoYu62_J"
      },
      "outputs": [],
      "source": [
        "ISZERO = ..."
      ]
    },
    {
      "cell_type": "code",
      "execution_count": null,
      "metadata": {
        "id": "9qgNnALuc7qM"
      },
      "outputs": [],
      "source": [
        "print_boolean(ISZERO(DOIS))\n",
        "print_boolean(ISZERO(ZERO))\n"
      ]
    },
    {
      "cell_type": "markdown",
      "metadata": {
        "id": "fwzMCBBCNEEe"
      },
      "source": [
        "## [Função Predecessor](https://youtu.be/OsOjsnHxPBs)\n",
        "A função predecessor $$pred(n)=\\left\\{\n",
        "\\begin{align*}\n",
        "             n-1, \\text{ se }n>0\n",
        "           \\\\     0, \\text{ se }n=0\n",
        "\\end{align*}\\right.$$ \n",
        "\n",
        "Será definida como: $\\lambda nfx.n~(\\lambda gh.h~(g~f))~ (\\lambda u.x)~ (\\lambda u.u)$\n",
        "\n",
        "Note $\\dag^1$ que:\n",
        "\\begin{align*}\n",
        "            (\\lambda gh.h~(g~f))~ (\\lambda u.x)\n",
        "                &\\rhd& (\\lambda h.h~((\\lambda u.x)~f))  \\\\\n",
        "                &\\rhd& \\lambda h.h~x\n",
        "\\end{align*}\n",
        "Note $\\dag^2$ que:\n",
        "\n",
        "\\begin{align*}\n",
        "            (\\lambda gh.h~(g~f))~ (\\lambda h.h~ N)\n",
        "                &\\rhd& (\\lambda h.h~((\\lambda h.h~ N)~f))  \\\\\n",
        "                &\\rhd& \\lambda h.h~(f~N)\n",
        "\\end{align*}\n",
        "Note $\\dag^3$ que:\n",
        "\\begin{align*}\n",
        "            (\\lambda h.h~N)~ (\\lambda u.u)\n",
        "                &\\rhd& ((\\lambda u.u) N)  \\\\\n",
        "                &\\rhd& ~N\n",
        "\\end{align*}\n",
        "\n",
        "\n",
        "\\begin{align*}\n",
        " pred(2)&:= & \\overbrace{\\lambda nfx.n~(\\lambda gh.h~(g~f))~ (\\lambda u.x)~ (\\lambda u.u)}^{pred} ~\\overbrace{\\lambda fx. f(f~x)}^2\\\\\n",
        " &\\rhd& \\lambda fx.(\\lambda fx. f(f~x))~(\\lambda gh.h~(g~f))~ (\\lambda u.x)~ (\\lambda u.u) \\\\\n",
        " &\\rhd& \\lambda fx.(\\lambda x. (\\lambda gh.h~(g~f))((\\lambda gh.h~(g~f))~x))~ (\\lambda u.x)~ (\\lambda u.u) \\\\\n",
        " &\\rhd& \\lambda fx.((\\lambda gh.h~(g~f))\\underbrace{((\\lambda gh.h~(g~f))~(\\lambda u.x))}_{\\dag^1})~ (\\lambda u.u) \\\\\n",
        " &\\rhd& \\lambda fx.(\\underbrace{(\\lambda gh.h~(g~f))(\\lambda h. h~ x)}_{\\dag^2})~ (\\lambda u.u) \\\\\n",
        " &\\rhd& \\lambda fx.\\underbrace{((\\lambda h.h~(f~ x)))~ (\\lambda u.u)}_{\\dag^3} \\\\\n",
        " &\\rhd& \\lambda fx.f~ x\n",
        "\\end{align*}\n"
      ]
    },
    {
      "cell_type": "code",
      "execution_count": null,
      "metadata": {
        "id": "RzRpxK1mOQHG"
      },
      "outputs": [],
      "source": [
        "#λnfx.n (λgh.h (g f)) (λu.x) (λu.u)\n",
        "PRED = lambda n: lambda f: lambda x: n (lambda g: lambda h: h (g (f))) (lambda u:x) (lambda u: u)\n"
      ]
    },
    {
      "cell_type": "code",
      "execution_count": null,
      "metadata": {
        "id": "3tofgl6POlpW"
      },
      "outputs": [],
      "source": [
        "print_number(PRED(ZERO))\n",
        "print_number(PRED(UM))\n",
        "print_number(PRED(DOIS))\n",
        "print_number(SUC(PRED(TRES)))"
      ]
    },
    {
      "cell_type": "markdown",
      "metadata": {
        "id": "2Zgi4SeGmRNq"
      },
      "source": [
        "## Exercício: Subtração Própria\n",
        "\n",
        "A subtração própria ($x-^{\\!\\!\\! .} y$) de um número $x$ por um número $y$ é\n",
        "\\begin{align*}\n",
        "x-^{\\!\\!\\!\\! .}y=\\left\\{\n",
        "        \\begin{align*}\n",
        "             x-y, \\text{ se }x\\geq y\n",
        "           \\\\     0, \\text{ se }x< y\n",
        "        \\end{align*}\\right.\n",
        "\\end{align*}\n",
        "será definida por: $SUB := \\lambda m.\\lambda n.n~PRED~m$"
      ]
    },
    {
      "cell_type": "code",
      "execution_count": null,
      "metadata": {
        "id": "m1kMOh3Nm1ud"
      },
      "outputs": [],
      "source": [
        "#SUB := λm.λn.n PRED m\n",
        "SUB = ..."
      ]
    },
    {
      "cell_type": "code",
      "execution_count": null,
      "metadata": {
        "id": "VE1FnHO5m_XI"
      },
      "outputs": [],
      "source": [
        "print_number(SUB (TRES)(UM) )\n",
        "print_number(SUB (UM)(TRES) )"
      ]
    },
    {
      "cell_type": "markdown",
      "metadata": {
        "id": "BipOQusioVDE"
      },
      "source": [
        "## Exercício: Menor ou Igual\n",
        "A relação de  Menor ou Igual ($\\leq$) será definida por $LEQ := \\lambda m.\\lambda n.ISZERO~(SUB~m~n)$"
      ]
    },
    {
      "cell_type": "code",
      "execution_count": null,
      "metadata": {
        "id": "RK5Bij3YpeFK"
      },
      "outputs": [],
      "source": [
        "LEQ = ..."
      ]
    },
    {
      "cell_type": "code",
      "execution_count": null,
      "metadata": {
        "id": "4KdgS_B9ppii"
      },
      "outputs": [],
      "source": [
        "print_boolean(LEQ(DOIS)(TRES))\n",
        "print_boolean(LEQ(TRES)(DOIS))"
      ]
    },
    {
      "cell_type": "markdown",
      "metadata": {
        "id": "Aah65HYUwMBT"
      },
      "source": [
        "## Eager vs. Lazy Evaluation \n",
        "Em Python, a avaliação dos parâmetros de uma função ocorre *eager*, i.e., os parâmetros são avaliados antes do corpo de uma função. Para permitir uma avalição *lazy* podemos usar a seguinte estratégia: "
      ]
    },
    {
      "cell_type": "code",
      "execution_count": null,
      "metadata": {
        "id": "lSs6h6E72ufy"
      },
      "outputs": [],
      "source": [
        "V_L = lambda x: lambda y: x()\n",
        "F_L = lambda x: lambda y: y()"
      ]
    },
    {
      "cell_type": "code",
      "execution_count": null,
      "metadata": {
        "colab": {
          "base_uri": "https://localhost:8080/",
          "height": 35
        },
        "id": "wdhX7ZKsxmCF",
        "outputId": "4632040e-5f4e-45a5-9b32-51b1748f7e31"
      },
      "outputs": [
        {
          "data": {
            "application/vnd.google.colaboratory.intrinsic+json": {
              "type": "string"
            },
            "text/plain": [
              "'verdadeiro'"
            ]
          },
          "execution_count": 41,
          "metadata": {},
          "output_type": "execute_result"
        }
      ],
      "source": [
        "V_L(lambda:'verdadeiro')(lambda:'falso')"
      ]
    },
    {
      "cell_type": "code",
      "execution_count": null,
      "metadata": {
        "colab": {
          "base_uri": "https://localhost:8080/",
          "height": 35
        },
        "id": "UWiKvqgfxmMm",
        "outputId": "6a1cf4b4-98a2-4556-9b87-d9d5155e48df"
      },
      "outputs": [
        {
          "data": {
            "application/vnd.google.colaboratory.intrinsic+json": {
              "type": "string"
            },
            "text/plain": [
              "'falso'"
            ]
          },
          "execution_count": 42,
          "metadata": {},
          "output_type": "execute_result"
        }
      ],
      "source": [
        "F_L(lambda:'verdadeiro')(lambda:'falso')"
      ]
    },
    {
      "cell_type": "code",
      "execution_count": null,
      "metadata": {
        "colab": {
          "base_uri": "https://localhost:8080/"
        },
        "id": "2t7_m2IoyUFD",
        "outputId": "4112d43f-c611-43e4-a9f1-9e9f8ed854a9"
      },
      "outputs": [
        {
          "name": "stdout",
          "output_type": "stream",
          "text": [
            "verdadeiro\n",
            "falso\n"
          ]
        }
      ],
      "source": [
        "# Para exibir o \"valor\" da função\n",
        "def print_boolean_lazy(func):\n",
        "  print(func(lambda:'verdadeiro')(lambda:'falso'))\n",
        "\n",
        "print_boolean_lazy(V_L)\n",
        "print_boolean_lazy(F_L)"
      ]
    },
    {
      "cell_type": "code",
      "execution_count": null,
      "metadata": {
        "colab": {
          "base_uri": "https://localhost:8080/"
        },
        "id": "WsNnNCLJ30Yi",
        "outputId": "9e9aab25-a7a4-4ffa-e4b3-3aa1612996c8"
      },
      "outputs": [
        {
          "name": "stdout",
          "output_type": "stream",
          "text": [
            "falso\n",
            "verdadeiro\n"
          ]
        }
      ],
      "source": [
        "ISZERO_lazy = lambda n:n(lambda p:F_L)(V_L)\n",
        "print_boolean_lazy(ISZERO_lazy(DOIS))\n",
        "print_boolean_lazy(ISZERO_lazy(ZERO))"
      ]
    },
    {
      "cell_type": "code",
      "execution_count": null,
      "metadata": {
        "id": "7roG5TC-y4Jn"
      },
      "outputs": [],
      "source": [
        "IFTE_lazy = ...\n",
        "IFTE_lazy(V_L)(lambda:'a')(lambda:'b')\n"
      ]
    },
    {
      "cell_type": "code",
      "execution_count": null,
      "metadata": {
        "colab": {
          "base_uri": "https://localhost:8080/"
        },
        "id": "Jw950Ng8yZhz",
        "outputId": "61c00551-11e6-431b-e441-45a3f4e3f992"
      },
      "outputs": [
        {
          "name": "stdout",
          "output_type": "stream",
          "text": [
            "verdadeiro\n",
            "verdadeiro\n",
            "falso\n"
          ]
        }
      ],
      "source": [
        "LEQ_lazy = ...\n",
        "print_boolean_lazy(LEQ_lazy(DOIS)(DOIS))\n",
        "print_boolean_lazy(LEQ_lazy(DOIS)(QUATRO))\n",
        "print_boolean_lazy(LEQ_lazy(DOIS)(UM))"
      ]
    },
    {
      "cell_type": "markdown",
      "metadata": {
        "id": "prF2pgNLRfdY"
      },
      "source": [
        "# [Recursão e Ponto-Fixo](https://youtu.be/aYQrpwyvpWU)\n",
        "Em $\\lambda-$cálculo, uma função não pode referenciar a si mesma. Entretanto, pode usar a si mesma como parâmetro. De certa forma, o operador de ponto-fixo implementa essa ideia.\n",
        "                \n",
        "Seja $f:A\\rightarrow A$ uma função. Dizemos que $x\\in A$ é um Ponto-Fixo se $f(x)=x$. \n",
        "\n",
        "> Exemplos:\n",
        ">\n",
        "> \\begin{align*}\n",
        "    id:&id(x)=x & \\qquad\\textrm{ Todos os números } &\\\\\n",
        "    n^2:&\\mathbb{N}\\rightarrow\\mathbb{N} & \\qquad0\\textrm{ e }1&\\\\\n",
        "    n^2-2n:&\\mathbb{N}\\rightarrow\\mathbb{N} & \\qquad0\\textrm{ e }3&\\\\\n",
        "    sucessor:&\\mathbb{N}\\rightarrow\\mathbb{N} & \\qquad\\textrm{ não há }&\n",
        "  \\end{align*}\n",
        "\n",
        "Um operador de Ponto-Fixo $M$ é um $\\lambda$-termo tal que, para todo $\\lambda$-termo T, temos que: \n",
        "\n",
        "\\begin{align*}\n",
        "  M~T= T~(M~T)\n",
        "\\end{align*}\n",
        "Portanto, um operador de Ponto-Fixo é um $\\lambda$-termo que gera um Ponto-Fixo para qualquer função. Um dos possíveis $\\lambda$-termo para Ponto-Fixo é:\n",
        "\n",
        "\\begin{align*}\n",
        "  M:=\\lambda f.(\\lambda x. f~(x~x))(\\lambda x. f~(x~x))\n",
        "\\end{align*}\n",
        "\n",
        "Para $M~T= T\\textrm{ (M T)}$ devemos demonstrar que os dois termos se reduzem ao mesmo $\\lambda$-termo:\n",
        "\n",
        "\\begin{align*}\n",
        "                M~T& = &\\lambda f.(\\lambda x. f~(x~x))(\\lambda x. f~(x~x))~T\\\\\n",
        "                & \\rhd &(\\lambda x. T~(x~x))(\\lambda x. T~(x~x)) \\\\\n",
        "                & \\rhd &T~((\\lambda x. T~(x~x))(\\lambda x. T~(x~x)))\n",
        "\\\\\n",
        "\\\\\n",
        "                T~(M~T)& = &T~(\\lambda f.(\\lambda x. f~(x~x))(\\lambda x. f~(x~x))~T)\\\\\n",
        "                & \\rhd &T~((\\lambda x. T~(x~x))(\\lambda x. T~(x~x)))\n",
        "\\end{align*}"
      ]
    },
    {
      "cell_type": "code",
      "execution_count": null,
      "metadata": {
        "id": "mhgeFRcwS6pz"
      },
      "outputs": [],
      "source": [
        "# λf.(λx.f (x x))(λx.f (x x))\n",
        "#M = lambda f: (lambda x: f (x (x))) (lambda x: f (x (x)))\n",
        "# Como em Python temos eager evaluation, precisamos forçar a lazy:\n",
        "# λf.(λx.f (λz.(x x)(z)))(λx.f (λz.(x x)(z)))\n",
        "M = lambda f: (lambda x: f (lambda z: (x (x))(z))) (lambda x: f (lambda z: (x (x))(z)))"
      ]
    },
    {
      "cell_type": "markdown",
      "metadata": {
        "id": "Q_Baxxm4Td-f"
      },
      "source": [
        "## [Fatorial](https://youtu.be/n96Kr6ug_O8)\n",
        "Seja $T:=\\lambda rn.(ISZERO~n)~~1~(*~ n~~(r~(pred \\textrm{ }n)))$. A **Função Fatorial** é $FAT:=M~T$\n",
        "\n",
        "\\begin{align*}\n",
        " FAT~2 &=& M~T~2\\\\\n",
        " &=&T~(M~T)~2\\\\\n",
        " &\\rhd & (\\lambda rn.(ISZERO~n)~1~(*~ n~(r~(pred\\ n)))) (M~T)~2\\\\\n",
        " &\\rhd & (\\lambda n.(ISZERO~n)~1~(*~ n~((M~T)~(pred\\ n)))) ~2\\\\\n",
        " &\\rhd & (ISZERO~0)~1~(*~ 2~((M~T)~(pred\\ 2))) \\\\\n",
        " &\\rhd & ~*~2~((M~T)~(1)) \\\\\n",
        " &= & ~*~2~(T~ (M~T)~(1)) \\\\\n",
        " &\\rhd & ~*~2~(\n",
        " (\\lambda rn.(ISZERO~n)~~1~(*~ n~~(r~(pred\\ n))))~ (M~T)~(1)) \\\\\n",
        " &\\rhd & ~*~2~(\n",
        " (\\lambda n.(ISZERO~n)~~1~(*~ n~~((M~T)~(pred\\ n))))~ ~(1)) \\\\\n",
        " &\\rhd & ~*~2~(\n",
        " (ISZERO~1)~~1~(*~ 1~~((M~T)~(pred\\ 1)))) \\\\\n",
        " &\\rhd & ~*~2~( *~ 1~~((M~T)~0)~) \\\\\n",
        " &= & ~*~2~( *~ 1~~(T~(M~T)~0)~) \\\\\n",
        " &\\rhd & ~*~2~( *~ 1~~(\n",
        " \\lambda rn.(ISZERO~n)~~1~*~ n~~(r~(pred\\ n))\n",
        " ~(M~T)~0)~) \\\\\n",
        " &\\rhd & ~*~2~( *~ 1~~(\n",
        " \\lambda n.(ISZERO~n)~~1~*~ n~~((M~T)~(pred\\ n))\n",
        " ~0)~) \\\\\n",
        " &\\rhd & ~*~2~( *~ 1~~(\n",
        " (ISZERO~0)~~1~*~ (0~~((M~T)~(pred\\ 0))\n",
        " ))) \\\\\n",
        " &\\rhd & ~*~2~( *~ 1~~1)\\\\\n",
        " &\\rhd^{*} & 2\\\\\n",
        "\\end{align*}"
      ]
    },
    {
      "cell_type": "code",
      "execution_count": null,
      "metadata": {
        "id": "X1vleaHjTcxe"
      },
      "outputs": [],
      "source": [
        "#λrn.ISZERO(n) 1 (∗ n  (r (pred n)))\n",
        "#T = lambda r: lambda n: ISZERO(n) (UM) (MULT (n) (r (PRED(n))))\n",
        "#Como em função em Python temos eager evaluation, precisamos torná-la lazy para evitar RecursionError: maximum recursion depth exceeded\n",
        "T = lambda r: lambda n: ISZERO_lazy(n) (lambda: UM) (lambda:MULT (n) (r (PRED(n))))\n",
        "\n",
        "FAT = M(T)"
      ]
    },
    {
      "cell_type": "code",
      "execution_count": null,
      "metadata": {
        "id": "hWJtPm5mTTzN"
      },
      "outputs": [],
      "source": [
        "print_number(FAT(CINCO))"
      ]
    },
    {
      "cell_type": "markdown",
      "metadata": {
        "id": "BYC1o1nI9lHD"
      },
      "source": [
        "## Soma de forma recursiva\n",
        "A equação da função soma $soma(x,y)=x+y=x+\\overbrace{1+\\ldots +1}^y$ é\n",
        "  \n",
        "  \\begin{align*}\n",
        "    soma(x,0) &=& x \\\\\n",
        "    soma(x,y+1) &=& soma(x,y)+1\n",
        "  \\end{align*}\n",
        "\n",
        "Seja $FSOMA:=\\lambda rxy.(ISZERO~y)~~x~SUC(r~x~ (pred \\textrm{ }n))$. \n",
        "\n",
        "A **Função Soma Recursivav** é $SOMA\\_RECURSIVA:=M~FSOMA$"
      ]
    },
    {
      "cell_type": "code",
      "execution_count": null,
      "metadata": {
        "id": "30cSgQ6O9s44"
      },
      "outputs": [],
      "source": [
        "FSOMA = lambda r: lambda x: lambda y: (ISZERO_lazy (y)) (lambda: x)  (lambda: SUC (r (x) (PRED (y))))\n",
        "SOMA_RECURSIVA = M(FSOMA)\n",
        "print_number(SOMA_RECURSIVA (TRES)(DOIS))\n",
        "print_number(SOMA_RECURSIVA (QUATRO)(DOIS))\n",
        "print_number(SOMA_RECURSIVA (TRES)(ZERO))"
      ]
    },
    {
      "cell_type": "markdown",
      "metadata": {
        "id": "EvRmENJYGqyZ"
      },
      "source": [
        "## Exercício: Número de Fibonacci \n",
        "\n",
        "\\begin{align*}\n",
        "        fib(n)=\\left\\{\n",
        "        \\begin{align*}\n",
        "             n, \\text{ se }n\\leq 2\n",
        "           \\\\     fib(n-1)+fib(n-2), \\text{ caso contrário }\n",
        "        \\end{align*}\\right.\n",
        "\\end{align*}\n"
      ]
    },
    {
      "cell_type": "code",
      "execution_count": null,
      "metadata": {
        "id": "bNCMkBTyGp5m"
      },
      "outputs": [],
      "source": [
        "FT = ...\n",
        "\n",
        "FIB = M(FT)"
      ]
    },
    {
      "cell_type": "code",
      "execution_count": null,
      "metadata": {
        "id": "bLWQnTgHH_e3"
      },
      "outputs": [],
      "source": [
        "print_number(FIB(ZERO))\n",
        "print_number(FIB(UM))\n",
        "print_number(FIB(DOIS))\n",
        "print_number(FIB(TRES))\n",
        "print_number(FIB(QUATRO))\n",
        "print_number(FIB(SUC(QUATRO)))\n",
        "print_number(FIB(SUC(SUC(QUATRO))))\n",
        "print_number(FIB(SUC(SUC(SUC(QUATRO)))))"
      ]
    },
    {
      "cell_type": "markdown",
      "metadata": {
        "id": "b7U6huzA_C1n"
      },
      "source": [
        "## Exercício: Defina a multiplicação de forma recursiva\n",
        "A equação da função multiplicação $m(x,y)=x.y=\\overbrace{x+\\ldots +x}^y$ é\n",
        "  \n",
        "  \\begin{align*}\n",
        "    m(x,0) &=& 0 \\\\\n",
        "    m(x,y+1) &=& m(x,y)+x\n",
        "  \\end{align*}"
      ]
    },
    {
      "cell_type": "code",
      "execution_count": null,
      "metadata": {
        "id": "PDuMOTxp_OHp"
      },
      "outputs": [],
      "source": [
        "FMULT = ...\n",
        "MULT_RECURSIVA = M(FMULT)\n",
        "print_number(MULT_RECURSIVA (TRES)(DOIS))\n",
        "print_number(MULT_RECURSIVA (QUATRO)(DOIS))\n",
        "print_number(MULT_RECURSIVA (TRES)(ZERO))\n"
      ]
    },
    {
      "cell_type": "markdown",
      "metadata": {
        "id": "-zi6nEae_OVG"
      },
      "source": [
        "## Exercício: Defina a exponenciação de forma recursiva\n",
        "A equação da função multiplicação $exp(x,y)=x^y=\\overbrace{x*\\ldots *x}^y$ é\n",
        "  \n",
        "  \\begin{align*}\n",
        "    exp(x,0) &=& 1\\\\\n",
        "    exp(x,y+1) &=& exp(x,y)*x\n",
        "  \\end{align*}"
      ]
    },
    {
      "cell_type": "code",
      "execution_count": null,
      "metadata": {
        "id": "GdcXiRMk_Z-Q"
      },
      "outputs": [],
      "source": [
        "FEXP = ...\n",
        "EXP_RECURSIVA = M(FEXP)\n",
        "print_number(EXP_RECURSIVA (TRES)(DOIS))\n",
        "print_number(EXP_RECURSIVA (QUATRO)(DOIS))\n",
        "print_number(EXP_RECURSIVA (TRES)(ZERO))"
      ]
    },
    {
      "attachments": {},
      "cell_type": "markdown",
      "metadata": {},
      "source": [
        "<!--NAVIGATION-->\n",
        "< [Funções Recursivas de Kleene](./Cap%C3%ADtulo_04_Fun%C3%A7%C3%B5es_Recursivas_de_Kleene.ipynb) | [Índice](./index.ipynb) | [Indecibilidade](./Cap%C3%ADtulo_06_Indecidibilidade.ipynb) >\n"
      ]
    }
  ],
  "metadata": {
    "colab": {
      "provenance": []
    },
    "kernelspec": {
      "display_name": "base",
      "language": "python",
      "name": "python3"
    },
    "language_info": {
      "name": "python",
      "version": "3.9.7"
    },
    "vscode": {
      "interpreter": {
        "hash": "40d3a090f54c6569ab1632332b64b2c03c39dcf918b08424e98f38b5ae0af88f"
      }
    }
  },
  "nbformat": 4,
  "nbformat_minor": 0
}
