{
  "cells": [
    {
      "cell_type": "markdown",
      "metadata": {
        "id": "0FNiW59aAlpT"
      },
      "source": [
        "# Teoria da Computação: Funções Recursivas de Kleene\n",
        "> *Autor: Davi Romero de Vasconcelos, daviromero@ufc.br, Universidade Federal do Ceará, Campus de Quixadá, Setembro de 2021*.\n",
        "> *(Última atualização 12/12/2021)*\n",
        "\n",
        "Este material foi preparado para a disciplina de Teoria da Computação com a finalidade de apresentar os conceitos básicos do modelo computacional Funçõe Recursivas de Kleene na Linguagem de Programação Python. Para cada seção é apresentado um link (no título da seção) com um vídeo explicando o conteúdo a ser abordado. Uma Playlist com todo o conteúdo de Funções Recursivas de Kleene está disponível no [YouTube](https://youtube.com/playlist?list=PLfOnKvd6pFirXDbgF4OeZDTfRnMj4B-QL)."
      ]
    },
    {
      "attachments": {},
      "cell_type": "markdown",
      "metadata": {},
      "source": [
        "A célula abaixo contém a implementação em Python das Funções Recursivas de Kleene. \n",
        "> Não é necessário conhecer o código aqui implementado ou mesmo ter um conhecimento profundo da linguagem Python. Basta acompanhar os exemplos e experimentar construir seus próprios modelos.\n",
        ">*Execute esta célula (`ctrl+enter` ou clicando no botão ao lado) para que o ambiente seja carregado com as classes implementadas.*\n"
      ]
    },
    {
      "cell_type": "code",
      "execution_count": null,
      "metadata": {
        "cellView": "form",
        "id": "LrC_Zauatezn"
      },
      "outputs": [],
      "source": [
        "!pip install teocomp -q\n",
        "from teocomp.fr_kleene import z, s, u, composicao,composicao_2, rec, somatorio, produtorio, if_then_else, exists_leq, forall_leq, Min"
      ]
    },
    {
      "cell_type": "markdown",
      "metadata": {
        "id": "7Qax5JLKri14"
      },
      "source": [
        "# [Funções Recursivas de Kleene](https://youtu.be/ejnMItL0yXU)\n",
        "As Funções Recursivas Parciais são funções construídas sobre três operações básicas:\n",
        "- Natural Zero visto como uma função $z:\\mathbb{N}\\rightarrow\\mathbb{N}$, onde $z(x)=0$\n",
        "- Sucessor $s:\\mathbb{N}\\rightarrow\\mathbb{N}$, onde $s(x)= x+1$\n",
        "- Projeção $u^{n}_{i}:\\mathbb{N}^n\\rightarrow\\mathbb{N}$, onde $u^n_i(x_1,\\ldots,x_n)=x_i$\n",
        "\n",
        "Juntamente com as seguintes operações:\n",
        "- Substituição Composicional que generaliza o conceito de composição funcional.\n",
        "- Recursão que define uma função em termos dela mesma\n",
        "- Minimização que busca, em tempo finito, o menor valor para o qual uma certa condição ocorre"
      ]
    },
    {
      "cell_type": "code",
      "execution_count": null,
      "metadata": {
        "colab": {
          "base_uri": "https://localhost:8080/"
        },
        "id": "N2v4hGgQribD",
        "outputId": "036c1020-9dc8-425f-c718-085b6cd7e9f1"
      },
      "outputs": [],
      "source": [
        "print(\"Natural Zero visto como uma função  z:N→N , onde  z(x)=0\")\n",
        "print(f\"z(1) = {z(1)}\")\n",
        "print(f\"z(2) = {z(2)}\")\n",
        "print(f\"z(_) = {z(_)}\")"
      ]
    },
    {
      "cell_type": "code",
      "execution_count": null,
      "metadata": {
        "colab": {
          "base_uri": "https://localhost:8080/"
        },
        "id": "9Ps1euDRsCAz",
        "outputId": "6f4e9c87-28b6-48bf-a784-e12df1f704bc"
      },
      "outputs": [],
      "source": [
        "print(\"Sucessor  s:N→N , onde  s(x)=x+1\")\n",
        "print(f\"s(s(z(1))) = {s(s(z(1)))}\")\n",
        "print(f\"s(s(z(2))) = {s(s(z(2)))}\")\n",
        "print(f\"s(s(z(_))) = {s(s(z(_)))}\")"
      ]
    },
    {
      "cell_type": "code",
      "execution_count": null,
      "metadata": {
        "colab": {
          "base_uri": "https://localhost:8080/"
        },
        "id": "8VvIMCZBC0iS",
        "outputId": "981b1c6d-7e49-4543-ee9f-d0fd5e3f137c"
      },
      "outputs": [],
      "source": [
        "print(\"Projeção com argumentos arbitrários u(i,x1,…,xn)=xi\\n\")\n",
        "\n",
        "print(\"Projeção com 1 argumento u(i,x)=xi\")\n",
        "print(\"u(1,4) =\",u(1,4))\n",
        "print(\"Projeção com 2 argumento u(i,x1,x2)=xi\")\n",
        "print(\"u(1,5,6) =\",u(1,5,6))\n",
        "print(\"u(2,5,6) =\",u(2,5,6))\n",
        "print(\"Projeção com 3 argumento u(i,x1,x2,x3)=xi\")\n",
        "print(\"u(1,7,8,9) =\",u(1,7,8,9))\n",
        "print(\"u(2,7,8,9) =\",u(2,7,8,9))\n",
        "print(\"u(3,7,8,9) =\",u(3,7,8,9))"
      ]
    },
    {
      "cell_type": "markdown",
      "metadata": {
        "id": "Q7GtTc8myPXy"
      },
      "source": [
        "## [Substituição Composicional](https://youtu.be/W2tnJijXoI0)\n",
        "\n",
        "Queremos combinar funções computáveis de uma forma que a saída de uma seja a entrada de outra.\n",
        "\n",
        "No caso de apenas uma entrada, combinamos a função $f:\\mathbb{N}\\rightarrow\\mathbb{N}$ e $g:\\mathbb{N}\\rightarrow\\mathbb{N}$ para obter a função $h:\\mathbb{N}\\rightarrow\\mathbb{N}$ tal que:\n",
        "\\begin{equation*}\n",
        "h(x)=f(g(x))\n",
        "\\end{equation*}\n",
        "Generalizando, sejam $f:\\mathbb{N}^k\\rightarrow\\mathbb{N}$ uma função de $k$ entradas e $g_1,g_2,\\ldots g_k$ funções de $n$ entradas ($g_i:\\mathbb{N}^n\\rightarrow\\mathbb{N}$), definimos $h:\\mathbb{N}^n\\rightarrow\\mathbb{N}$ como\n",
        "\\begin{equation*}\n",
        "h(x_1,\\ldots,x_n)=f(g_1(x_1,\\ldots,x_n),\\ldots,g_k(x_1,\\ldots,x_n))\n",
        "\\end{equation*}\n",
        "\n",
        "Suponha as seguintes funções:\n",
        "- $z:\\mathbb{N}\\rightarrow\\mathbb{N}$, onde $z(x)=0$\n",
        "- Sucessor $s:\\mathbb{N}\\rightarrow\\mathbb{N}$, onde $s(x)= x+1$\n",
        "- Soma $soma:\\mathbb{N}\\times\\mathbb{N}\\rightarrow\\mathbb{N}$, onde $soma(x,y)= x+y$\n",
        "\n",
        "As seguintes funções podem ser definidas:\n",
        "- $f_{1}:\\mathbb{N}\\rightarrow\\mathbb{N}$, onde $f_1(x)=s(z(x))$\n",
        "- $f_{2}:\\mathbb{N}\\rightarrow\\mathbb{N}$, onde $f_2(x)=s(f_1(x))$\n",
        "- $f_{3}:\\mathbb{N}\\rightarrow\\mathbb{N}$, onde $f_3(x)=s(f_2(x))$ ou $f_3(x)=soma(f_1(x),f_2(x))$\n"
      ]
    },
    {
      "cell_type": "code",
      "execution_count": null,
      "metadata": {
        "id": "kgrsL2L0syhM"
      },
      "outputs": [],
      "source": [
        "#Apenas para efeito didático considere a função soma.\n",
        "def soma(x,y):\n",
        "  return x+y"
      ]
    },
    {
      "cell_type": "code",
      "execution_count": null,
      "metadata": {
        "id": "EZA8EZm2TtXT"
      },
      "outputs": [],
      "source": [
        "# Implemente a função f1(x)=1 como a composição das funções primitivas recursivas s e z: f1(x)=s(z(x))\n",
        "def f1(x):\n",
        "  return composicao(x)(s,z)\n",
        "  # Como Python já aceita nativamente a composição de funções bastaria retornar: s(z(x)), ou seja:\n",
        "  # return s(z(x))\n",
        "\n",
        "print(f'f1(2) = {f1(2)}')\n",
        "print(f'f1(4) = {f1(4)}')"
      ]
    },
    {
      "cell_type": "code",
      "execution_count": null,
      "metadata": {
        "id": "Q6e0Ww1aTyXL"
      },
      "outputs": [],
      "source": [
        "# Implemente a função f2(x)=2 como a composição das funções primitivas recursivas s e f1: f2(x)=s(f1(x))\n",
        "def f2(x):\n",
        "...\n",
        "\n",
        "print(f'f2(2) = {f2(2)}')\n",
        "print(f'f2(4) = {f2(4)}')"
      ]
    },
    {
      "cell_type": "code",
      "execution_count": null,
      "metadata": {
        "id": "8uzyp3DfT1tr"
      },
      "outputs": [],
      "source": [
        "# Implemente a função f3(x)=3 como a composição das funções primitivas recursivas s e f2: f3(x)=s(f2(x))\n",
        "def f3(x):\n",
        "...\n",
        "\n",
        "print(f'f3(2) = {f3(2)}')\n",
        "print(f'f3(4) = {f3(4)}')"
      ]
    },
    {
      "cell_type": "code",
      "execution_count": null,
      "metadata": {
        "id": "ThLmxhh7T91r"
      },
      "outputs": [],
      "source": [
        "# Implemente a função f3(x)=1+2 como a composição das funções primitivas recursivas soma, f1 e f2: f3(x)=soma(f1(x),f2(x))\n",
        "def f3(x):\n",
        "  return composicao_2(x)(soma, f1,f2)\n",
        "  # Como Python já aceita nativamente a composição de funções bastaria retornar: soma(f1(x),f2(x)), ou seja:\n",
        "  # return soma(f1(x),f2(x))\n",
        "\n",
        "print(f'f3(2) = {f3(2)}')\n",
        "print(f'f3(4) = {f3(4)}')"
      ]
    },
    {
      "cell_type": "markdown",
      "metadata": {
        "id": "-DO1Vatu03xp"
      },
      "source": [
        "## [Função Recursiva](https://youtu.be/CNvRx-VvxlA)\n",
        "- Considere uma função recursiva com um único argumento $y$ (recursão):\n",
        "\n",
        "  Suponha que $k$ é um dado número. Definimos uma função recursiva em $y$ da seguinte forma:\n",
        "  \n",
        "  \\begin{align*}\n",
        "  h(0) &= k& \\\\\n",
        "  h(y+1) &= g(y,h(y))&\n",
        "  \\end{align*}\n",
        "  $h$ é dito ser obtido a partir de $g$ por recursão primitiva, ou simplesmente recursão.\n",
        "\n",
        "- Considere uma função recursiva com dois argumentos $x$ e $y$ (com recursão em $y$):\n",
        "\n",
        "  Suponha sejam $f:\\mathbb{N}\\rightarrow\\mathbb{N}$ uma função de $1$ entrada e $g:\\mathbb{N}\\times\\mathbb{N}\\times\\mathbb{N}\\rightarrow\\mathbb{N}$ uma função de $3$ entradas. Definimos $h:\\mathbb{N}\\times\\mathbb{N}\\rightarrow\\mathbb{N}$ como\n",
        "  \\begin{align*}\n",
        "    h(x,0) &= f(x)& \\\\\n",
        "    h(x,y+1) &= g(x,y,h(x,y))&\n",
        "  \\end{align*}\n",
        "\n",
        "\n",
        "- Generalizando, sejam $f:\\mathbb{N}^n\\rightarrow\\mathbb{N}$ uma função de $n$ entradas e $g:\\mathbb{N}^{n+2}\\rightarrow\\mathbb{N}$ uma função de $n+2$ entradas. Definimos $h:\\mathbb{N}^{n+1}\\rightarrow\\mathbb{N}$ como\n",
        "  \\begin{align*}\n",
        "    h(x_1,\\ldots,x_n,0) &= f(x_1,\\ldots,x_n)& \\\\\n",
        "    h(x_1,\\ldots,x_n,y+1) &= g(x_1,\\ldots,x_n,y,h(x_1,\\ldots,x_n,y))&\n",
        "  \\end{align*}"
      ]
    },
    {
      "cell_type": "markdown",
      "metadata": {
        "id": "CzCFSmaLIBfW"
      },
      "source": [
        "## [Soma](https://youtu.be/NMlMyk9TPm4)\n",
        "A equação da função soma $soma(x,y)=x+y=x+\\overbrace{1+\\ldots +1}^y$ é\n",
        "  \\begin{align*}\n",
        "    soma(x,0) &= x& \\\\\n",
        "    soma(x,y+1) &= soma(x,y)+1&\n",
        "  \\end{align*}\n",
        "\n",
        "> **Exemplo:**\n",
        "\\begin{align*}\n",
        "soma(3,2) = soma(3,1)+1= soma(3,0)+1+1=3+1+1=5\n",
        "\\end{align*}\n",
        "\n",
        "A função Soma $soma:\\mathbb{N}\\times\\mathbb{N}\\rightarrow\\mathbb{N}$, onde $soma(x,y)= x+y$ pode ser definida, utilizando as funções primitivas, recursivamente da seguinte forma:\n",
        "\\begin{align*}\n",
        "  soma(x,0) & =  f(x) & = & u^1_1(x) &\\\\\n",
        "  soma(x,y+1) & =  g(x,y,soma(x,y))&=&  s(u^3_3(x,y,soma(x,y)))&\n",
        "\\end{align*}\n",
        "\n",
        "Neste caso, $f(x)=u^1_1(x)$ e $g(x_1,x_2,x_3)=s(u_3^3(x_1,x_2,x_3))$\n",
        "\n",
        "> **Exemplo:**\n",
        "> \\begin{align*}\n",
        "soma(3,2) & = & s(u^3_3(3,1,soma(3,1))) \\\\\n",
        "       & = & s(soma(3,1)) \\\\\n",
        "       & = & s(s(u^3_3(3,0,soma(3,0)))) \\\\\n",
        "       & = & s(s(soma(3,0))) \\\\\n",
        "       & = & s(s(u^1_1(3))) \\\\\n",
        "       & = & s(s(3)) \\\\\n",
        "       & = & 5\n",
        "\\end{align*}\n"
      ]
    },
    {
      "cell_type": "code",
      "execution_count": null,
      "metadata": {
        "id": "JNBtVB7vryRk"
      },
      "outputs": [],
      "source": [
        "# Implemente a função soma, utilizando apenas as funções recursivas de Kleene.\n",
        "def fSoma(x):\n",
        "  return u(1,x)\n",
        "def gSoma(x1,x2,x3):\n",
        "  return s(u(3,x1,x2,x3))\n",
        "def soma(x,y):\n",
        "  return rec(x,y)(fSoma,gSoma)\n",
        "soma(3,14)"
      ]
    },
    {
      "cell_type": "markdown",
      "metadata": {
        "id": "jw6jdqIUHv4Y"
      },
      "source": [
        "## [Multiplicação](https://youtu.be/Fp-yeYYlOgU)\n",
        "A equação da função multiplicação $m(x,y)=x.y=\\overbrace{x+\\ldots +x}^y$ é\n",
        "  \n",
        "  \\begin{align*}\n",
        "    m(x,0) &= 0& \\\\\n",
        "    m(x,y+1) &= m(x,y)+x&\n",
        "  \\end{align*}\n",
        "    Pode ser reescrita como segue\n",
        "  \n",
        "  \\begin{align*}\n",
        "      m(x,0) & =  f(x)  &= & z(x) & \\\\\n",
        "      m(x,y+1) & =  g(x,y,m(x,y))  &= & soma(u^3_3(x,y,m(x,y)),u^3_1(x,y,m(x,y)))&\n",
        "  \\end{align*}\n",
        "  Neste caso, $g(x_1,x_2,x_3)=soma(u_3^3(x_1,x_2,x_3),u_1^3(x_1,x_2,x_3))$\n",
        "\n",
        "> **Exemplo:**\n",
        ">  \n",
        "> \\begin{align*}\n",
        "        m(3,2) & = & soma(u^3_3(3,1,m(3,1)),u^3_1(3,1,m(3,1))) \\\\\n",
        "       & = & soma(m(3,1),3) \\\\\n",
        "       & = & soma(soma(u^3_3(3,0,m(3,0)),u^3_1(3,0,m(3,0))),3) \\\\\n",
        "       & = & soma(soma(m(3,0),3),3) \\\\\n",
        "       & = & soma(soma(z(3),3),3) \\\\\n",
        "       & = & soma(soma(0,3),3) \\\\\n",
        "       & = & 6\n",
        "  \\end{align*}\n"
      ]
    },
    {
      "cell_type": "code",
      "execution_count": null,
      "metadata": {
        "id": "EpEA62vWr0Gq"
      },
      "outputs": [],
      "source": [
        "# Implemente a função multiplicação, utilizando apenas as funções recursivas de Kleene."
      ]
    },
    {
      "cell_type": "markdown",
      "metadata": {
        "id": "4BsDm2T9JIXy"
      },
      "source": [
        "## [Função Fatorial](https://youtu.be/31o_680kT5o)\n",
        "A equação fatorial $fat(x)=x!$ é\n",
        "  \n",
        "  \\begin{align*}\n",
        "    fat(0) &= 1& \\\\\n",
        "    fat(y+1) &= fat(y).s(y)&\n",
        "  \\end{align*}\n",
        "    Pode ser reescrita como segue\n",
        "  \n",
        "  \\begin{align*}\n",
        "      fat(0) &= k &=& s(z(x)) & \\\\\n",
        "      fat(y+1) &= g(y,fat(y)) &=& m(u^2_2(y,fat(y)),~ s(u^2_1(y,fat(y))))&\n",
        "  \\end{align*}\n",
        "\n",
        "Neste caso, $g(x_1,x_2)=m(u^2_2(x_1,x_2),~ s(u^2_1(x_1,x_2)))=m(x_2, s(x_1))$"
      ]
    },
    {
      "cell_type": "code",
      "execution_count": null,
      "metadata": {
        "id": "6EYSk1bZr3sy"
      },
      "outputs": [],
      "source": [
        "# Implemente a função fatorial, utilizando apenas as funções recursivas de Kleene."
      ]
    },
    {
      "attachments": {},
      "cell_type": "markdown",
      "metadata": {
        "id": "XdIHl4CFOp_j"
      },
      "source": [
        "## [Antecessor](https://youtu.be/IzHOMXlTqLs)\n",
        "O antecessor de um número $a(x)$ é\n",
        "  \n",
        "  \\begin{align*}\n",
        "    a(x)=\\left.\n",
        "    \\begin{cases}\n",
        "          0, \\text{ se }x= 0\n",
        "    \\\\    x-1, \\text{ se }x\\neq 0\n",
        "    \\end{cases}\\right.\n",
        "  \\end{align*}\n",
        "    Pode ser reescrita como segue\n",
        "  \n",
        "  \\begin{align*}\n",
        "      a(0) &=& z(x) & &   \\\\\n",
        "      a(y+1) &=& g(y,a(y)) &=& u^2_1(y,a(y))\n",
        "  \\end{align*}\n",
        "\n",
        "Neste caso, $g(x_1,x_2)=u^2_1(x_1,x_2) =x_1$"
      ]
    },
    {
      "cell_type": "code",
      "execution_count": null,
      "metadata": {
        "id": "UHBXTV-Tr5kz"
      },
      "outputs": [],
      "source": [
        "# Implemente a função antecessor, utilizando apenas as funções recursivas de Kleene."
      ]
    },
    {
      "attachments": {},
      "cell_type": "markdown",
      "metadata": {
        "id": "kWdQY9Ovp2BI"
      },
      "source": [
        "## [Subtração Própria](https://youtu.be/J9U5CFP2aXU)\n",
        "A subtração própria ($x-^{\\!\\!\\!.} y$) de um número $x$ por um número $y$ é\n",
        "   \n",
        "\\begin{align*}\n",
        "  x-^{\\!\\!\\!.}y=\\left.\n",
        "  \\begin{cases}\n",
        "        x-y, \\text{ se }x\\geq y\n",
        "  \\\\     0, \\text{ se }x< y\n",
        "  \\end{cases}\\right.\n",
        "\\end{align*}\n",
        "Ou seja,\n",
        "  \n",
        "  \\begin{align*}\n",
        "    x-^{\\!\\!\\!\\! .}0 &=& x \\\\\n",
        "   x-^{\\!\\!\\!\\! .}(y+1) &=& a(x-^{\\!\\!\\!\\! .}y)\n",
        "  \\end{align*}\n",
        "> **Exemplo:**\n",
        ">  \n",
        "> \\begin{align*}\n",
        "    3-^{\\!\\!\\!\\! .}2 &=& a( 3-^{\\!\\!\\!\\! .}1)=a( a(3-^{\\!\\!\\!\\! .}0))=a(a(3))=1  \n",
        "  \\end{align*}\n",
        "\n",
        "Pode ser reescrita como segue\n",
        "  \n",
        "  \\begin{align*}\n",
        "      x-^{\\!\\!\\!\\! .}0 &=& f(x) & =& u_1^1(x)  \\\\\n",
        "      x-^{\\!\\!\\!\\! .}(y+1) &=& g(x,y,x-^{\\!\\!\\!\\! .}y) &=& a(u^3_3(x,y,x-^{\\!\\!\\!\\! .}y))\n",
        "  \\end{align*}\n",
        "Neste caso, $f(x)=x$ e $g(x_1,x_2,x_3)=a(u^3_3(x_1,x_2,x_3)) =a(x_3)$\n",
        "\n",
        "\n",
        "$|x-y|$ é o valor absoluto da diferença entre $x$ e $y$ e pode ser definido como\n",
        "  \n",
        "  \\begin{align*}\n",
        "  |x-y|=(x-^{\\!\\!\\!\\! .}y)+(y-^{\\!\\!\\!\\! .}x)\n",
        "  \\end{align*}\n"
      ]
    },
    {
      "cell_type": "code",
      "execution_count": null,
      "metadata": {
        "id": "CfL64V0Hr7GM"
      },
      "outputs": [],
      "source": [
        "# Implemente a função subtração própria, utilizando apenas as funções recursivas de Kleene."
      ]
    },
    {
      "attachments": {},
      "cell_type": "markdown",
      "metadata": {
        "id": "6UnLQI6Srnkn"
      },
      "source": [
        "## [Predicados Lógicos](https://youtu.be/6M7iU9LRXn0)\n",
        "- A função $\\alpha(x)$, testa que se é zero, é\n",
        "   \n",
        "   \\begin{align*}\n",
        "    \\alpha(x)=\\left.\n",
        "      \\begin{cases}\n",
        "            1, \\text{ se }x=0\n",
        "      \\\\     0, \\text{ se }x\\neq 0\n",
        "      \\end{cases}\\right.\n",
        "   \\end{align*}\n",
        "\n",
        "Pode ser definido como $\\alpha(x)=1-^{\\!\\!\\!\\! .}x$\n",
        "> **Exemplos:**\n",
        ">   \n",
        ">  \\begin{align*}\n",
        "    \\alpha(0)&=&1-^{\\!\\!\\!\\! .}0=1\\\\\n",
        "    \\alpha(1)&=&1-^{\\!\\!\\!\\! .}1=0\\\\\n",
        "    \\alpha(2)&=&1-^{\\!\\!\\!\\! .}2=0\\\\\n",
        "    \\alpha(3)&=&1-^{\\!\\!\\!\\! .}3=0\\\\\n",
        "   \\end{align*}\n",
        "- $x=y$. Tome uma função $d$ tal que:     \n",
        "   \n",
        "   \\begin{align*}\n",
        "    d(x,y) =\\left.\n",
        "    \\begin{cases}\n",
        "            1, \\text{ se }x=y\n",
        "      \\\\    0, \\text{ se }x\\neq y\n",
        "    \\end{cases}\\right.\n",
        "   \\end{align*}\n",
        "   Daí, $d(x,y)=\\alpha(|x-y|)$\n",
        "> **Exemplos:**\n",
        ">   \n",
        ">  \\begin{align*}\n",
        "    d(2,2)&=&\\alpha(|2-2|)=\\alpha(0)=1\\\\\n",
        "    d(2,3)&=&\\alpha(|2-3|)=\\alpha(1)=0\\\\\n",
        "    d(3,2)&=&\\alpha(|3-2|)=\\alpha(1)=0\\\\\n",
        "   \\end{align*}\n",
        "- $x\\leq y$ é a função $\\alpha(x-^{\\!\\!\\!\\! .}y)$\n",
        "> **Exemplos:**\n",
        ">   \n",
        ">  \\begin{align*}\n",
        "    2\\leq 3&=&\\alpha(2-^{\\!\\!\\!\\! .}3)=\\alpha(0)=1\\\\\n",
        "    3\\leq 3&=&\\alpha(3-^{\\!\\!\\!\\! .}3)=\\alpha(0)=1\\\\\n",
        "    4\\leq 3&=&\\alpha(4-^{\\!\\!\\!\\! .}3)=\\alpha(1)=0\\\\\n",
        "   \\end{align*}\n",
        "\n",
        "- Sejam $P,Q$ predicados, temos $\\lnot P=\\alpha(P)$, $(P\\wedge Q)=P.Q$ e $(P\\vee Q)=\\lnot(\\lnot P\\wedge \\lnot Q)$\n",
        "> **Exemplos:**\n",
        ">   \n",
        ">  \\begin{align*}\n",
        "    \\lnot 0&=&\\alpha(0)=1\\\\\n",
        "    \\lnot 1&=&\\alpha(1)=0\\\\\n",
        "    1\\land 1&=&1.1=1\\\\\n",
        "    1\\land 0&=&1.0=0\\\\\n",
        "    0\\land 1&=&0.1=0\\\\\n",
        "    0\\land 0&=&0.0=0\\\\\n",
        "   \\end{align*}\n"
      ]
    },
    {
      "cell_type": "code",
      "execution_count": null,
      "metadata": {
        "id": "B7EAqOEHr9wE"
      },
      "outputs": [],
      "source": [
        "# Implemente a função alpha (isZero), utilizando apenas as funções recursivas de Kleene."
      ]
    },
    {
      "cell_type": "code",
      "execution_count": null,
      "metadata": {
        "id": "JhbopNwry10l"
      },
      "outputs": [],
      "source": [
        "# Implemente a função igualdade, utilizando apenas as funções recursivas de Kleene."
      ]
    },
    {
      "cell_type": "code",
      "execution_count": null,
      "metadata": {
        "id": "sDZ_H4_qy4cN"
      },
      "outputs": [],
      "source": [
        "# Implemente a função menor ou igual, utilizando apenas as funções recursivas de Kleene."
      ]
    },
    {
      "cell_type": "code",
      "execution_count": null,
      "metadata": {
        "id": "hPFaWuWCy6vk"
      },
      "outputs": [],
      "source": [
        "# Implemente o predicado negação, utilizando apenas as funções recursivas de Kleene."
      ]
    },
    {
      "cell_type": "code",
      "execution_count": null,
      "metadata": {
        "id": "Es5HA0T-y_WU"
      },
      "outputs": [],
      "source": [
        "# Implemente o predicado conjunção, utilizando apenas as funções recursivas de Kleene."
      ]
    },
    {
      "cell_type": "code",
      "execution_count": null,
      "metadata": {
        "id": "qn9DBwldzBn8"
      },
      "outputs": [],
      "source": [
        "# Implemente o predicado disjunção, utilizando apenas as funções recursivas de Kleene."
      ]
    },
    {
      "attachments": {},
      "cell_type": "markdown",
      "metadata": {
        "id": "yGkZwqQyu5ck"
      },
      "source": [
        "## [Função Recursiva - Definição por Casos](https://youtu.be/WRqhJScmmjE)\n",
        "Sejam $g:\\mathbb{N}^n\\rightarrow\\mathbb{N}$, $h:\\mathbb{N}^n\\rightarrow\\mathbb{N}$ funções primitivas recursivas e $P\\subseteq\\mathbb{N}^n$ um predicado primitivo recursivo. Definimos uma função $f:\\mathbb{N}^n\\rightarrow\\mathbb{N}$ como primitiva recursiva por casos da seguinte forma:\n",
        "\n",
        "\\begin{align*}\n",
        "    f(x_1,\\ldots,x_n)=\\left.\n",
        "    \\begin{cases}\n",
        "             g(x_1,\\ldots,x_n), \\text{ se }P(x_1,\\ldots,x_n)\n",
        "           \\\\h(x_1,\\ldots,x_n), \\text{ caso contrário}\n",
        "     \\end{cases}\\right.\n",
        "   \\end{align*}\n",
        "\n",
        "Como $.,+$ e $\\alpha$ são primitivas recursivas, temos que $f$ é primitiva recursiva e computada da seguinte forma:\n",
        "   \n",
        "   \\begin{align*}\n",
        "    f(x_1,\\ldots,x_n)=g(x_1,\\ldots,x_n).P(x_1,\\ldots,x_n)+h(x_1,\\ldots,x_n).\\alpha(P(x_1,\\ldots,x_n))   \n",
        "   \\end{align*}\n",
        "\n",
        "Sejam $g_1,\\ldots,g_m$, $h$ funções primitivas recursivas e $P_1, \\ldots,P_m$ predicados primitivo recursivo. Definimos uma função $f$ como primitiva recursiva por casos da seguinte forma:\n",
        "   \n",
        "   \\begin{align*}\n",
        "    f(x_1,\\ldots,x_n)=\\left.\n",
        "    \\begin{cases}\n",
        "             g_1(x_1,\\ldots,x_n), \\text{ se }P_1(x_1,\\ldots,x_n)\n",
        "             \\\\\\ldots\n",
        "             \\\\g_m(x_1,\\ldots,x_n), \\text{ se }P_m(x_1,\\ldots,x_n)\n",
        "           \\\\h(x_1,\\ldots,x_n), \\text{ caso contrário}\n",
        "   \\end{cases}\\right.\n",
        "   \\end{align*}\n",
        "\n",
        "Basta fazer prova por indução em $m$. Note que no caso básico ($m=1$) temos o teorema anterior. Para o caso indutivo seja\n",
        "   \n",
        "   \\begin{align*}\n",
        "    h'(x_1,\\ldots,x_n)=\\left.\n",
        "    \\begin{cases}\n",
        "             g_{m+1}(x_1,\\ldots,x_n), \\text{ se }P_{m+1}(x_1,\\ldots,x_n)\n",
        "           \\\\h(x_1,\\ldots,x_n), \\text{ caso contrário}\n",
        "   \\end{cases}\\right.\n",
        "   \\end{align*}\n",
        "   Então\n",
        "   \n",
        "   \\begin{align*}\n",
        "    f(x_1,\\ldots,x_n)=\\left.\n",
        "      \\begin{cases}\n",
        "             g_1(x_1,\\ldots,x_n), \\text{ se }P_1(x_1,\\ldots,x_n)\n",
        "             \\\\ \\ldots\n",
        "             \\\\g_m(x_1,\\ldots,x_n), \\text{ se }P_m(x_1,\\ldots,x_n)\n",
        "           \\\\h'(x_1,\\ldots,x_n), \\text{ caso contrário}\n",
        "      \\end{cases}\\right.\n",
        "   \\end{align*}\n",
        "\n"
      ]
    },
    {
      "cell_type": "code",
      "execution_count": null,
      "metadata": {
        "id": "MN0_ZOx7xe_z"
      },
      "outputs": [],
      "source": [
        "# Implemente a função if-then-else.\n",
        "def if_then_else_1(x):\n",
        "  return lambda p,g,h: ...\n",
        "\n",
        "#Considere que a nota de um aluno pode ser no máximo 10 \n",
        "# e que o professor irá conceder 1 ponto-extra as notas dos alunos. \n",
        "#Utilize a função if_then_else_1 para retornar a média final da nota de um aluno.   \n",
        "dez = s(s(s(s(s(s(s(s(s(s(z(_)))))))))))\n",
        "def p(x):\n",
        "  return lor(greater(x,dez),d(x,dez))\n",
        "def g(x):\n",
        "  return dez\n",
        "def h(x): \n",
        "  return s(x)\n",
        "\n",
        "def ponto_extra(nota):\n",
        "  return if_then_else_1(nota)(p,g,h)\n",
        "\n",
        "print(f\"Se a nota for maior ou igual que 10, então retorne 10. Caso contrário some 1.\")\n",
        "nota = 8\n",
        "print(f\"Nota {nota} e Nota Final\",ponto_extra(nota))\n",
        "nota = 11\n",
        "print(f\"Nota {nota} e Nota Final\",ponto_extra(nota))"
      ]
    },
    {
      "cell_type": "code",
      "execution_count": null,
      "metadata": {
        "id": "Q8NoZNUY8tmQ"
      },
      "outputs": [],
      "source": [
        "# Implemente a função if-then-else com dois argumentos\n",
        "def if_then_else_2(x,y):\n",
        "  return lambda p,g,h: ...\n",
        "\n",
        "# Implemente a função que retorna x, se x > y; e y, caso contrário \n",
        "def p(x,y): \n",
        "  return greater(x,y)\n",
        "def g(x,y): \n",
        "  return x\n",
        "def h(x,y): \n",
        "  return y\n",
        "\n",
        "def retorna_maior(x,y):\n",
        "  return if_then_else_2(x,y)(p,g,h)\n",
        "\n",
        "x = 2\n",
        "y = 1\n",
        "print(f\"O maior entre {x} e {y}: {retorna_maior(x,y)}\")\n",
        "\n",
        "x = 2\n",
        "y = 5\n",
        "print(f\"O maior entre {x} e {y}: {retorna_maior(x,y)}\")\n",
        "\n"
      ]
    },
    {
      "cell_type": "code",
      "execution_count": null,
      "metadata": {
        "id": "3uRcr2hXA5aG"
      },
      "outputs": [],
      "source": [
        "# Implemente uma função que recebe três argumentos e retorna o maior deles.\n",
        "def maior_entre(x,y,z):\n",
        "  ...\n",
        "x1=3\n",
        "x2=10\n",
        "x3=5\n",
        "print(f\"O maior número entre {x1}, {x2} e {x3} é {maior_entre(x1,x2,x3)}\")\n",
        "x1= 2\n",
        "x2=0\n",
        "x3=20\n",
        "print(f\"O maior número entre {x1}, {x2} e {x3} é {maior_entre(x1,x2,x3)}\")\n",
        "x1=23\n",
        "x2=10\n",
        "x3=5\n",
        "print(f\"O maior número entre {x1}, {x2} e {x3} é {maior_entre(x1,x2,x3)}\")\n"
      ]
    },
    {
      "cell_type": "markdown",
      "metadata": {
        "id": "rI_PF3kzxfUB"
      },
      "source": [
        "## [Função Recursiva Somatório e Produtório](https://youtu.be/ERQinnZZGVA)\n",
        "\n",
        "  Seja $f(x_1,\\ldots,x_n,y)$ uma função primitiva recursiva. Temos que\n",
        "   \n",
        "   \\begin{align*}\n",
        "    g(x_1,\\ldots,x_n,y)&=&\\sum_{t=0}^y f(x_1,\\ldots,x_n,t)\n",
        "   \\end{align*}\n",
        "   \n",
        "   \\begin{align*}\n",
        "    h(x_1,\\ldots,x_n,y)=\\prod_{t=0}^y f(x_1,\\ldots,x_n,t)\n",
        "   \\end{align*}\n",
        "\n",
        "Definimos por recursão primitiva.\n",
        "   \n",
        "   \\begin{align*}\n",
        "    g(x_1,\\ldots,x_n,0) & = &f(x_1,\\ldots,x_n,0)\\\\\n",
        "    g(x_1,\\ldots,x_n,y+1)& = &f(x_1,\\ldots,x_n,y+1)+g(x_1,\\ldots,x_n,y)\n",
        "   \\end{align*}\n",
        "\n",
        "   \\begin{align*}\n",
        "      h(x_1,\\ldots,x_n,0) & =& f(x_1,\\ldots,x_n,0)\\\\\n",
        "    h(x_1,\\ldots,x_n,y+1)& =& f(x_1,\\ldots,x_n,y+1).h(x_1,\\ldots,x_n,y)    \n",
        "   \\end{align*}\n",
        "\n",
        "> **Exemplo:** Seja $f(x,y)=x+y$. Podemos definir uma função somatório \n",
        ">   \n",
        ">  \\begin{align*}\n",
        "    g(x,y)&=&\\sum_{t=0}^y f(x,t)=f(x,0)+f(x,1)+\\ldots+f(x,y)\n",
        "   \\end{align*}\n",
        "> Assim, \n",
        ">   \n",
        ">  \\begin{align*}\n",
        "    g(3,2)&=&\\sum_{t=0}^3 f(x,t)\\\\\n",
        "    &=&f(3,0)+f(3,1)+f(3,2)\\\\\n",
        "    &=& 3+4+5= 12\n",
        "   \\end{align*}\n",
        "> Seguindo a nossa definição recursiva, temos\n",
        ">   \n",
        ">  \\begin{align*}\n",
        "    g(3,2)&=&f(3,2)+g(3,1)\\\\\n",
        "    &=&f(3,2)+f(3,1)+g(3,0)\\\\\n",
        "    &=&f(3,2)+f(3,1)+f(3,0)\\\\\n",
        "    &=& 5+4+3= 12\n",
        "   \\end{align*}\n"
      ]
    },
    {
      "cell_type": "code",
      "execution_count": null,
      "metadata": {
        "id": "ozqaPMPisBtb"
      },
      "outputs": [],
      "source": []
    },
    {
      "cell_type": "markdown",
      "metadata": {
        "id": "9eBkHKB318Cb"
      },
      "source": [
        "## [Quantificação Existencial e Universal Limitada](https://youtu.be/_q6a8Jb7MNQ)\n",
        "Seja $P(x_1,\\ldots,x_n,y)$ um predicado primitivo recursivo. Temos que\n",
        "   \n",
        "   \\begin{align*}\n",
        "      (\\forall t)_{\\leq y}P(x_1,\\ldots,x_n,t)\\Longleftrightarrow \\left(\\prod_{t=0}^y P(x_1,\\ldots,x_n,t)\\right)=1   \n",
        "   \\end{align*}\n",
        "   \n",
        "   \\begin{align*}\n",
        "    (\\exists t)_{\\leq y}P(x_1,\\ldots,x_n,t)\\Longleftrightarrow \\left(\\sum_{t=0}^y P(x_1,\\ldots,x_n,t)\\right)\\neq 0   \n",
        "    \\end{align*}\n",
        "\n",
        "- O predicado $x|y$  significa que $x$ é divisor de $y$ e pode ser definido como\n",
        "   \n",
        "   \\begin{align*}\n",
        "    x|y\\Longleftrightarrow (\\exists t)_{\\leq y} (x.t=y)\n",
        "   \\end{align*}\n",
        "\n",
        "> **Exemplo**:\n",
        "> - $3|12\\Longleftrightarrow (\\exists t)_{\\leq 12} (3.t=12)$ é verdadeiro para o $t=4$.\n",
        "> - $3|13\\Longleftrightarrow (\\exists t)_{\\leq 13} (3.t=13)$ não é verdadeiro para todo $t\\leq 13$.\n",
        "\n",
        "- Um número $x$ é primo se $x$ é maior do que $1$ e tem apenas dois divisores: $1$ e ele próprio $x$. $Primo(x)$ é o seguinte predicado primitivo recursivo\n",
        "   \n",
        "   \\begin{align*}\n",
        "      Primo(x)\\Longleftrightarrow x> 1\\wedge((\\forall t)_{\\leq x}(t=1\\vee t=x\\vee \\lnot(t|x)))\n",
        "   \\end{align*}\n",
        "> **Exemplo**:\n",
        "> - $Primo(3)\\Longleftrightarrow 3> 1\\wedge((\\forall t)_{\\leq 3}(t=1\\vee t=x\\vee \\lnot(t|3)))$, pois os únicos valores de $t$ que são divisores são o $1$ e o próprio $3$.\n",
        "> - $Primo(4)\\Longleftrightarrow 4> 1\\wedge((\\forall t)_{\\leq 4}(t=1\\vee t=x\\vee \\lnot(t|4)))$, não é um primo, pois quando o $t$ assume $2$ temos que $2|4$."
      ]
    },
    {
      "cell_type": "code",
      "execution_count": null,
      "metadata": {
        "id": "YrB-y87zsLyL"
      },
      "outputs": [],
      "source": []
    },
    {
      "attachments": {},
      "cell_type": "markdown",
      "metadata": {
        "id": "butvyHf8xpNZ"
      },
      "source": [
        "## [Minimização Limitada](https://youtu.be/PwPuWyapz1w)\n",
        "Seja $P(x_1,\\ldots,x_n,y)$ um predicado primitiva recursiva. Temos que\n",
        "\\begin{align*}\n",
        "  g(x_1,\\ldots,x_n,y)=\\sum_{u=0}^y \\prod_{t=0}^u (\\lnot P(x_1,\\ldots,x_n,t))\n",
        "\\end{align*}\n",
        "\n",
        "  Suponha $t<t_0\\leq y$ tal que\n",
        "  $$\\left\\{\\begin{align*}\n",
        "    P(x_1,\\ldots,x_n,t) &=0 \\text{ para }t<t_0& \\\\\n",
        "    P(x_1,\\ldots,x_n,t_0) &= 1 &\n",
        "  \\end{align*}\\right.$$\n",
        "  \n",
        "Assim,\n",
        "\n",
        "\\begin{align*}\n",
        "  \\prod_{t=0}^u (\\lnot P(x_1,\\ldots,x_n,t))=\\left.\n",
        "    \\begin{cases}\n",
        "            1, \\text{ se }u< t_0\n",
        "      \\\\    0, \\text{ se }u\\geq t_0\n",
        "    \\end{cases}\\right.\n",
        "\\end{align*}\n",
        "Por fim, $g(x_1,\\ldots,x_n,y)=\\sum_{u<t_0}1= t_0$. Dessa forma, $g(x_1,\\ldots,x_n,y)$ define o **menor valor de $t$ para o qual $P(x_1,\\ldots,x_n,t)$ é verdade**.\n",
        "\n",
        "Seja $P(x_1,\\ldots,x_n,y)$ um predicado primitiva recursiva. Defina a **Minimização Limitada como o menor valor de $t$ para o qual $P(x_1,\\ldots,x_n,t)$ é verdade** como segue:\n",
        "\\begin{align*}\n",
        "  Min_{t\\leq y}P(x_1,\\ldots,x_n,y) = \\left.\n",
        "    \\begin{cases}\n",
        "            &g(x_1,\\ldots,x_n,y),& \\text{ se }(\\exists t)_{\\leq y}P(x_1,\\ldots,x_n,t)&\n",
        "           \\\\ &  0, &\\text{ caso contrário }&\n",
        "    \\end{cases}\\right.\n",
        "\\end{align*}\n",
        "\n",
        "Vejamos alguns exemplos de minimização limitada:\n",
        "- A função $\\lfloor x/y\\rfloor$ é a parte inteira de $x/y$ e pode ser definido como\n",
        "\\begin{align*}\n",
        "  \\lfloor x/y\\rfloor=Min_{t\\leq x}((t+1).y>x)\n",
        "\\end{align*}\n",
        "> **Exemplos:**  \n",
        "> - $\\lfloor 7/2\\rfloor = Min_{t\\leq 7}((t+1).2>7)=3$, pois o menor $t$ que satisfaz é $3$, vejamos:\n",
        ">   - para $t=0$ temos que $((0+1).2>7)$ é falso pois ($2>7$)\n",
        ">   - para $t=1$ temos que $((1+1).2>7)$ é falso pois ($4>7$)\n",
        ">   - para $t=2$ temos que $((2+1).2>7)$ é falso pois ($6>7$)\n",
        ">   - para $t=3$ temos que $((3+1).2>7)$ é verdadeiro pois ($8>7$)\n",
        ">   - para $t=4$ temos que $((4+1).2>7)$ é verdadeiro pois ($10>7$)\n",
        ">   - para $t=5$ temos que $((5+1).2>7)$ é verdadeiro pois ($12>7$)\n",
        ">   - para $t=6$ temos que $((6+1).2>7)$ é verdadeiro pois ($14>7$)\n",
        ">   - para $t=7$ temos que $((7+1).2>7)$ é verdadeiro pois ($16>7$)\n",
        "> - $\\lfloor 2/3\\rfloor = Min_{t\\leq 2}((t+1).3>2)=0$, pois o menor $t$ que satisfaz é $0$, vejamos:\n",
        ">   - para $t=0$ temos que $((0+1).3>2)$ é falso pois ($3>2$)\n",
        ">   - para $t=1$ temos que $((1+1).3>2)$ é falso pois ($6>2$)\n",
        ">   - para $t=2$ temos que $((2+1).3>2)$ é falso pois ($9>2$)\n",
        "\n",
        "- A função $p_n$ define o $n-$primo (em ordem de tamanho). Para a função ser total considere $p_0=0$. Daí, $p_0=0,p_1=2,p_2=3,p_3=5,\\ldots$. Por fim, assuma que $p_{n+1}\\leq (p_n)!+1$. Assim,\n",
        "\n",
        "\\begin{align*}\n",
        "  \\left.\n",
        "    \\begin{cases}\n",
        "      p_0 &= 0& \\\\\n",
        "      p_{n+1} &= Min_{t\\leq ((p_n)!+1)}(Primo(t)\\wedge t>p_n)&\n",
        "    \\end{cases}\\right.\n",
        "\\end{align*}\n",
        "> **Exemplos:**\n",
        "> - $p_1= Min_{t\\leq p_0!+1}(Primo(t)\\land t>p_0)=Min_{t\\leq 2}(Primo(t)\\land t>0)$, ou seja,\n",
        ">   - Para $t=0$, temos que $Primo(0)\\land 0>0$ é falso\n",
        ">   - Para $t=1$, temos que $Primo(1)\\land 1>0$ é falso pois $1$ não é primo.\n",
        ">   - Para $t=2$, temos que $Primo(2)\\land 2>0$ é verdadeiro, pois $2$ é primo\n",
        ">\n",
        "> - $p_2= Min_{t\\leq p_1!+1}(Primo(t)\\land t>p_1)=Min_{t\\leq 3}(Primo(t)\\land t>2)$, ou seja,\n",
        ">   - Para $t=0$, temos que $Primo(0)\\land 0>2$ é falso.\n",
        ">   - Para $t=1$, temos que $Primo(1)\\land 1>2$ é falso.\n",
        ">   - Para $t=2$, temos que $Primo(2)\\land 2>2$ é falso.\n",
        ">   - Para $t=3$, temos que $Primo(3)\\land 3>2$ é verdadeiro, pois $3$ é primo.\n",
        "\n"
      ]
    },
    {
      "cell_type": "markdown",
      "metadata": {
        "id": "mO92ap2a5dTA"
      },
      "source": [
        "## [Número de Gödel](https://youtu.be/6lHXbyCckUA)\n",
        "O Teorema Fundamental da Aritmética diz que \"qualquer número $n\\geq 2$ pode ser decomposto num produto de números primos\".\n",
        "\n",
        "Defina um **Número de Gödel** de uma sequência $\\langle a_1,\\ldots,a_n\\rangle$} primitiva recursiva para ser o número:\n",
        "\\begin{align*}\n",
        "G_n(\\langle a_1,\\ldots,a_n\\rangle)=\\prod_{i=1}^n p_i^{a_i}\n",
        "\\end{align*}\n",
        "\n",
        "Assim, os números de Gödel de $\\langle 3,1,5,4,6\\rangle$ e $\\langle 2,3\\rangle$ são: $G_5(\\langle 3,1,5,4,6\\rangle)=2^3.3^1.5^5.7^4.11^6$ e $G_2(\\langle 2,3\\rangle)=2^2.3^3=108$\n",
        "\n",
        "Para definirmos a função primitiva recursiva $(x)_i$ como sendo o elemento $a_i$ da sequência $\\langle a_1,\\ldots,a_n\\rangle$ do número de Gödel desta sequência, definimos\n",
        "\\begin{align*}\n",
        "(x)_i=Min_{t\\leq x}(\\lnot(p_i^{t+1}|x))\n",
        "\\end{align*}\n",
        "\n",
        "\\begin{align*}\n",
        "(G_2(\\langle 2,3\\rangle))_2=(108)_2=Min_{t\\leq 108}(\\lnot(3^{t+1}|108))=3\n",
        "\\end{align*}\n"
      ]
    },
    {
      "cell_type": "code",
      "execution_count": null,
      "metadata": {
        "id": "sfWeuNFQsNLT"
      },
      "outputs": [],
      "source": []
    },
    {
      "cell_type": "markdown",
      "metadata": {
        "id": "Mn4g-dw16XqG"
      },
      "source": [
        "## [Minimização](https://youtu.be/6lHXbyCckUA)\n",
        "\n",
        "Seja $P(x_1,\\ldots,x_n,y)$ um predicado primitiva recursiva. Defina a **Minimização como o menor valor de $t$ para o qual $P(x_1,\\ldots,x_n,t)$ é verdade, caso exista um**. No caso, que não exista um $y$ tal que $P(x_1,\\ldots,x_n,t)$ é verdade, o valor é indefinido.\n",
        "\\begin{align*}\n",
        "  Min_{y}P(x_1,\\ldots,x_n,y)\n",
        "\\end{align*}\n",
        "- A função $x-y$ é indefinida para $x<y$.\n",
        "\\begin{align*}\n",
        "x-y= Min_{z}(y+z=x)\n",
        "\\end{align*}\n",
        "> **Exemplos:**\n",
        "> - $3-2= Min_{z}(2+z=3)=1$, para $z=1$\n",
        "> - $5-2= Min_{z}(2+z=5)=3$, para $z=3$\n",
        "> - $2-3= Min_{z}(3+z=2)$ será indefinido, pois nenhum valor de $z$ irá satisfazer a igualdade, ou seja, a função minimização irá executar indefinidamente."
      ]
    },
    {
      "attachments": {},
      "cell_type": "markdown",
      "metadata": {},
      "source": [
        "<!--NAVIGATION-->\n",
        "< [Máquinas de Turing - Linguagens Recursivamente Enumeráveis](./Cap%C3%ADtulo_03_M%C3%A1quinas_de_Turing.ipynb) | [Índice](./index.ipynb) | [Lambda Cálculo](./Cap%C3%ADtulo_05_Lambda_C%C3%A1lculo.ipynb)>\n"
      ]
    }
  ],
  "metadata": {
    "colab": {
      "collapsed_sections": [
        "-DO1Vatu03xp",
        "Mn4g-dw16XqG"
      ],
      "provenance": []
    },
    "kernelspec": {
      "display_name": "base",
      "language": "python",
      "name": "python3"
    },
    "language_info": {
      "codemirror_mode": {
        "name": "ipython",
        "version": 3
      },
      "file_extension": ".py",
      "mimetype": "text/x-python",
      "name": "python",
      "nbconvert_exporter": "python",
      "pygments_lexer": "ipython3",
      "version": "3.9.7"
    },
    "vscode": {
      "interpreter": {
        "hash": "40d3a090f54c6569ab1632332b64b2c03c39dcf918b08424e98f38b5ae0af88f"
      }
    }
  },
  "nbformat": 4,
  "nbformat_minor": 0
}
