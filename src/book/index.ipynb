{
 "cells": [
  {
   "attachments": {},
   "cell_type": "markdown",
   "metadata": {},
   "source": [
    "# Teoria da Computação\n",
    "Este material foi preparado para a disciplina de Teoria da Computação com a finalidade de apresentar os conceitos básicos dos modelos de computação (Máquinas de Turing, Funções Recursivas de Kleene e Lambda Cálculo) e de indecibilidade, utilizando a Linguagem de Programação Python para auxiliar no ensino-aprendizagem da disciplina. Para cada seção é apresentado um link (no título da seção) com um vídeo explicando o conteúdo a ser abordado. Uma Playlist com todo o conteúdo de Teoria da Computação está disponível no [YouTube](https://youtube.com/playlist?list=PLfOnKvd6pFioXCZWvsjFKqEGPNc_GX0wS).\n",
    "> *Autor: Davi Romero de Vasconcelos, daviromero@ufc.br, Universidade Federal do Ceará, Campus de Quixadá, Dezembro de 2022*.\n",
    "> *(Última atualização 08/12/2022)*\n"
   ]
  },
  {
   "attachments": {},
   "cell_type": "markdown",
   "metadata": {},
   "source": [
    "## Sumário\n",
    "### [1. Revisão Conjuntos, Relações, Funções e Linguagens](./Cap%C3%ADtulo_01_Revis%C3%A3o_Fun%C3%A7%C3%B5es_Rela%C3%A7%C3%B5es.ipynb)\n",
    "### [2. Revisão de Linguagens Regulares](./Cap%C3%ADtulo_02_Linguagens_Regulares_com_Building_Blocks.ipynb)\n",
    "### [3. Máquinas de Turing - Linguagens Recursivamente Enumeráveis](./Cap%C3%ADtulo_03_M%C3%A1quinas_de_Turing.ipynb)\n",
    "### [4. Funções Recursivas de Kleene](./Cap%C3%ADtulo_04_Fun%C3%A7%C3%B5es_Recursivas_de_Kleene.ipynb)\n",
    "### [5. Lambda Cálculo](./Cap%C3%ADtulo_05_Lambda_C%C3%A1lculo.ipynb)\n",
    "### [6. Indecidibilidade](./Cap%C3%ADtulo_06_Indecidibilidade.ipynb)\n",
    "\n",
    "\n"
   ]
  },
  {
   "attachments": {},
   "cell_type": "markdown",
   "metadata": {},
   "source": [
    "<!--NAVIGATION-->\n",
    "< [Índice](./index.ipynb) | [Revisão Conjuntos, Relações, Funções e Linguagens](./Cap%C3%ADtulo_01_Revis%C3%A3o_Fun%C3%A7%C3%B5es_Rela%C3%A7%C3%B5es.ipynb) >\n"
   ]
  }
 ],
 "metadata": {
  "kernelspec": {
   "display_name": "base",
   "language": "python",
   "name": "python3"
  },
  "language_info": {
   "name": "python",
   "version": "3.9.7"
  },
  "orig_nbformat": 4,
  "vscode": {
   "interpreter": {
    "hash": "40d3a090f54c6569ab1632332b64b2c03c39dcf918b08424e98f38b5ae0af88f"
   }
  }
 },
 "nbformat": 4,
 "nbformat_minor": 2
}
