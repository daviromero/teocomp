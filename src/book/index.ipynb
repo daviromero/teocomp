{
 "cells": [
  {
   "attachments": {},
   "cell_type": "markdown",
   "metadata": {},
   "source": [
    "# Teoria da Computação\n",
    "Este material foi preparado para a disciplina de Teoria da Computação com a finalidade de apresentar os conceitos básicos dos modelos de computação (Máquinas de Turing, Funções Recursivas de Kleene e Lambda Cálculo) e de indecibilidade, utilizando a Linguagem de Programação Python para auxiliar no ensino-aprendizagem da disciplina. Para cada seção é apresentado um link (no título da seção) com um vídeo explicando o conteúdo a ser abordado. Uma Playlist com todo o conteúdo de Lógica para Computação está disponível no [YouTube](https://youtube.com/playlist?list=PLfOnKvd6pFiq_BUI-llPhDeGR55P6nHfr).\n",
    "> *Autor: Davi Romero de Vasconcelos, daviromero@ufc.br, Universidade Federal do Ceará, Campus de Quixadá, Dezembro de 2022*.\n",
    "> *(Última atualização 08/12/2022)*\n"
   ]
  },
  {
   "attachments": {},
   "cell_type": "markdown",
   "metadata": {},
   "source": [
    "## Sumário\n",
    "### [1. Revisão Conjuntos, Relações, Funções e Linguagens](./Cap%C3%ADtulo_01_Revis%C3%A3o_Fun%C3%A7%C3%B5es_Rela%C3%A7%C3%B5es.ipynb)\n",
    "### [2. Máquinas de Turing - Linguagens Recursivamente Enumeráveis](./Cap%C3%ADtulo_02_M%C3%A1quinas_de_Turing.ipynb)\n",
    "### [3. Funções Recursivas de Kleene](./Cap%C3%ADtulo_03_Fun%C3%A7%C3%B5es_Recursivas_de_Kleene.ipynb)\n",
    "### [4. Lambda Cálculo](./Cap%C3%ADtulo_04_Lambda_C%C3%A1lculo.ipynb)\n",
    "### [5. Indecidibilidade](./Cap%C3%ADtulo_05_Indecidibilidade.ipynb)\n",
    "\n",
    "\n"
   ]
  },
  {
   "attachments": {},
   "cell_type": "markdown",
   "metadata": {},
   "source": [
    "<!--NAVIGATION-->\n",
    "< [Índice](./index.ipynb) | [Revisão Conjuntos, Relações, Funções e Linguagens](./Cap%C3%ADtulo_01_Revis%C3%A3o_Fun%C3%A7%C3%B5es_Rela%C3%A7%C3%B5es.ipynb) >\n"
   ]
  }
 ],
 "metadata": {
  "kernelspec": {
   "display_name": "base",
   "language": "python",
   "name": "python3"
  },
  "language_info": {
   "name": "python",
   "version": "3.9.7 (default, Sep 16 2021, 16:59:28) [MSC v.1916 64 bit (AMD64)]"
  },
  "orig_nbformat": 4,
  "vscode": {
   "interpreter": {
    "hash": "ad2bdc8ecc057115af97d19610ffacc2b4e99fae6737bb82f5d7fb13d2f2c186"
   }
  }
 },
 "nbformat": 4,
 "nbformat_minor": 2
}
