{
  "cells": [
    {
      "cell_type": "markdown",
      "metadata": {
        "id": "xuvfZWkri4te"
      },
      "source": [
        "# Teoria da Computação: Linguagens Regulares - Autômato Finito Determinístico, Não-Determinístico, Não-Determinístico com Transição Vazia e com Building Blocks\n",
        "> *Autor: Davi Romero de Vasconcelos, daviromero@ufc.br, Universidade Federal do Ceará, Campus de Quixadá, Agosto de 2022*.\n",
        "> *(Última atualização 25/08/2022)*\n",
        "\n",
        "Este material foi preparado para a disciplina de Teoria da Computação com a finalidade de apresentar os conceitos básicos de Autômato Finito Determinístico e Não-Determinísitico (Linguagens Regulares), utilizando a Linguagem de Programação Python. Para cada seção é apresentado um link (no título da seção) com um vídeo explicando o conteúdo a ser abordado. "
      ]
    },
    {
      "cell_type": "code",
      "execution_count": null,
      "metadata": {
        "cellView": "form",
        "colab": {
          "base_uri": "https://localhost:8080/"
        },
        "id": "wCT15jwVWWls",
        "outputId": "4c45f4ad-6e57-4d32-d980-30523bc67997"
      },
      "outputs": [],
      "source": [
        "#@title Implementação em Python de Autômatos (*beta*)\n",
        "#@markdown Esta célula contém a implementação em Python de Autômatos. \n",
        "#@markdown Não é necessário conhecer o código aqui implementado ou mesmo ter um conhecimento profundo da linguagem Python. Basta acompanhar os exemplos e experimentar construir seus próprios modelos.\n",
        " \n",
        "#@markdown >*Execute esta célula (`ctrl+enter` ou clicando no botão ao lado) para que o ambiente seja carregado com as classes implementadas.*\n",
        "\n",
        "!pip install teocomp -q\n",
        "from teocomp.dfa import DFA\n",
        "from teocomp.nfa import NFA\n",
        "from teocomp.nfa_e import NFA_E\n",
        "from teocomp.nfa_bb import NFA_BB"
      ]
    },
    {
      "cell_type": "markdown",
      "metadata": {
        "id": "O2h3NYU0jsYC"
      },
      "source": [
        "# [Autômato Finito Determinístico (DFA)](https://youtu.be/bhNRnvl3h08)\n",
        "\n",
        "Formalmente, um **Autômato Finito Determinístico (DFA)** é definido por $D=\\langle Q_D, \\Sigma, \\delta_D, q_0,F_D\\rangle$, onde:\n",
        "- $Q_D$ é um conjunto finito de **estados**\n",
        "- $\\Sigma$ é um conjunto finito de **entradas (alfabeto)**\n",
        "- $q_0$ é um **estado inicial** ($q_0\\in Q_D$)\n",
        "- $F_D$ é um conjunto de **estados finais (ou de aceitação)** ($F_D\\subseteq Q_D$)\n",
        "- $\\delta_D: Q_D\\times\\Sigma\\rightarrow Q_D$ é uma **função de transição** que toma como argumento um estado e uma entrada e retorna um estado.\n",
        "\n",
        "Vejamos um exemplo: Seja a linguagem $\\{x01y:x,y\\in\\Sigma^*\\}$, defina $D_{x01y}$ como o DFA:\n",
        "- $Q_D=\\{q_0,q_1,q_2\\}$\n",
        "- $\\Sigma =\\{0,1\\}$\n",
        "- $q_0$ é o estado inicial\n",
        "- $F_D=\\{q_2\\}$\n",
        "- $\\delta_D(q_0,0) = q_1 \\qquad \\delta_D(q_0,1) = q_0$ \n",
        "\n",
        "  $\\delta_D(q_1,0) = q_1\\qquad \\delta_D(q_1,1) = q_2$\n",
        "   \n",
        "  $\\delta_D(q_2,0) = q_2   \\qquad\\delta_D(q_2,1) = q_2$\n"
      ]
    },
    {
      "cell_type": "code",
      "execution_count": null,
      "metadata": {
        "id": "7Po2na4tFGi2"
      },
      "outputs": [],
      "source": [
        "Q = {'q0','q1','q2'}\n",
        "Sigma = {'0','1'}\n",
        "q0 = 'q0'\n",
        "delta = {\n",
        "    ('q0','0'):'q1',\n",
        "    ('q0','1'):'q0',\n",
        "    ('q1','0'):'q1',\n",
        "    ('q1','1'):'q2',\n",
        "    ('q2','0'):'q2',\n",
        "    ('q2','1'):'q2',\n",
        "}\n",
        "F = {'q2'}\n",
        "Dx01y = DFA(Q,Sigma,q0,delta,F)"
      ]
    },
    {
      "cell_type": "markdown",
      "metadata": {
        "id": "z583Kp12EosP"
      },
      "source": [
        "## Diagrama de Transições\n",
        "Um **Diagrama de Transições** para um DFA $D=\\langle Q_D, \\Sigma, \\delta_D, q_0,F_D\\rangle$ é um grafo definido como segue:\n",
        "- Para cada estado em $q\\in Q_D$, existe um nó $q$ correspondente.\n",
        "- Para cada estado em $q\\in Q_D$ e para cada símbolo de entrada $a\\in \\Sigma$ tal que $\\delta_D(q,a)=p$, o diagrama de transições tem um arco do nó $q$ para o nó $p$, rotulado por $a$. Se existem vários símbolos de entrada que causam transições de $q$ para $p$, então o diagrama de transições pode ter um arco rotulado pela lista desses símbolos.\n",
        "- Existe uma seta no estado inicial $q_0$, indicando como o início. \n",
        "- Os nós correspondentes aos estados de aceitação são marcados por um circulo duplo. Os demais estados tem apenas um círculo.\n"
      ]
    },
    {
      "cell_type": "code",
      "execution_count": null,
      "metadata": {
        "colab": {
          "base_uri": "https://localhost:8080/",
          "height": 142
        },
        "id": "inoTxyEOOnLc",
        "outputId": "8fffa8f2-c509-4e45-a62b-a5629da93c1e"
      },
      "outputs": [],
      "source": [
        "Dx01y.visualizar()"
      ]
    },
    {
      "cell_type": "markdown",
      "metadata": {
        "id": "V_0dxlMLE2ko"
      },
      "source": [
        "## Tabelas de Transições\n",
        "Uma **Tabela de Transições** é uma representação convencional e tabular de um  DFA $D=\\langle Q_D, \\Sigma, \\delta_D, q_0,F_D\\rangle$ definido como segue:\n",
        "- As linhas da tabela correspondem aos estados $Q$. O estado inicial é marcado com $\\rightarrow$ e cada  estado de aceitação com $*$.\n",
        "- As colunas da tabela correspondem às entradas $\\Sigma$.\n",
        "- As células de cada linha (estado $q$) e coluna (entrada $a$) correspondem à função $\\delta(q,a)$.\n"
      ]
    },
    {
      "cell_type": "code",
      "execution_count": null,
      "metadata": {
        "colab": {
          "base_uri": "https://localhost:8080/",
          "height": 143
        },
        "id": "ByruwFVhQhll",
        "outputId": "60d96d7a-85ea-4680-b257-fcb65e7241d5"
      },
      "outputs": [],
      "source": [
        "Dx01y.tabela()"
      ]
    },
    {
      "attachments": {},
      "cell_type": "markdown",
      "metadata": {
        "id": "-FQrjt-NlJ_e"
      },
      "source": [
        "## Função de Transição Estendida\n",
        "Para definirmos uma computação, precisamos definir uma função de transição estendida $\\bar{\\delta}_D: Q_D\\times \\Sigma^*\\rightarrow Q_D$ que irá computar uma palavra a partir de um estado e determinar o estado alcançado após a computação da palavra. Formalmente, temos:\n",
        "\n",
        "\\begin{align*}\n",
        "      \\bar{\\delta}_D(q,\\epsilon) & = & q\n",
        "\\\\    \\bar{\\delta}_D(q,xa) & = & \\delta_D(\\bar{\\delta}_D(q,x),a)\n",
        "\\end{align*}\n",
        "\n",
        "\n",
        "> **Exemplo:** de Computação com a Função Estendida\n",
        ">\n",
        ">A palavra $1010$ é processada pela função $\\bar{\\delta}_D$ do DFA $D_{x01y}$:\n",
        "\\begin{align*}\n",
        "    \\bar{\\delta}_D(q_0,1010) & = & \\delta_D(\\bar{\\delta}_D(q_0,101),0)  =  \\delta_D(q_2,0)   =  q_2\n",
        "    \\\\ \\bar{\\delta}_D(q_0,101)& = & \\delta_D(\\bar{\\delta}_D(q_0,10),1)  =  \\delta_D(q_1,1)   =  q_2\n",
        "    \\\\ \\bar{\\delta}_D(q_0,10)& = & \\delta_D(\\bar{\\delta}_D(q_0,1),0)  =  \\delta_D(q_0,0)   =  q_1\n",
        "    \\\\ \\bar{\\delta}_D(q_0,1)& = & \\delta_D(\\bar{\\delta}_D(q_0,\\epsilon),1)  =  \\delta_D(q_0,1)   =  q_0\n",
        "    \\\\ \\bar{\\delta}_D(q_0,\\epsilon)& = & q_0\n",
        "\\end{align*}"
      ]
    },
    {
      "cell_type": "code",
      "execution_count": null,
      "metadata": {
        "colab": {
          "base_uri": "https://localhost:8080/",
          "height": 161
        },
        "id": "yjiKkxw1oJ6W",
        "outputId": "1c41155f-3bd6-4641-c5ef-64a38344ad17"
      },
      "outputs": [],
      "source": [
        "s = Dx01y.delta('q0','1010',show_steps=True)"
      ]
    },
    {
      "attachments": {},
      "cell_type": "markdown",
      "metadata": {
        "id": "XneqpHY4ldXT"
      },
      "source": [
        "## Linguagem Regular\n",
        "Seja um DFA $D=\\langle Q_D, \\Sigma, \\delta_D, q_0,F_D\\rangle$. Dizemos que $L(D)$ denota a **Linguagem Regular** do DFA e é definida por:\n",
        "\\begin{align*}\n",
        "L(D) & = & \\{w | \\bar{\\delta}_D(q_0,w)\\in F_D\\}\n",
        "\\end{align*}\n"
      ]
    },
    {
      "cell_type": "code",
      "execution_count": null,
      "metadata": {
        "colab": {
          "base_uri": "https://localhost:8080/",
          "height": 81,
          "referenced_widgets": [
            "23649f4466364e218567d757c622121c",
            "f72c973a80784a1bbf98e18a6ce4c6b1",
            "dccb181b706e45e3a7c17c63988b56bf",
            "3c7dd2139a7042dd8caf672451862754",
            "349c267091f74340a26332fc36d32b19",
            "07b30fb67d2e456d9178f8d1a6c922b1",
            "833757c867e2425cad44ccfcdca1d299",
            "f3d4c843422249ebab48d79bc7ab5f1c",
            "cb1a75a3d45942c699cc6fae7a960038",
            "13f8b207899b471483555f20bf7360ad",
            "26fe2cbf287745c4930c616a4c6c5349",
            "ed84de455eea4aefbced2d6ec42d5159",
            "ae2fda0ba52d40b4991039006e6e65d4",
            "e28ec2781d8d42fdace8ca9fa6710c0f",
            "e7b20e2b2d914ec2a237eba595f9d1a1",
            "6da9ef3889c243e0b26b4e649af3a7dd",
            "1b71e9d2f7ae43e98410cb569dc6f4ca",
            "8e8163aaed664d9a8174d54c8857b5b3",
            "eae3164e0c254183b6908f03c23ca46d",
            "e1d7035afe9649bbad4c7919510405d2",
            "9d5673799c094dc8b268e3f7fef4be53",
            "2579197710cb4b9f83be88f74862387e",
            "75b1e6f916a443ee9848060b56f73c0d"
          ]
        },
        "id": "QGarnXUHrwwt",
        "outputId": "0b468534-8bc4-4e78-cc1f-f630a31c60c4"
      },
      "outputs": [],
      "source": [
        "Dx01y.simular('1010')"
      ]
    },
    {
      "cell_type": "code",
      "execution_count": null,
      "metadata": {
        "colab": {
          "base_uri": "https://localhost:8080/"
        },
        "id": "oBAunexBsYQq",
        "outputId": "c6a59991-c1ca-43b0-8738-d553c11a654a"
      },
      "outputs": [],
      "source": [
        "Dx01y.aceita('1010')"
      ]
    },
    {
      "cell_type": "code",
      "execution_count": null,
      "metadata": {
        "colab": {
          "base_uri": "https://localhost:8080/"
        },
        "id": "n6jextWkoLeF",
        "outputId": "02af53b5-5cb3-44a8-9c9d-84290d08dcf6"
      },
      "outputs": [],
      "source": [
        "Dx01y.trace_print()"
      ]
    },
    {
      "cell_type": "code",
      "execution_count": null,
      "metadata": {
        "colab": {
          "base_uri": "https://localhost:8080/",
          "height": 98
        },
        "id": "zASADELjsSNJ",
        "outputId": "eb9e05fd-7015-4e8d-ff08-f10900523edb"
      },
      "outputs": [],
      "source": [
        "Dx01y.trace_visualizar()"
      ]
    },
    {
      "cell_type": "code",
      "execution_count": null,
      "metadata": {
        "colab": {
          "base_uri": "https://localhost:8080/"
        },
        "id": "XpNas7nqjG4D",
        "outputId": "c83b7982-9bf1-4c60-f732-e6d6b16ff220"
      },
      "outputs": [],
      "source": [
        "Dx01y.aceita('1100')"
      ]
    },
    {
      "cell_type": "code",
      "execution_count": null,
      "metadata": {
        "colab": {
          "base_uri": "https://localhost:8080/"
        },
        "id": "3bXMd4f2_fiB",
        "outputId": "f8be9e6e-1a94-4e0c-a4cb-d306002b62ec"
      },
      "outputs": [],
      "source": [
        "Dx01y.trace_print()"
      ]
    },
    {
      "cell_type": "code",
      "execution_count": null,
      "metadata": {
        "colab": {
          "base_uri": "https://localhost:8080/",
          "height": 88
        },
        "id": "YINhVhCi5xV5",
        "outputId": "9a0ece05-435e-4ffb-b780-dea1ab1f72f0"
      },
      "outputs": [],
      "source": [
        "Dx01y.trace_visualizar()"
      ]
    },
    {
      "cell_type": "code",
      "execution_count": null,
      "metadata": {
        "colab": {
          "base_uri": "https://localhost:8080/",
          "height": 225
        },
        "id": "nBJ0Biuq6QH8",
        "outputId": "df3977e5-c4e2-4163-a316-049ddc3f934f"
      },
      "outputs": [],
      "source": [
        "casos_testes ={\n",
        "    '':False,\n",
        "    '01':True,\n",
        "    '0011': True,\n",
        "    '110':False,\n",
        "    '00':False\n",
        "}\n",
        "Dx01y.exibir_resultados(casos_testes)"
      ]
    },
    {
      "cell_type": "markdown",
      "metadata": {
        "id": "YlCjxThx8r8J"
      },
      "source": [
        "## Exemplo a Linguagem que inicia em 01\n"
      ]
    },
    {
      "cell_type": "code",
      "execution_count": null,
      "metadata": {
        "colab": {
          "base_uri": "https://localhost:8080/",
          "height": 284
        },
        "id": "sxyjWWHr8xdn",
        "outputId": "76d428bf-931d-47fa-b746-f0f04ad5bef1"
      },
      "outputs": [],
      "source": [
        "Q = {'q0','q1','q2', 'q3'}\n",
        "Sigma = {'0','1'}\n",
        "q0 = 'q0'\n",
        "delta = {\n",
        "    ('q0','0'):'q1',\n",
        "    ('q0','1'):'q3',\n",
        "    ('q1','0'):'q3',\n",
        "    ('q1','1'):'q2',\n",
        "    ('q2','0'):'q2',\n",
        "    ('q2','1'):'q2',\n",
        "    ('q3','0'):'q3',\n",
        "    ('q3','1'):'q3'\n",
        "}\n",
        "F = {'q2'}\n",
        "D01x = DFA(Q,Sigma,q0,delta,F)\n",
        "print(\"A Linguagem que inicia em 01\")\n",
        "D01x.visualizar()"
      ]
    },
    {
      "cell_type": "code",
      "execution_count": null,
      "metadata": {
        "colab": {
          "base_uri": "https://localhost:8080/",
          "height": 225
        },
        "id": "T2rPnjfC9X7B",
        "outputId": "1db3656c-a880-4856-d6df-31282a49340e"
      },
      "outputs": [],
      "source": [
        "casos_testes ={\n",
        "    '':False,\n",
        "    '01':True,\n",
        "    '0110': True,\n",
        "    '1010':False,\n",
        "    '010':True\n",
        "}\n",
        "D01x.exibir_resultados(casos_testes)"
      ]
    },
    {
      "cell_type": "markdown",
      "metadata": {
        "id": "1o2L-sx18lmg"
      },
      "source": [
        "## Estado Morto (Dead or Trap State)\n",
        "Definimos um DFA para ter uma transição de qualquer estado, sobre qualquer símbolo de entrada, para exatamente um estado (formalmente, uma função total).\n",
        "\n",
        "Às vezes, é mais conveniente projetar o DFA para **morrer** em situações nas quais sabemos que é impossível qualquer extensão da sequência de entrada ser aceita.\n",
        "\n",
        "Nessas situações, podemos adicionar um estado morto e transições a partir de todos os estados com as entradas para as quais não se tem nenhuma outra transição. \n"
      ]
    },
    {
      "cell_type": "code",
      "execution_count": null,
      "metadata": {
        "colab": {
          "base_uri": "https://localhost:8080/",
          "height": 160
        },
        "id": "ILwUGCWS5Srv",
        "outputId": "0955d988-e618-48e3-dd63-7c88f2543a49"
      },
      "outputs": [],
      "source": [
        "Q = {'q0','q1','q2'}\n",
        "Sigma = {'0','1'}\n",
        "q0 = 'q0'\n",
        "delta = {\n",
        "    ('q0','0'):'q1',\n",
        "    ('q1','1'):'q2',\n",
        "    ('q2','0'):'q2',\n",
        "    ('q2','1'):'q2',\n",
        "}\n",
        "F = {'q2'}\n",
        "D01x_sem_estado_morto = DFA(Q,Sigma,q0,delta,F)\n",
        "print(\"A Linguagem que inicia em 01 sem estado morto\")\n",
        "D01x_sem_estado_morto.visualizar()"
      ]
    },
    {
      "cell_type": "code",
      "execution_count": null,
      "metadata": {
        "colab": {
          "base_uri": "https://localhost:8080/",
          "height": 143
        },
        "id": "pk_1XasjyE4T",
        "outputId": "dceddac9-8ac3-4dc2-f5a7-e2afbee2242d"
      },
      "outputs": [],
      "source": [
        "D01x_sem_estado_morto.tabela()"
      ]
    },
    {
      "cell_type": "code",
      "execution_count": null,
      "metadata": {
        "colab": {
          "base_uri": "https://localhost:8080/",
          "height": 225
        },
        "id": "HoqF89BV-dHM",
        "outputId": "9b16e0f6-8463-4793-b587-c0804665710e"
      },
      "outputs": [],
      "source": [
        "casos_testes ={\n",
        "    '':False,\n",
        "    '01':True,\n",
        "    '0110': True,\n",
        "    '1010':False,\n",
        "    '010':True\n",
        "}\n",
        "D01x_sem_estado_morto.exibir_resultados(casos_testes)"
      ]
    },
    {
      "cell_type": "markdown",
      "metadata": {
        "id": "rj5tg9f_oJ71"
      },
      "source": [
        "## Minimização de DFA\n",
        "\n"
      ]
    },
    {
      "cell_type": "code",
      "execution_count": null,
      "metadata": {
        "colab": {
          "base_uri": "https://localhost:8080/",
          "height": 212
        },
        "id": "GNc1bJ0sogq-",
        "outputId": "b8d1babf-d860-422b-c970-523c7bfa3cd1"
      },
      "outputs": [],
      "source": [
        "Q = {'A','B','C','D','E'}\n",
        "Sigma = {'0','1'}\n",
        "q0 = 'A'\n",
        "delta = {\n",
        "    ('A','0'):'B',\n",
        "    ('A','1'):'C',\n",
        "    ('B','0'):'B',\n",
        "    ('B','1'):'D',\n",
        "    ('C','0'):'B',\n",
        "    ('C','1'):'C',\n",
        "    ('D','0'):'B',\n",
        "    ('D','1'):'E',\n",
        "    ('E','0'):'B',\n",
        "    ('E','1'):'C',\n",
        "}\n",
        "F = {'E'}\n",
        "D_1 = DFA(Q,Sigma,q0,delta,F)\n",
        "# print(\"A Linguagem que inicia em 01 sem estado morto\")\n",
        "D_1.visualizar()"
      ]
    },
    {
      "cell_type": "code",
      "execution_count": null,
      "metadata": {
        "colab": {
          "base_uri": "https://localhost:8080/"
        },
        "id": "GTyRy2W3vBf8",
        "outputId": "55b91aca-ec96-437f-a541-df26045c8aef"
      },
      "outputs": [],
      "source": [
        "d = D_1.minimization(show_partitions=True)"
      ]
    },
    {
      "cell_type": "code",
      "execution_count": null,
      "metadata": {
        "colab": {
          "base_uri": "https://localhost:8080/",
          "height": 192
        },
        "id": "BFphrde6pHPg",
        "outputId": "9b438b3b-3436-400e-fb17-141076fb38ac"
      },
      "outputs": [],
      "source": [
        "D_MIN = D_1.minimization()\n",
        "D_MIN.rename()\n",
        "D_MIN.visualizar()"
      ]
    },
    {
      "cell_type": "code",
      "execution_count": null,
      "metadata": {
        "colab": {
          "base_uri": "https://localhost:8080/",
          "height": 210
        },
        "id": "F2yPwAMlwUWy",
        "outputId": "290a907e-a63c-4b2f-d96f-b0d4d3f46767"
      },
      "outputs": [],
      "source": [
        "Q = {'A','B','C','D','E','F'}\n",
        "Sigma = {'0','1'}\n",
        "q0 = 'A'\n",
        "delta = {\n",
        "    ('A','0'):'B',\n",
        "    ('A','1'):'C',\n",
        "    ('B','0'):'A',\n",
        "    ('B','1'):'D',\n",
        "    ('C','0'):'E',\n",
        "    ('C','1'):'F',\n",
        "    ('D','0'):'E',\n",
        "    ('D','1'):'F',\n",
        "    ('E','0'):'E',\n",
        "    ('E','1'):'F',\n",
        "    ('F','0'):'F',\n",
        "    ('F','1'):'F',\n",
        "}\n",
        "F = {'C','D','E'}\n",
        "D_3 = DFA(Q,Sigma,q0,delta,F)\n",
        "# print(\"A Linguagem que inicia em 01 sem estado morto\")\n",
        "D_3.visualizar()"
      ]
    },
    {
      "cell_type": "code",
      "execution_count": null,
      "metadata": {
        "colab": {
          "base_uri": "https://localhost:8080/"
        },
        "id": "ZB6LCVtEw78p",
        "outputId": "92e89504-6cd5-43b1-a721-9c4d8b75a552"
      },
      "outputs": [],
      "source": [
        "d = D_3.minimization(show_partitions=True)"
      ]
    },
    {
      "cell_type": "code",
      "execution_count": null,
      "metadata": {
        "colab": {
          "base_uri": "https://localhost:8080/",
          "height": 137
        },
        "id": "6uIC1MDawq_P",
        "outputId": "a8f12d70-71a2-456f-cad5-9805fe152c10"
      },
      "outputs": [],
      "source": [
        "D_3_MIN = D_3.minimization()\n",
        "D_3_MIN.rename()\n",
        "D_3_MIN.visualizar()"
      ]
    },
    {
      "cell_type": "markdown",
      "metadata": {
        "id": "jbbNFLpXKE5m"
      },
      "source": [
        "## Removendo Estados Não Alcancáveis"
      ]
    },
    {
      "cell_type": "code",
      "execution_count": null,
      "metadata": {
        "colab": {
          "base_uri": "https://localhost:8080/",
          "height": 480
        },
        "id": "6pSphyokzUP9",
        "outputId": "3c97d9f2-9b6a-48ad-ab0d-cb73c21617fa"
      },
      "outputs": [],
      "source": [
        "Q = { 'q0','q1','q2','q3','q4','q5','q6','q7'}\n",
        "q0 = 'q0'\n",
        "F = {'q2'}\n",
        "Sigma = {'0','1'}\n",
        "delta = {('q0','0'): 'q1',('q0','1'): 'q5', \n",
        "            ('q1','0'): 'q6',('q1','1'): 'q2', \n",
        "            ('q2','0'): 'q0',('q2','1'): 'q2', \n",
        "            ('q3','0'): 'q2',('q3','1'): 'q6', \n",
        "            ('q4','0'): 'q7',('q4','1'): 'q5', \n",
        "            ('q5','0'): 'q2',('q5','1'): 'q6', \n",
        "            ('q6','0'): 'q6',('q6','1'): 'q4', \n",
        "            ('q7','0'): 'q6',('q7','1'): 'q2'\n",
        "                }  \n",
        "D_4 = DFA(Q,Sigma,q0,delta,F)\n",
        "D_4.visualizar()"
      ]
    },
    {
      "cell_type": "code",
      "execution_count": null,
      "metadata": {
        "colab": {
          "base_uri": "https://localhost:8080/",
          "height": 390
        },
        "id": "uQEc5NVI6dA6",
        "outputId": "a7f73f4c-2ebe-485d-823c-b0b4d4fe070a"
      },
      "outputs": [],
      "source": [
        "D_4.remove_unreachable_states()\n",
        "D_4.visualizar()"
      ]
    },
    {
      "cell_type": "code",
      "execution_count": null,
      "metadata": {
        "colab": {
          "base_uri": "https://localhost:8080/",
          "height": 289
        },
        "id": "ln0cDHeOAieU",
        "outputId": "717deb42-3f24-44d1-ad66-c8a2608c356a"
      },
      "outputs": [],
      "source": [
        "D_4A = D_4.minimization()\n",
        "D_4A.rename()\n",
        "D_4A.visualizar()"
      ]
    },
    {
      "cell_type": "code",
      "execution_count": null,
      "metadata": {
        "colab": {
          "base_uri": "https://localhost:8080/",
          "height": 237
        },
        "id": "1UTerpy7BUyF",
        "outputId": "d243d25f-824e-4877-dfa1-df3b3561bf04"
      },
      "outputs": [],
      "source": [
        "Q = states = {'p','q','r','s','t'}\n",
        "q0 = 'p'\n",
        "F = {'s','t','r'}\n",
        "Sigma = {'a','b'}\n",
        "delta = {('p','b'): 'q',('p','a'): 's', \n",
        "            ('q','b'): 'r',('q','a'): 't', \n",
        "            ('r','b'): 'r',('r','a'): 'r', \n",
        "            ('s','b'): 's',('s','a'): 's', \n",
        "            # ('t','b'): 't',('t','a'): 't', \n",
        "                }\n",
        "D_5 = DFA(Q,Sigma,q0,delta,F)\n",
        "D_5.visualizar()"
      ]
    },
    {
      "cell_type": "code",
      "execution_count": null,
      "metadata": {
        "colab": {
          "base_uri": "https://localhost:8080/",
          "height": 222
        },
        "id": "zK3BZ0SlCbtL",
        "outputId": "bd08bf83-1bb6-4cc7-c1aa-85154aef7b36"
      },
      "outputs": [],
      "source": [
        "D_5_min = D_5.minimization()\n",
        "D_5_min.rename()\n",
        "D_5_min.visualizar()"
      ]
    },
    {
      "attachments": {},
      "cell_type": "markdown",
      "metadata": {
        "id": "FLgwUsCze_LI"
      },
      "source": [
        "# [Autômato Finito Não-Determinístico (NFA)](https://youtu.be/wn1MoRckoWU)\n",
        "Um **Autômato Finito Não-Determinístico (NFA)** é definido por $N=\\langle Q_N, \\Sigma, \\delta_N, q_0,F_N\\rangle$, onde:\n",
        "- $Q_N$ é um conjunto finito de **estados**\n",
        "- $\\Sigma$ é um conjunto finito de **entradas (alfabeto)**\n",
        "- $q_0$ é um **estado inicial** ($q_0\\in Q_N$)\n",
        "- $F_N$ é um conjunto de **estados finais (ou de aceitação)** ($F_N\\subseteq Q_N$)\n",
        "- $\\delta_N: Q_N\\times\\Sigma\\rightarrow 2^{Q_N}$ é uma **função de transição** que toma como argumento um estado e uma entrada e retorna um conjunto de estados de $Q_N$\n",
        "\n",
        "> **Exemplo:** Um NFA que reconhece as palavras que terminam em 01:\n",
        "> - $Q_N=\\{q_0,q_1,q_2\\},~~\\Sigma =\\{0,1\\}$\n",
        "> - $q_0$ é o estado inicial e $F_N=\\{q_2\\}$\n",
        "> - $\\delta_N(q_0,0) = \\{q_0,q_1\\}  \\qquad\\delta_N(q_0,1) = \\{q_0\\}$\n",
        ">\n",
        ">   $\\delta_N(q_1,0) = \\emptyset \\qquad \\qquad\\delta_N(q_1,1) = \\{q_2\\}$\n",
        ">\n",
        ">   $\\delta_N(q_2,0) = \\emptyset \\qquad \\qquad\\delta_N(q_2,1) = \\emptyset$"
      ]
    },
    {
      "cell_type": "code",
      "execution_count": null,
      "metadata": {
        "colab": {
          "base_uri": "https://localhost:8080/",
          "height": 155
        },
        "id": "LQuqmKh8jLSG",
        "outputId": "ecf82186-6171-4c7f-e810-38ae6b605a0c"
      },
      "outputs": [],
      "source": [
        "Q = {'q0','q1','q2'}\n",
        "Sigma = {'0','1'}\n",
        "q0 = 'q0'\n",
        "delta = {\n",
        "    ('q0','0'):{'q0','q1'},\n",
        "    ('q0','1'):{'q0'},\n",
        "    ('q1','1'):{'q2'},\n",
        "}\n",
        "F = {'q2'}\n",
        "Nx01 = NFA(Q,Sigma,q0,delta,F)\n",
        "print(\"NFA que reconhece as palavras que terminam em 01\")\n",
        "Nx01.visualizar(highlightNonDeterministic=True)"
      ]
    },
    {
      "cell_type": "code",
      "execution_count": null,
      "metadata": {
        "colab": {
          "base_uri": "https://localhost:8080/",
          "height": 143
        },
        "id": "EEOUK4Lsx57i",
        "outputId": "a6dfc392-42c4-4318-c67f-39be835a3f76"
      },
      "outputs": [],
      "source": [
        "Nx01.tabela()"
      ]
    },
    {
      "attachments": {},
      "cell_type": "markdown",
      "metadata": {
        "id": "4tvZAby8jLag"
      },
      "source": [
        "## Função de Transição Estendida\n",
        "Para definirmos uma computação, precisamos definir uma função de transição estendida $\\bar{\\delta}_N: Q_N\\times \\Sigma^*\\rightarrow 2^{Q_N}$ que irá computar uma palavra a partir de um estado. Formalmente, temos:\n",
        "\\begin{align*}\n",
        "      \\bar{\\delta}_N(q,\\epsilon) & = & \\{q\\}\n",
        "\\\\    \\bar{\\delta}_N(q,xa) & = & \\bigcup_{p\\in \\bar{\\delta}_N(q,x)}\\delta_N(p,a)\n",
        "\\end{align*}\n",
        "\n",
        "> **Exemplo:** A palavra $0101$ é processada pela função estendida $\\bar{\\delta}_D$ do NFA $N_{x01}$\n",
        "\\begin{align*}\n",
        "    \\bar{\\delta}_N(q_0,0101)& = & \\!\\!\\!\\!\\bigcup_{p\\in \\bar{\\delta}_N(q_0,010)}\\!\\!\\!\\!\\!\\!\\!\\!\\delta_N(p,1) = \\delta_N(q_0,1) \\cup \\delta_N(q_1,1) = \\{q_0\\}\\!\\cup\\!\\{q_2\\} =\\{q_0,q_2\\}\n",
        "    \\\\ \\bar{\\delta}_N(q_0,010)& = & \\!\\!\\!\\!\\bigcup_{p\\in \\bar{\\delta}_N(q_0,01)}\\!\\!\\!\\!\\!\\!\\!\\!\\delta_N(p,0)= \\delta_N(q_0,0) \\cup \\delta_N(q_2,0) = \\{q_0,q_1\\}\\!\\cup\\!\\emptyset =\\{q_0,q_1\\}\n",
        "    \\\\ \\bar{\\delta}_N(q_0,01)& = & \\!\\!\\!\\!\\bigcup_{p\\in \\bar{\\delta}_N(q_0,0)}\\!\\!\\!\\!\\!\\!\\delta_N(p,1) = \\delta_N(q_0,1) \\cup \\delta_N(q_1,1) = \\{q_0\\}\\!\\cup\\!\\{q_2\\} =\\{q_0,q_2\\}\n",
        "    \\\\ \\bar{\\delta}_N(q_0,0)& = & \\!\\!\\!\\!\\bigcup_{p\\in \\bar{\\delta}_N(q_0,\\epsilon)}\\!\\!\\!\\!\\!\\!\\delta_N(p,0) = \\delta_N(q_0,0) = \\{q_0,q_1\\}\n",
        "    \\\\ \\bar{\\delta}_N(q_0,\\epsilon)& = & \\{q_0\\}\n",
        "\\end{align*}\n"
      ]
    },
    {
      "cell_type": "code",
      "execution_count": null,
      "metadata": {
        "colab": {
          "base_uri": "https://localhost:8080/",
          "height": 167
        },
        "id": "6qjMx5iLwD6B",
        "outputId": "bc48e8ac-15c3-4855-d6a8-2f29dc6e33af"
      },
      "outputs": [],
      "source": [
        "S = Nx01.delta('q0','0101',show_steps=True)"
      ]
    },
    {
      "attachments": {},
      "cell_type": "markdown",
      "metadata": {
        "id": "xF20zU5RjSz3"
      },
      "source": [
        "## Linguagem Regular\n",
        "Seja um NFA $N=\\langle Q_N, \\Sigma, \\delta_N, q_0,F_N\\rangle$ Dizemos que $L(N)$ denota a **Linguagem Regular** do NFA e é definida por:\n",
        "\\begin{align*}\n",
        "      L(N) & = & \\{w | \\bar{\\delta}_N(q_0,w)\\cap F_N\\neq\\emptyset\\}\n",
        "\\end{align*}"
      ]
    },
    {
      "cell_type": "code",
      "execution_count": null,
      "metadata": {
        "colab": {
          "base_uri": "https://localhost:8080/",
          "height": 81,
          "referenced_widgets": [
            "9466326991804cc98af9f5f936cbe540",
            "ce5c10b676734260bc20db39184a9326",
            "216e5ae8be05445593c86282d471884c",
            "411f6d22d3cb4ab39b8276d367d78f23",
            "53318ba76a0d4b5cab6a6ae84ad4c5fb",
            "08248a33b8484450ab99ad0a0f2e37e8",
            "0164988bd5294b65b98e5228b91d7d44",
            "0995c8ce130348828fc4ef53e564c115",
            "705fc78419ae4f7ca5fa028e7ba1c9c5",
            "5b4887288cb64beaa4fd33f561f9835d",
            "5ad059f61e0a4d18a3938fb4aa650b0d",
            "3dd9e65ed2aa446690d304ba984aa172",
            "4196f05ac1a54200b1389e380da20e41",
            "41b6b4178cf34376b03abb85932f5e5a",
            "b5404edee58d4bc4addb064991cf25f7",
            "49484c961fcd499ab1fe9f62eb4a8127",
            "8b27f30a058b48f39518fea5c631ec35",
            "68343877bf784c3aa3f2284a29f31b81",
            "4238aea969d9403abc165888c7151ced",
            "dd78f83adfa346859f29cb6ae00e206d",
            "35af6a124b5a491c86f87f4055fa56cf",
            "aea3041a57e041d09884576f1db4292e",
            "59760fb0957643f185e5eae946d4da33",
            "6885ed9f84a54ae1a0e1cf597320b5c8",
            "e04583d2af5742e791554b25adc5c2d2",
            "3150b3df7c284b718ebecd41c817ab8c"
          ]
        },
        "id": "U9NrhtSiFEWn",
        "outputId": "57103fa1-ec11-4fd3-9d42-0f613029a988"
      },
      "outputs": [],
      "source": [
        "Nx01.simular('0101')"
      ]
    },
    {
      "cell_type": "code",
      "execution_count": null,
      "metadata": {
        "colab": {
          "base_uri": "https://localhost:8080/"
        },
        "id": "CDjSDEE8jTTO",
        "outputId": "cc284494-6768-49ee-a846-9f6671bf0246"
      },
      "outputs": [],
      "source": [
        "Nx01.aceita('0101')"
      ]
    },
    {
      "cell_type": "code",
      "execution_count": null,
      "metadata": {
        "colab": {
          "base_uri": "https://localhost:8080/"
        },
        "id": "t9mmjGY2wnjg",
        "outputId": "64c817c8-ee53-4796-f509-33d7b36e8717"
      },
      "outputs": [],
      "source": [
        "Nx01.trace_print()"
      ]
    },
    {
      "cell_type": "code",
      "execution_count": null,
      "metadata": {
        "colab": {
          "base_uri": "https://localhost:8080/",
          "height": 144
        },
        "id": "a_xkg30hxqzH",
        "outputId": "bdfc16f5-5e5e-41e3-a846-b574dec7328f"
      },
      "outputs": [],
      "source": [
        "Nx01.trace_visualizar()"
      ]
    },
    {
      "cell_type": "code",
      "execution_count": null,
      "metadata": {
        "colab": {
          "base_uri": "https://localhost:8080/"
        },
        "id": "CwBMg0H0IK4Z",
        "outputId": "c0c47be3-b14a-4e10-ed9b-4125de5121c8"
      },
      "outputs": [],
      "source": [
        "Nx01.aceita('010')"
      ]
    },
    {
      "cell_type": "code",
      "execution_count": null,
      "metadata": {
        "colab": {
          "base_uri": "https://localhost:8080/"
        },
        "id": "OBMN_0gQTaQ0",
        "outputId": "ba025e7f-d690-4891-f2e4-e40f6e907bb4"
      },
      "outputs": [],
      "source": [
        "Nx01.trace_print()"
      ]
    },
    {
      "cell_type": "code",
      "execution_count": null,
      "metadata": {
        "colab": {
          "base_uri": "https://localhost:8080/",
          "height": 160
        },
        "id": "QOi9CC9J6dM3",
        "outputId": "a96ea8b6-0b93-40a2-be97-b89ea31382d8"
      },
      "outputs": [],
      "source": [
        "Nx01.trace_visualizar()"
      ]
    },
    {
      "cell_type": "code",
      "execution_count": null,
      "metadata": {
        "colab": {
          "base_uri": "https://localhost:8080/"
        },
        "id": "5bn6vzOzQsNs",
        "outputId": "91f8cc32-ad00-4928-8f6e-91d885f13930"
      },
      "outputs": [],
      "source": [
        "Nx01.aceita('0101')\n",
        "Nx01.traces_to_deduction_print()"
      ]
    },
    {
      "cell_type": "markdown",
      "metadata": {
        "id": "8j9a8-II6juc"
      },
      "source": [
        "### Equivalência entre NFA e DFA\n",
        "Todo NFA $N$ pode ser transformado em um DFA $N_D$ de tal forma que $L(N)=L(N_D)$"
      ]
    },
    {
      "cell_type": "code",
      "execution_count": null,
      "metadata": {
        "colab": {
          "base_uri": "https://localhost:8080/",
          "height": 254
        },
        "id": "NAkJOMcwQueT",
        "outputId": "16951058-32b4-46ec-e9f2-b51edcd136cc"
      },
      "outputs": [],
      "source": [
        "Dx01_N = Nx01.determinization()\n",
        "Dx01_N.visualizar()"
      ]
    },
    {
      "cell_type": "markdown",
      "metadata": {
        "id": "z2dg1qOJWfFa"
      },
      "source": [
        "# [Autômato Finito Não-Determinístico com Transições Vazias](https://youtu.be/uJ17jNASLrk)\n",
        "**Um Autômato Finito Não-Determinístico com transições vazia** ($\\epsilon$-NFA) é definido por $N_\\epsilon=\\langle Q_\\epsilon, \\Sigma, \\delta_\\epsilon, q_0,F_\\epsilon\\rangle$, onde:\n",
        "- $Q_\\epsilon$ é um conjunto finito de **estados**\n",
        "- $\\Sigma$ é um conjunto finito de **entradas (alfabeto)**\n",
        "- $q_0$ é um **estado inicial** ($q_0\\in Q_\\epsilon$)\n",
        "- $F_\\epsilon$ é um conjunto de **estados finais (ou de aceitação)** ($F_\\epsilon\\subseteq Q_\\epsilon$)\n",
        "- $\\delta_\\epsilon: Q_\\epsilon\\times\\Sigma\\cup\\{\\epsilon\\}\\rightarrow 2^{Q_\\epsilon}$ é uma **função de transição** que toma como argumento um estado e uma entrada ou símbolo vazio $\\epsilon$ e retorna um conjunto de estados de $Q_\\epsilon$"
      ]
    },
    {
      "cell_type": "code",
      "execution_count": null,
      "metadata": {
        "colab": {
          "base_uri": "https://localhost:8080/",
          "height": 160
        },
        "id": "Z9o-a06Qv7al",
        "outputId": "a46f3352-aaaf-4800-bc49-8cde2930b223"
      },
      "outputs": [],
      "source": [
        "Q = {'q0','q1','q2'}\n",
        "Sigma = {'0','1'}\n",
        "q0 = 'q0'\n",
        "delta = {\n",
        "    ('q0','0'):{'q1'},\n",
        "    ('q0',''):{'q2'},\n",
        "    ('q1','0'):{'q2'},\n",
        "    ('q2','1'):{'q2'},\n",
        "}\n",
        "F = {'q2'}\n",
        "Nx00_1 = NFA_E(Q,Sigma,q0,delta,F)\n",
        "print(\"NFA-Epsilon que reconhece as palavras que iniciam com 00 ou vazio e depois tem apenas 1's\")\n",
        "Nx00_1.visualizar(highlightNonDeterministic=True)"
      ]
    },
    {
      "cell_type": "markdown",
      "metadata": {
        "id": "_luDhLfCXyIQ"
      },
      "source": [
        "## $\\epsilon$-Fechamento\n",
        "Definimos $S_\\epsilon(q)$ como o $\\epsilon$-fechamento do estado $q$ indutivamente como segue:\n",
        "- $q\\in S_\\epsilon(q)$\n",
        "- Se $p\\in S_\\epsilon(q)$ e exite uma transição $\\epsilon$ a partir de $p$, então $\\delta_\\epsilon(p,\\epsilon)\\subseteq S_\\epsilon(q)$."
      ]
    },
    {
      "cell_type": "code",
      "execution_count": null,
      "metadata": {
        "colab": {
          "base_uri": "https://localhost:8080/"
        },
        "id": "NLGF8mDMwoWk",
        "outputId": "fd45036e-c0a7-4e42-9f82-656fd56dc9fd"
      },
      "outputs": [],
      "source": [
        "print(f\"𝑆𝜖(𝑞0) = {Nx00_1.epsilon_closure['q0']}\")\n",
        "print(f\"𝑆𝜖(𝑞1) = {Nx00_1.epsilon_closure['q1']}\")\n",
        "print(f\"𝑆𝜖(𝑞2) = {Nx00_1.epsilon_closure['q2']}\")"
      ]
    },
    {
      "cell_type": "code",
      "execution_count": null,
      "metadata": {
        "colab": {
          "base_uri": "https://localhost:8080/",
          "height": 143
        },
        "id": "QRMk-QmH1vBW",
        "outputId": "1e38bb88-a20c-43fb-dde0-a20d8680d30a"
      },
      "outputs": [],
      "source": [
        "Nx00_1.tabela()"
      ]
    },
    {
      "attachments": {},
      "cell_type": "markdown",
      "metadata": {
        "id": "fpGRzzV8YHUO"
      },
      "source": [
        "## Função de Transição Estendida\n",
        "Para definirmos uma computação, precisamos definir uma função de transição estendida $\\bar{\\delta}_\\epsilon: Q_\\epsilon\\times \\Sigma^*\\rightarrow 2^{Q_\\epsilon}$ que irá computar uma palavra a partir de um estado. Formalmente, temos:\n",
        "\\begin{align*}\n",
        "      \\bar{\\delta}_\\epsilon(q,\\epsilon) & = & S_\\epsilon(q)\n",
        "\\\\    \\bar{\\delta}_\\epsilon(q,xa) & = & \\bigcup_{r\\in R}S_\\epsilon (r)\\text{, onde } R=\\!\\!\\!\\!\\!\\bigcup_{p\\in \\bar{\\delta}_\\epsilon(q,x)}\\!\\!\\!\\!\\delta_\\epsilon(p,a)\n",
        "\\end{align*}\n",
        "\n"
      ]
    },
    {
      "attachments": {},
      "cell_type": "markdown",
      "metadata": {
        "id": "lL2HC7bsZ5WL"
      },
      "source": [
        "# Linguagem Regular\n",
        "Seja um $\\epsilon-$NFA $N_\\epsilon=\\langle Q_\\epsilon, \\Sigma, \\delta_\\epsilon, q_0,F_\\epsilon\\rangle$. Dizemos que $L(N_\\epsilon)$ denota a **Linguagem Regular** do $\\epsilon-$NFA e é definida por:\n",
        "\\begin{align*}\n",
        "      L(N_\\epsilon) & = & \\{w | \\bar{\\delta}_\\epsilon(q_0,w)\\cap F_\\epsilon\\neq\\emptyset\\}\n",
        "\\end{align*}"
      ]
    },
    {
      "cell_type": "code",
      "execution_count": null,
      "metadata": {
        "colab": {
          "base_uri": "https://localhost:8080/"
        },
        "id": "2emzjP5EQ71z",
        "outputId": "cf104043-a376-4973-a98b-e39ca8280691"
      },
      "outputs": [],
      "source": [
        "Nx00_1.aceita('00111')"
      ]
    },
    {
      "cell_type": "code",
      "execution_count": null,
      "metadata": {
        "colab": {
          "base_uri": "https://localhost:8080/"
        },
        "id": "ZYnE5FRwxY5z",
        "outputId": "2f03b440-6c71-434a-ffc9-521f1717bf5a"
      },
      "outputs": [],
      "source": [
        "Nx00_1.trace_print()"
      ]
    },
    {
      "cell_type": "code",
      "execution_count": null,
      "metadata": {
        "colab": {
          "base_uri": "https://localhost:8080/",
          "height": 137
        },
        "id": "3tuV-bCYxZuq",
        "outputId": "b46dfb85-1be7-4015-8c69-ebbda0dee5a5"
      },
      "outputs": [],
      "source": [
        "Nx00_1.trace_visualizar()"
      ]
    },
    {
      "cell_type": "code",
      "execution_count": null,
      "metadata": {
        "colab": {
          "base_uri": "https://localhost:8080/"
        },
        "id": "nUZ4KzGMRHwD",
        "outputId": "7a4b4819-bf47-4b3a-cd6c-3d58fe86b94b"
      },
      "outputs": [],
      "source": [
        "Nx00_1.traces_to_deduction_print()"
      ]
    },
    {
      "cell_type": "code",
      "execution_count": null,
      "metadata": {
        "colab": {
          "base_uri": "https://localhost:8080/",
          "height": 225
        },
        "id": "3LyPrAecymp3",
        "outputId": "e5ba8aa2-9038-4a23-ea14-273de7ccef5f"
      },
      "outputs": [],
      "source": [
        "casos_testes ={\n",
        "    '':True,\n",
        "    '001':True,\n",
        "    '00111': True,\n",
        "    '110':False,\n",
        "    '00':True\n",
        "}\n",
        "Nx00_1.display_results(casos_testes)"
      ]
    },
    {
      "cell_type": "code",
      "execution_count": null,
      "metadata": {
        "colab": {
          "base_uri": "https://localhost:8080/",
          "height": 81,
          "referenced_widgets": [
            "7d5825438cc94bc982384ab1ac4e14c0",
            "89760637dd7e4a7980c72174154d8bd8",
            "99bd858957054c4ab28b9df17dadf97b",
            "9bacf44e67624a7fa0a734513f15da13",
            "8c55f262635946ecbece14f50032267e",
            "28eb309e71484d1aaca76d29bd476771",
            "90589b9dc92b44c3b2783c83e6950fd1",
            "78d57ef39b024cf7859836bec0dd15e8",
            "f2a5d55e0ecb482bb1b8e4738ef14356",
            "60cea5bbe60c4aeead02c4afe28d2785",
            "ceccdb4c02914878ab1a9b50b2e74ecf",
            "b953bf9759ed4cdfbc7076723a904d86",
            "0777bbd90b014c2dbda3df4291f25a70",
            "6a68a3fe3ca743d9a6ddcb0c9b57f8de",
            "7fb21bff2e094847b9739e7b95a49e9a",
            "d12196804e3f4370a15d1972b6c32423",
            "cfc659f578444f7ebcf0b9b3fddf5be6",
            "9d80868478184c0b893d6692ed870e54",
            "fbe00661e3d444b984a10d0d83024b6b",
            "8f9cf27085d148a789d5663126fe3c04",
            "64c1040b2d3a4236a3eabee61b276650",
            "dadc6a2e937546af86e32ab018a4e1be",
            "5b39ea045c0548a5b6d9af9c7eb35804",
            "5cc9a45b6c9a48199267f9591d56747a",
            "1f0076ea7e2a48b589ecd775649c3d00",
            "a92a0b25c8bd400aa50bef7a25ca3e13"
          ]
        },
        "id": "FG6hriWz8LHf",
        "outputId": "29608fa7-cebb-42ac-839c-b47c61beb3e3"
      },
      "outputs": [],
      "source": [
        "Nx00_1.simular('00111')"
      ]
    },
    {
      "cell_type": "code",
      "execution_count": null,
      "metadata": {
        "colab": {
          "base_uri": "https://localhost:8080/",
          "height": 196
        },
        "id": "BBpJzdtyzCm9",
        "outputId": "18abbc86-3ccc-4cd8-b820-9f20aabd4e8f"
      },
      "outputs": [],
      "source": [
        "D_Nx00_1= Nx00_1.determinization()\n",
        "D_Nx00_1.visualizar()"
      ]
    },
    {
      "attachments": {},
      "cell_type": "markdown",
      "metadata": {
        "id": "0egXDBqDP-nQ"
      },
      "source": [
        "# Autômato Finito Não-Determinístico com Building-Blocks (NFA-BB) \n",
        "\n",
        "Formalmente, um **Autômato Finito Não-Determinístico com Building-Blocks (NFA-BB)** é definido por $N=\\langle Q, \\Sigma, \\delta, q_0,F, l, n_{p}, \\mathcal{N}\\rangle$, onde:\n",
        "- $Q$ é um conjunto finito de **estados**\n",
        "- $\\Sigma$ é um conjunto finito de **entradas (alfabeto)**\n",
        "- $q_0$ é um **estado inicial** ($q_0\\in Q$)\n",
        "- $F$ é um conjunto de **estados finais (ou de aceitação)** ($F\\subseteq Q$)\n",
        "- $\\delta: Q\\times\\Sigma\\rightarrow 2^Q$ é uma **função de transição** que toma como argumento um estado e uma entrada e retorna um conjunto de estados.\n",
        "- $l$ é um **nome (label)** do NFA-BB.\n",
        "- $n_p$ é um **NFA-BB**, na qual este NFA-BB percente ($N\\in \\mathcal{N}_{n_p}$). Eventualmente, pode ser nenhum NFA-BB.\n",
        "- $\\mathcal{N}$ é um **conjunto finito de NFA-BB**, na qual para cada $n\\in \\mathcal{N}$, temos que o label de $n\\in Q$.\n",
        "  \n",
        ">  Defina $\\Phi_n$ como o **conjunto de todos os rótulos** (nomes) dos NFA-BBs de um NFA-BB $n$ por:\n",
        "\\begin{align*}\n",
        "\\mathcal{\\Phi}_n=\\bigcup_{n_p\\in\\mathcal{N}}\\left(\\{l\\}\\cup\\Phi_{n_p}\\right)\\textrm{, onde l é o nome de }n_p\n",
        "\\end{align*}\n",
        "\n",
        " \n",
        "\n",
        "> **Exemplo:** Seja a linguagem $\\{x0101y:x,y\\in\\Sigma^*\\}$, defina $n$ como o NFA-BB:\n",
        "- $Q=\\{q_0,p,q_4\\}$\n",
        "- $\\Sigma =\\{0,1\\}$\n",
        "- $q_0$ é o estado inicial\n",
        "- $F=\\{q_4\\}$\n",
        "- $\\delta(q_0,0) = \\{q_0,p\\},~\\delta(q_0,1) = \\{q_0\\},~\\delta(p,0) = \\emptyset,~\\delta(p,1) = \\{q_4\\},~\\delta(q_4,0) = \\{q_4\\},~\\delta(q_4,1) = \\{q_4\\}$\n",
        "- $n$ é o nome.\n",
        "- $\\mathcal{N}=\\{n_p\\}$, onde ${n_p}$ é definido por:\n",
        "  - $Q_{n_p}=\\{q_1,q_2,q_3\\}$\n",
        "  - $\\Sigma_{n_p} =\\{0,1\\}$\n",
        "  - $q_{{n_p}_0}$ é o estado inicial $q_1$\n",
        "  - $F_{n_p}=\\{q_3\\}$\n",
        "  - $\\delta_{n_p}(q_1,0) = \\emptyset,~\\delta_{n_p}(q_1,1) = \\{q_2\\},~\\delta_{n_p}(q_2,0) = \\{ q_3 \\},~\\delta_{n_p}(q_2,1) = \\emptyset,~\\delta_{n_p}(q_3,0) = \\emptyset,~\\delta_{n_p}(q_3,1) = \\emptyset$\n",
        "  - $p$ é o nome\n",
        "  - $\\mathcal{N}_{n_p}=\\emptyset$.\n",
        ">\n",
        "> Neste caso, $\\Phi_n=\\{p\\}$ e $\\Phi_p=\\emptyset$"
      ]
    },
    {
      "cell_type": "code",
      "execution_count": null,
      "metadata": {
        "colab": {
          "base_uri": "https://localhost:8080/",
          "height": 99,
          "referenced_widgets": [
            "5a37fbe0eb6d43bca5609a000f9cb410",
            "1451e75fa21346949f21f2ab39526db8",
            "1d1bdf9aa021498988880e4718ddd1f0",
            "014816522b334d5888bb66b4d0214a25",
            "812710ec561345e68ff492274d96598a",
            "deadd8c6138f423fa421b002ee95832a",
            "8617666ea90a4abf94794806905ac88d",
            "abdff2ab9546408db585cf55fb140d18",
            "e78a160c6e924514ab758b144a0a9300",
            "124595c6e79a479a87f9dd1f24abc3fc",
            "9c70b773f1ab42bb8c533e078c8101d5",
            "5c554e4cf50043e985d567f852deb340",
            "97d9b4482fb5481fb5b5b0c0744bd662",
            "ac90c076a2c647c19d679e19b3b00aed",
            "623162c751a0464c81965bf612423882",
            "36306957f1cf4a02a52bf022a48bd969",
            "74bfc76e750e481983975502ecfaf86a",
            "68103f0731574f92a51a0d79c06bc515",
            "bc7a46a1aa4a47dbb9071f4badebf469",
            "1eaab8fdcdd341f982d1095b02de991a",
            "ae3823a8999c4598a063038bb87da802",
            "307ccdf64cc34f73afc984cf57a83c9c",
            "bee08fb4f10242bbb2265bdb57ff55e1",
            "99215cb33cdd4182bdb41c1e4175436e",
            "6118f7ac26af4b9b8c71ef709cf56c3d",
            "01cb1c2be35b47b5b4eb83b9e9a836fe"
          ]
        },
        "id": "M35g2McxNsDc",
        "outputId": "41f23fd4-5c9f-4345-f7ba-499f81195414"
      },
      "outputs": [],
      "source": [
        "print(\"NFA sem Building-Blocks que reconhece a palavra x0101y\")\n",
        "Q = {'q0','q1','q2','q3', 'q4'}\n",
        "Sigma = {'0','1'}\n",
        "q0 = 'q0'\n",
        "delta = {\n",
        "    ('q0','0'): {'q0','q1'}, ('q0','1'):{'q0'},\n",
        "    ('q1','1'):{'q2'},\n",
        "    ('q2','0'):{'q3'}, \n",
        "    ('q3','1'):{'q4'},\n",
        "    ('q4','0'):{'q4'}, ('q4','1'):{'q4'},\n",
        "}\n",
        "F = {'q4'}\n",
        "Nx0101y = NFA_BB(Q,Sigma,q0,delta,F)\n",
        "Nx0101y.simular('1010110')"
      ]
    },
    {
      "cell_type": "code",
      "execution_count": null,
      "metadata": {
        "colab": {
          "base_uri": "https://localhost:8080/",
          "height": 99,
          "referenced_widgets": [
            "945f431bbf684fc1a320cfcd7499d98a",
            "a628acac6cf44feb91e44346c83c7376",
            "3e0ee568f7d348759a9ba54068d0d48f",
            "7c7cdec3ea5f4564be916002d80f3ba6",
            "430533a8200848c7af3068db4831c33a",
            "9b28fbf18e8e4cf29b62e37298e1d19a",
            "112cfb77454d47b7b577b4fe866ca1eb",
            "c6da6313d8e4469b8aca58a81f5f0f40",
            "a34ec78b574a4fb79ff69a26aba13059",
            "949ae857a7214aed9183e7618a99bcea",
            "ec5710b66a1a449e80310859ec93162d",
            "849a6b7e71fa43ac9724dea58dad4b9d",
            "2b9af498c428465ca09d697d515e2c4c",
            "afbd127ca19642778e8ce9408ef0496e",
            "49af87db664744fbab2e59d8fd9aab92",
            "a9875fe96fd34fa1b0db2e154f5fc149",
            "5b11df28d147469e90349fa9a2831d9b",
            "0c4d99f8eb5c41bd9b2a16811fb2cad3",
            "475e46d8b1c04b4a86b9d7b22cb37392",
            "6d8f30cfed8846898323c038f7c5ad97",
            "7b3d2e900fd741f990be33cd80efa089",
            "143e46fedb4548a2a16728a889dddc82",
            "b30de80fc8004a97a0f2de1187fdf3e4",
            "a7234b0e2165402b9229728b953a0928",
            "e42cc626f1bf4358923d889886d9e711",
            "a281c3c7cca04259b11e00444d706cfa"
          ]
        },
        "id": "3DxnOIb7R7OS",
        "outputId": "c98a83d8-7b9f-4511-8278-a575e72897b7"
      },
      "outputs": [],
      "source": [
        "print(\"NFA com Building-Blocks que reconhece a palavra x0101y\")\n",
        "Q = {'q1','q2','q3'}\n",
        "Sigma = {'0','1'}\n",
        "q0 = 'q1'\n",
        "delta = {\n",
        "    ('q1','1'):{'q2'},\n",
        "    ('q2','0'):{'q3'}, \n",
        "}\n",
        "F = {'q3'}\n",
        "Np = NFA_BB(Q,Sigma,q0,delta,F)\n",
        "Q = {'q0','p', 'q4'}\n",
        "Sigma = {'0','1'}\n",
        "q0 = 'q0'\n",
        "delta = {\n",
        "    ('q0','0'): {'q0','p'}, ('q0','1'):{'q0'},\n",
        "    ('p','1'):{'q4'},\n",
        "    ('q4','0'):{'q4'}, ('q4','1'):{'q4'},\n",
        "}\n",
        "F = {'q4'}\n",
        "NFAs = {'p':Np}\n",
        "Nx0101y_BB = NFA_BB(Q,Sigma,q0,delta,F, NFAs= NFAs)\n",
        "Nx0101y_BB.simular('1010110')"
      ]
    },
    {
      "attachments": {},
      "cell_type": "markdown",
      "metadata": {
        "id": "e3ccEYgKyjvr"
      },
      "source": [
        "## Descrição Instântanea de um NFA-BB\n",
        "\n",
        "Seja um Autômato Finito Não-Determinístico com Build-Blocks (NFA-BB) $n=\\langle Q, \\Sigma, \\delta, q_0,F, l,n_{l_p}, \\mathcal{N}\\rangle$. Para definirmos uma computação, precisamos definir a **Descrição Instantânea (ID)** de um NFA-BB, levando-se em consideração a configuração (estado), a palavra que está sendo processada e o NFA-BB que está em execução. Assim, representamos a **Descrição Instantânea (ID)** de um NFA-BB como uma tripla $\\langle q,w,n\\rangle\\in Q\\times\\Sigma^*\\times\\{n\\}\\cup\\mathcal{N}$.\n",
        "\n",
        "\n",
        "Sejam $n=\\langle Q_n, \\Sigma, \\delta_n, q_0,F_n, l, n_{l_p}, \\mathcal{N}_n\\rangle$ um NFA-BB, $q\\in Q_n$, $ax$ uma palavra de $\\Sigma^*$, $n_p\\in\\mathcal{N}$ um NFA-BB com nome $p$, $q_{p_0}$ o estado inicial de $n_p$, $\\delta_{n_p}$ a função de transição de $n_p$ e $\\Phi_n$ os nomes dos NFAs-BB (estados de $n$). \n",
        "Definimos uma **Dedução** entre duas descrições instantâneas de um NFA-BB como \n",
        "1. $\\langle q,ax,n\\rangle\\vdash \\langle p,x,n\\rangle$ se $p\\in\\delta_n(q,a)$ e $p\\not\\in \\Phi_n$.\n",
        "1. $\\langle q,ax,n\\rangle\\vdash \\langle q_{p_0},x,n_p\\rangle$ se $p\\in\\delta_n(q,a)$ e $p\\in \\Phi_n$.\n",
        "1. $\\langle q,ax,n\\rangle\\vdash \\langle r,x,n_{l_p}\\rangle$ se $\\delta_{n}(q,a)=\\emptyset$, $q\\in F_n$ e $r\\in\\delta_{n_{l_p}}(p,a)$, onde $n_{l_p}$ é o NFA-BB de $n$ e $p$ é o label de $l_{n_p}$.\n",
        "\n",
        "Por fim, definimos uma **computação** $\\vdash^*$ como uma sequência de zero ou mais deduções como segue:\n",
        "- $I\\vdash^* I$, para qualquer ID $I$.\n",
        "- Se existe um ID $K$ tal que $I\\vdash K$ e $K\\vdash^* J$, então $I\\vdash^* J$\n",
        "\n",
        "Seja uma NFA-BB $n=\\langle Q, \\Sigma, \\delta, q_0,F, l, \\mathcal{N}\\rangle$. Dizemos que $L(n)$ denota uma **Linguagem Regular** e é definida por:\n",
        "    \\begin{align*}\n",
        "          L(n) & = & \\{w |~\\langle q_0,w,n\\rangle~\\vdash\\!\\!\\!\\!^* ~\\langle p,\\epsilon,m\\rangle \\textrm{ e }p\\in F\\}\n",
        "    \\end{align*}\n",
        "\n",
        "> **Exemplo:** Considere o NFA-BB $n$ que define a linguagem $\\{x0101y:x,y\\in\\Sigma^*\\}$. Daí, temos a seguinte computação:\n",
        "$\\langle q_0,101010,n\\rangle~\\vdash~\\langle q_0,01010,n\\rangle~\\vdash~\\langle q_1,1010,n_p\\rangle~\\vdash~\\langle q_2,010,n_p\\rangle~\\vdash~\\langle q_3,10,n_p\\rangle\\vdash~\\langle q_4,0,n\\rangle~\\vdash~\\langle q_4,\\epsilon,n\\rangle$"
      ]
    },
    {
      "cell_type": "code",
      "execution_count": null,
      "metadata": {
        "colab": {
          "base_uri": "https://localhost:8080/"
        },
        "id": "-tSAtQ9z9Xt6",
        "outputId": "10dc115c-61fd-41b0-e0d1-862c79783884"
      },
      "outputs": [],
      "source": [
        "Nx0101y_BB.aceita('101010')"
      ]
    },
    {
      "cell_type": "code",
      "execution_count": null,
      "metadata": {
        "colab": {
          "base_uri": "https://localhost:8080/"
        },
        "id": "D0ibXH1mrnO5",
        "outputId": "52bdf1b6-d57d-4e2a-c1f1-861ea188701a"
      },
      "outputs": [],
      "source": [
        "Nx0101y_BB.traces_to_deduction_print()\n"
      ]
    },
    {
      "cell_type": "markdown",
      "metadata": {
        "id": "2ntT_mXL8x70"
      },
      "source": [
        "### Converter um NFA com Building Blocks para um NFA"
      ]
    },
    {
      "cell_type": "code",
      "execution_count": null,
      "metadata": {
        "colab": {
          "base_uri": "https://localhost:8080/",
          "height": 149
        },
        "id": "V1pYkVkvWcVh",
        "outputId": "573de47b-2199-4a23-aeeb-39bf8c11747d"
      },
      "outputs": [],
      "source": [
        "N_1 = Nx0101y_BB.to_NFA()\n",
        "display(N_1.display())\n"
      ]
    },
    {
      "cell_type": "code",
      "execution_count": null,
      "metadata": {
        "colab": {
          "base_uri": "https://localhost:8080/",
          "height": 272
        },
        "id": "Xv_7J2hCN0ML",
        "outputId": "f4d4c65b-17a4-4d93-ca5c-75c86d4b2c53"
      },
      "outputs": [],
      "source": [
        "D = N_1.determinization()\n",
        "display(D.visualizar())"
      ]
    },
    {
      "cell_type": "code",
      "execution_count": null,
      "metadata": {
        "colab": {
          "base_uri": "https://localhost:8080/",
          "height": 99,
          "referenced_widgets": [
            "6bcfae4984c3452eb9a7365ab934dda3",
            "4d195cb87e6941b0ae30ca7b78dec66a",
            "14ecac56c87e4861b4d4da37fb7d24af",
            "2adfdc1e98cd49d7849989faf7089a59",
            "44bed6bf56444a4b8c27fa21d6626044",
            "fe4cfdb5a7054c1489bc7a54b8583000",
            "e40d4272e6eb4f27951af2a33c68a388",
            "a3f28719f13543489ddffbd743a4a2d8",
            "819b819d5638423091b864c09c1b7c90",
            "f65617dece1e413aa2309fa90e8761fc",
            "c719b722dab44245a89dd4adf4fca79e",
            "e41dce5b152040f18f207e63369cf403",
            "7013b30010a241faadae8c5baa3f8668",
            "1b8201880f4f4864bf10f2690b624bc2",
            "54620ba7707b48cbbeec964a34fa5bc9",
            "c513a0de769b47b6ae1f06facead85e0",
            "0c4d7ffb73e84cdbba50d305f0703c7a",
            "ba69c4a9de794ae1aff6abbb83fd360a",
            "8ab74bba4a0d4f179654da8cf43de690",
            "1932cd43c7fd49768ae64d36a555892a",
            "a63aaef3b97c4597a8ae8042586efece",
            "a8f6fb0d4fb04cb584059872960ef202",
            "2f143b33628f498486ad9cbde8a46fdd",
            "eb0c9b5ec5f14476b2ecf7fd866eb705",
            "f3e7df4477f2489d8e0c4553b48ad4f4",
            "2d95f78541624a4fa620ae06c61f3477"
          ]
        },
        "id": "BqATYRl-qkfr",
        "outputId": "c0c07f09-551a-4ac6-d8c5-1007ec527c68"
      },
      "outputs": [],
      "source": [
        "print(\"NFA com dois building-blocks que reconhece a linguagem x011001y\")\n",
        "Q = {'q2','q3','q4'}\n",
        "Sigma = {'0','1'}\n",
        "q0 = 'q2'\n",
        "delta = {\n",
        "    ('q2','1'):{'q3'},\n",
        "    ('q3','0'):{'q4'}, \n",
        "}\n",
        "F = {'q4'}\n",
        "Nr = NFA_BB(Q,Sigma,q0,delta,F)\n",
        "\n",
        "Q = {'q1','r','q5'}\n",
        "Sigma = {'0','1'}\n",
        "q0 = 'q1'\n",
        "delta = {\n",
        "    ('q1','1'):{'r'},\n",
        "    ('r','0'):{'q5'}, \n",
        "}\n",
        "NFAs = {'r':Nr}\n",
        "F = {'q5'}\n",
        "Np = NFA_BB(Q,Sigma,q0,delta,F,NFAs)\n",
        "Q = {'q0','p', 'q6'}\n",
        "Sigma = {'0','1'}\n",
        "q0 = 'q0'\n",
        "delta = {\n",
        "    ('q0','0'): {'q0','p'}, ('q0','1'):{'q0'},\n",
        "    ('p','1'):{'q6'},\n",
        "    ('q6','0'):{'q6'}, ('q6','1'):{'q6'},\n",
        "}\n",
        "F = {'q6'}\n",
        "NFAs = {'p':Np}\n",
        "Nx011001y_2BB = NFA_BB(Q,Sigma,q0,delta,F, NFAs= NFAs)\n",
        "Nx011001y_2BB.simular('01100101')\n"
      ]
    },
    {
      "cell_type": "code",
      "execution_count": null,
      "metadata": {
        "colab": {
          "base_uri": "https://localhost:8080/"
        },
        "id": "lH5dBeustyuT",
        "outputId": "c1baa870-89a8-4cdd-e610-f6dbf4e2d3db"
      },
      "outputs": [],
      "source": [
        "Nx011001y_2BB.aceita('01100101')"
      ]
    },
    {
      "cell_type": "code",
      "execution_count": null,
      "metadata": {
        "colab": {
          "base_uri": "https://localhost:8080/"
        },
        "id": "_sG43HYlt37D",
        "outputId": "f39950ae-c59b-4541-d2ba-fa4f0906069a"
      },
      "outputs": [],
      "source": [
        "Nx011001y_2BB.traces_to_deduction_print()"
      ]
    },
    {
      "cell_type": "code",
      "execution_count": null,
      "metadata": {
        "colab": {
          "base_uri": "https://localhost:8080/",
          "height": 144
        },
        "id": "L6Us02__tLjo",
        "outputId": "e828e61b-fd27-4611-83b8-a6af1113b73b"
      },
      "outputs": [],
      "source": [
        "N_1 = Nx011001y_2BB.to_NFA()\n",
        "display(N_1.display())\n",
        "N_1.aceita('01100101')\n"
      ]
    },
    {
      "cell_type": "markdown",
      "metadata": {
        "id": "AxfX5c1fU_Ty"
      },
      "source": [
        "# Exercícios"
      ]
    },
    {
      "cell_type": "markdown",
      "metadata": {
        "id": "YW7eoMCSVDkI"
      },
      "source": [
        "### Questão 01 - Autômato Finito Determinístico (DFA)\n",
        "Escreva uma DFA $D_{x01}$ que reconheça a seguinte linguagem: $L(D_{x01})=\\{x01~~|~~x\\in\\{0,1\\}^*\\}$.\n"
      ]
    },
    {
      "cell_type": "code",
      "execution_count": null,
      "metadata": {
        "colab": {
          "base_uri": "https://localhost:8080/",
          "height": 387
        },
        "id": "DTknlkDlVCfd",
        "outputId": "bde72e0d-556d-493b-991e-90a89a6e41a0"
      },
      "outputs": [],
      "source": [
        "Q = {...}\n",
        "Sigma = {...}\n",
        "q0 = ...\n",
        "delta = {...}\n",
        "F = {...}\n",
        "Dx01 = DFA(Q,Sigma,q0,delta,F)\n",
        "print(\"A Linguagem que termina em 01\")\n",
        "Dx01.visualizar()"
      ]
    },
    {
      "cell_type": "code",
      "execution_count": null,
      "metadata": {
        "id": "bz7UxP2hZjU-"
      },
      "outputs": [],
      "source": [
        "Q = {'q0', 'q1', 'q2'}\n",
        "Sigma = {'0', '1'}\n",
        "q0 = 'q0'\n",
        "delta = {\n",
        "    ('q0','0'):'q1',\n",
        "    ('q0','1'):'q0',\n",
        "    ('q1','0'):'q1',\n",
        "    ('q1','1'):'q2',\n",
        "    ('q2','0'):'q1',\n",
        "    ('q2','1'):'q2',\n",
        "}\n",
        "F = {'q2'}\n",
        "Dx01 = DFA(Q,Sigma,q0,delta,F)\n",
        "print(\"A Linguagem que termina em 01\")\n",
        "Dx01.visualizar()"
      ]
    },
    {
      "cell_type": "code",
      "execution_count": null,
      "metadata": {
        "id": "GY2N3GBpuwyI"
      },
      "outputs": [],
      "source": [
        "casos_testes ={\n",
        "    '':False,\n",
        "    '01':True,\n",
        "    '0110': False,\n",
        "    '0101':True,\n",
        "    '0110':False\n",
        "}\n",
        "Dx01.exibir_resultados(casos_testes)"
      ]
    },
    {
      "cell_type": "markdown",
      "metadata": {
        "id": "KdOCpKacWpIl"
      },
      "source": [
        "### Questão 02 - Autômato Finito Determinístico (DFA)\n",
        "Escreva uma DFA $D_{par0}$ que reconheça a seguinte linguagem: $L(D_{par0})=\\{w~~|~~w\\in\\{0,1\\}^*$ e tem um número par de 0's}"
      ]
    },
    {
      "cell_type": "code",
      "execution_count": null,
      "metadata": {
        "id": "2RjAlTqrW4V_"
      },
      "outputs": [],
      "source": [
        "Q = {...}\n",
        "Sigma = {...}\n",
        "q0 = ...\n",
        "delta = {...}\n",
        "F = {...}\n",
        "Dpar0 = DFA(Q,Sigma,q0,delta,F)\n",
        "print(\"A Linguagem que tem um número par de 0's\")\n",
        "Dpar0.visualizar()"
      ]
    },
    {
      "cell_type": "code",
      "execution_count": null,
      "metadata": {
        "id": "8TbXeaNtbixF"
      },
      "outputs": [],
      "source": [
        "casos_testes ={\n",
        "    '':True,\n",
        "    '01':False,\n",
        "    '0110': True,\n",
        "    '01011':True,\n",
        "    '01100':False\n",
        "}\n",
        "Dpar0.exibir_resultados(casos_testes)"
      ]
    },
    {
      "cell_type": "markdown",
      "metadata": {
        "id": "lhThbGnfbjF9"
      },
      "source": [
        "### Questão 03 - Autômato Finito Determinístico (DFA)\n",
        "Escreva uma DFA $D_{p0i1}$ que reconheça a seguinte linguagem: $L(D_{p0i1})=\\{w~~|~~w\\in\\{0,1\\}^*$ e tem um número par de 0's e um número ímpar de 1's \\(\\}\\)"
      ]
    },
    {
      "cell_type": "code",
      "execution_count": null,
      "metadata": {
        "id": "vlEgRaWJeEcr"
      },
      "outputs": [],
      "source": [
        "Q = {...}\n",
        "Sigma = {...}\n",
        "q0 = ...\n",
        "delta = {...}\n",
        "F = {...}\n",
        "Dp0i1 = DFA(Q,Sigma,q0,delta,F)\n",
        "print(\"A Linguagem que tem um número par de 0's e um número ímpar de 1's\")\n",
        "Dp0i1.visualizar()"
      ]
    },
    {
      "cell_type": "code",
      "execution_count": null,
      "metadata": {
        "id": "oIEpf56hee4B"
      },
      "outputs": [],
      "source": [
        "casos_testes ={\n",
        "    '':False,\n",
        "    '01':False,\n",
        "    '01101': True,\n",
        "    '01011':True,\n",
        "    '01100':False\n",
        "}\n",
        "Dp0i1.exibir_resultados(casos_testes)"
      ]
    },
    {
      "cell_type": "markdown",
      "metadata": {
        "id": "tEy9ZoBctR7R"
      },
      "source": [
        "### Questão 04 - Autômato Finito Não-Determinístico (NFA)\n",
        "Escreva uma NFA $N$ que reconheça a seguinte linguagem: $L(N)=\\{w~~|~~w\\in\\{0,1\\}^*$ e o símbolo inicial é igual ao símbolo final$\\}$"
      ]
    },
    {
      "cell_type": "code",
      "execution_count": null,
      "metadata": {
        "id": "Dr0U6G003PIw"
      },
      "outputs": [],
      "source": [
        "Q = {...}\n",
        "Sigma = {...}\n",
        "q0 = ...\n",
        "delta = {...}\n",
        "F = {...}\n",
        "N_04 = NFA(Q,Sigma,q0,delta,F)\n",
        "print(\"NFA que reconhece as palavras que o símbolo inicial seja igual ao símbolo final\")\n",
        "N_04.visualizar(highlightNonDeterministic=True)"
      ]
    },
    {
      "cell_type": "code",
      "execution_count": null,
      "metadata": {
        "id": "7d98vhs4uJN7"
      },
      "outputs": [],
      "source": [
        "casos_testes ={\n",
        "    '':False,\n",
        "    '01':False,\n",
        "    '00': True,\n",
        "    '11': True,\n",
        "    '01100': True,\n",
        "    '101011':True,\n",
        "    '01101':False\n",
        "}\n",
        "N_04.exibir_resultados(casos_testes)"
      ]
    },
    {
      "cell_type": "markdown",
      "metadata": {
        "id": "uRkosaw_wSde"
      },
      "source": [
        "### Questão 05 - Autômato Finito Não-Determinístico (NFA)\n",
        "Escreva uma NFA $N$ que reconheça a seguinte linguagem: $L(N)=\\{w~~|~~w\\in\\{0,1\\}^*$ e que contém 00 ou contém 11$\\}$\n"
      ]
    },
    {
      "cell_type": "code",
      "execution_count": null,
      "metadata": {
        "id": "QJHS1Ym1wRPK"
      },
      "outputs": [],
      "source": [
        "Q = {...}\n",
        "Sigma = {...}\n",
        "q0 = ...\n",
        "delta = {...}\n",
        "F = {...}\n",
        "N_05 = NFA(Q,Sigma,q0,delta,F)\n",
        "print(\"NFA que reconhece as palavras que contém 00 ou contém 11 \")\n",
        "N_05.visualizar(highlightNonDeterministic=True)"
      ]
    },
    {
      "cell_type": "code",
      "execution_count": null,
      "metadata": {
        "id": "BbU7bAoRwgQm"
      },
      "outputs": [],
      "source": [
        "casos_testes ={\n",
        "    '':False,\n",
        "    '01':False,\n",
        "    '00': True,\n",
        "    '11': True,\n",
        "    '01101': True,\n",
        "    '01001': True,\n",
        "    '10101':False,\n",
        "    '010101':False\n",
        "}\n",
        "N_05.exibir_resultados(casos_testes)"
      ]
    },
    {
      "attachments": {},
      "cell_type": "markdown",
      "metadata": {},
      "source": [
        "<!--NAVIGATION-->\n",
        "< [Revisão Conjuntos, Relações, Funções e Linguagens](./Cap%C3%ADtulo_01_Revis%C3%A3o_Fun%C3%A7%C3%B5es_Rela%C3%A7%C3%B5es.ipynb) | [Índice](./index.ipynb) | [Máquinas de Turing - Linguagens Recursivamente Enumeráveis](./Cap%C3%ADtulo_03_M%C3%A1quinas_de_Turing.ipynb) > \n"
      ]
    }
  ],
  "metadata": {
    "colab": {
      "collapsed_sections": [
        "fpGRzzV8YHUO",
        "KdOCpKacWpIl"
      ],
      "provenance": [],
      "toc_visible": true
    },
    "kernelspec": {
      "display_name": "base",
      "language": "python",
      "name": "python3"
    },
    "language_info": {
      "name": "python",
      "version": "3.9.7"
    },
    "vscode": {
      "interpreter": {
        "hash": "40d3a090f54c6569ab1632332b64b2c03c39dcf918b08424e98f38b5ae0af88f"
      }
    },
    "widgets": {
      "application/vnd.jupyter.widget-state+json": {
        "014816522b334d5888bb66b4d0214a25": {
          "model_module": "@jupyter-widgets/base",
          "model_module_version": "1.2.0",
          "model_name": "LayoutModel",
          "state": {
            "_model_module": "@jupyter-widgets/base",
            "_model_module_version": "1.2.0",
            "_model_name": "LayoutModel",
            "_view_count": null,
            "_view_module": "@jupyter-widgets/base",
            "_view_module_version": "1.2.0",
            "_view_name": "LayoutView",
            "align_content": null,
            "align_items": null,
            "align_self": null,
            "border": null,
            "bottom": null,
            "display": null,
            "flex": null,
            "flex_flow": null,
            "grid_area": null,
            "grid_auto_columns": null,
            "grid_auto_flow": null,
            "grid_auto_rows": null,
            "grid_column": null,
            "grid_gap": null,
            "grid_row": null,
            "grid_template_areas": null,
            "grid_template_columns": null,
            "grid_template_rows": null,
            "height": null,
            "justify_content": null,
            "justify_items": null,
            "left": null,
            "margin": null,
            "max_height": null,
            "max_width": null,
            "min_height": null,
            "min_width": null,
            "object_fit": null,
            "object_position": null,
            "order": null,
            "overflow": null,
            "overflow_x": null,
            "overflow_y": null,
            "padding": null,
            "right": null,
            "top": null,
            "visibility": null,
            "width": null
          }
        },
        "0164988bd5294b65b98e5228b91d7d44": {
          "model_module": "@jupyter-widgets/base",
          "model_module_version": "1.2.0",
          "model_name": "LayoutModel",
          "state": {
            "_model_module": "@jupyter-widgets/base",
            "_model_module_version": "1.2.0",
            "_model_name": "LayoutModel",
            "_view_count": null,
            "_view_module": "@jupyter-widgets/base",
            "_view_module_version": "1.2.0",
            "_view_name": "LayoutView",
            "align_content": null,
            "align_items": null,
            "align_self": null,
            "border": null,
            "bottom": null,
            "display": null,
            "flex": null,
            "flex_flow": null,
            "grid_area": null,
            "grid_auto_columns": null,
            "grid_auto_flow": null,
            "grid_auto_rows": null,
            "grid_column": null,
            "grid_gap": null,
            "grid_row": null,
            "grid_template_areas": null,
            "grid_template_columns": null,
            "grid_template_rows": null,
            "height": null,
            "justify_content": null,
            "justify_items": null,
            "left": null,
            "margin": null,
            "max_height": null,
            "max_width": null,
            "min_height": null,
            "min_width": null,
            "object_fit": null,
            "object_position": null,
            "order": null,
            "overflow": null,
            "overflow_x": null,
            "overflow_y": null,
            "padding": null,
            "right": null,
            "top": null,
            "visibility": null,
            "width": null
          }
        },
        "01cb1c2be35b47b5b4eb83b9e9a836fe": {
          "model_module": "@jupyter-widgets/base",
          "model_module_version": "1.2.0",
          "model_name": "LayoutModel",
          "state": {
            "_model_module": "@jupyter-widgets/base",
            "_model_module_version": "1.2.0",
            "_model_name": "LayoutModel",
            "_view_count": null,
            "_view_module": "@jupyter-widgets/base",
            "_view_module_version": "1.2.0",
            "_view_name": "LayoutView",
            "align_content": null,
            "align_items": null,
            "align_self": null,
            "border": null,
            "bottom": null,
            "display": null,
            "flex": null,
            "flex_flow": null,
            "grid_area": null,
            "grid_auto_columns": null,
            "grid_auto_flow": null,
            "grid_auto_rows": null,
            "grid_column": null,
            "grid_gap": null,
            "grid_row": null,
            "grid_template_areas": null,
            "grid_template_columns": null,
            "grid_template_rows": null,
            "height": null,
            "justify_content": null,
            "justify_items": null,
            "left": null,
            "margin": null,
            "max_height": null,
            "max_width": null,
            "min_height": null,
            "min_width": null,
            "object_fit": null,
            "object_position": null,
            "order": null,
            "overflow": null,
            "overflow_x": null,
            "overflow_y": null,
            "padding": null,
            "right": null,
            "top": null,
            "visibility": null,
            "width": null
          }
        },
        "0777bbd90b014c2dbda3df4291f25a70": {
          "model_module": "@jupyter-widgets/base",
          "model_module_version": "1.2.0",
          "model_name": "LayoutModel",
          "state": {
            "_model_module": "@jupyter-widgets/base",
            "_model_module_version": "1.2.0",
            "_model_name": "LayoutModel",
            "_view_count": null,
            "_view_module": "@jupyter-widgets/base",
            "_view_module_version": "1.2.0",
            "_view_name": "LayoutView",
            "align_content": null,
            "align_items": null,
            "align_self": null,
            "border": null,
            "bottom": null,
            "display": null,
            "flex": null,
            "flex_flow": null,
            "grid_area": null,
            "grid_auto_columns": null,
            "grid_auto_flow": null,
            "grid_auto_rows": null,
            "grid_column": null,
            "grid_gap": null,
            "grid_row": null,
            "grid_template_areas": null,
            "grid_template_columns": null,
            "grid_template_rows": null,
            "height": null,
            "justify_content": null,
            "justify_items": null,
            "left": null,
            "margin": null,
            "max_height": null,
            "max_width": null,
            "min_height": null,
            "min_width": null,
            "object_fit": null,
            "object_position": null,
            "order": null,
            "overflow": null,
            "overflow_x": null,
            "overflow_y": null,
            "padding": null,
            "right": null,
            "top": null,
            "visibility": null,
            "width": "750px"
          }
        },
        "07b30fb67d2e456d9178f8d1a6c922b1": {
          "model_module": "@jupyter-widgets/controls",
          "model_module_version": "1.5.0",
          "model_name": "ButtonModel",
          "state": {
            "_dom_classes": [],
            "_model_module": "@jupyter-widgets/controls",
            "_model_module_version": "1.5.0",
            "_model_name": "ButtonModel",
            "_view_count": null,
            "_view_module": "@jupyter-widgets/controls",
            "_view_module_version": "1.5.0",
            "_view_name": "ButtonView",
            "button_style": "",
            "description": "Limpar",
            "disabled": false,
            "icon": "",
            "layout": "IPY_MODEL_e28ec2781d8d42fdace8ca9fa6710c0f",
            "style": "IPY_MODEL_e7b20e2b2d914ec2a237eba595f9d1a1",
            "tooltip": ""
          }
        },
        "08248a33b8484450ab99ad0a0f2e37e8": {
          "model_module": "@jupyter-widgets/controls",
          "model_module_version": "1.5.0",
          "model_name": "ButtonModel",
          "state": {
            "_dom_classes": [],
            "_model_module": "@jupyter-widgets/controls",
            "_model_module_version": "1.5.0",
            "_model_name": "ButtonModel",
            "_view_count": null,
            "_view_module": "@jupyter-widgets/controls",
            "_view_module_version": "1.5.0",
            "_view_name": "ButtonView",
            "button_style": "",
            "description": "Limpar",
            "disabled": false,
            "icon": "",
            "layout": "IPY_MODEL_b5404edee58d4bc4addb064991cf25f7",
            "style": "IPY_MODEL_49484c961fcd499ab1fe9f62eb4a8127",
            "tooltip": ""
          }
        },
        "0995c8ce130348828fc4ef53e564c115": {
          "model_module": "@jupyter-widgets/controls",
          "model_module_version": "1.5.0",
          "model_name": "CheckboxModel",
          "state": {
            "_dom_classes": [],
            "_model_module": "@jupyter-widgets/controls",
            "_model_module_version": "1.5.0",
            "_model_name": "CheckboxModel",
            "_view_count": null,
            "_view_module": "@jupyter-widgets/controls",
            "_view_module_version": "1.5.0",
            "_view_name": "CheckboxView",
            "description": "Trace único",
            "description_tooltip": "Marque se você deseja visualizar um trace apenas",
            "disabled": false,
            "indent": true,
            "layout": "IPY_MODEL_8b27f30a058b48f39518fea5c631ec35",
            "style": "IPY_MODEL_68343877bf784c3aa3f2284a29f31b81",
            "value": true
          }
        },
        "0c4d7ffb73e84cdbba50d305f0703c7a": {
          "model_module": "@jupyter-widgets/base",
          "model_module_version": "1.2.0",
          "model_name": "LayoutModel",
          "state": {
            "_model_module": "@jupyter-widgets/base",
            "_model_module_version": "1.2.0",
            "_model_name": "LayoutModel",
            "_view_count": null,
            "_view_module": "@jupyter-widgets/base",
            "_view_module_version": "1.2.0",
            "_view_name": "LayoutView",
            "align_content": null,
            "align_items": null,
            "align_self": null,
            "border": null,
            "bottom": null,
            "display": null,
            "flex": null,
            "flex_flow": null,
            "grid_area": null,
            "grid_auto_columns": null,
            "grid_auto_flow": null,
            "grid_auto_rows": null,
            "grid_column": null,
            "grid_gap": null,
            "grid_row": null,
            "grid_template_areas": null,
            "grid_template_columns": null,
            "grid_template_rows": null,
            "height": null,
            "justify_content": null,
            "justify_items": null,
            "left": null,
            "margin": null,
            "max_height": null,
            "max_width": null,
            "min_height": null,
            "min_width": null,
            "object_fit": null,
            "object_position": null,
            "order": null,
            "overflow": null,
            "overflow_x": null,
            "overflow_y": null,
            "padding": null,
            "right": null,
            "top": null,
            "visibility": null,
            "width": null
          }
        },
        "0c4d99f8eb5c41bd9b2a16811fb2cad3": {
          "model_module": "@jupyter-widgets/controls",
          "model_module_version": "1.5.0",
          "model_name": "DescriptionStyleModel",
          "state": {
            "_model_module": "@jupyter-widgets/controls",
            "_model_module_version": "1.5.0",
            "_model_name": "DescriptionStyleModel",
            "_view_count": null,
            "_view_module": "@jupyter-widgets/base",
            "_view_module_version": "1.2.0",
            "_view_name": "StyleView",
            "description_width": ""
          }
        },
        "112cfb77454d47b7b577b4fe866ca1eb": {
          "model_module": "@jupyter-widgets/base",
          "model_module_version": "1.2.0",
          "model_name": "LayoutModel",
          "state": {
            "_model_module": "@jupyter-widgets/base",
            "_model_module_version": "1.2.0",
            "_model_name": "LayoutModel",
            "_view_count": null,
            "_view_module": "@jupyter-widgets/base",
            "_view_module_version": "1.2.0",
            "_view_name": "LayoutView",
            "align_content": null,
            "align_items": null,
            "align_self": null,
            "border": null,
            "bottom": null,
            "display": null,
            "flex": null,
            "flex_flow": null,
            "grid_area": null,
            "grid_auto_columns": null,
            "grid_auto_flow": null,
            "grid_auto_rows": null,
            "grid_column": null,
            "grid_gap": null,
            "grid_row": null,
            "grid_template_areas": null,
            "grid_template_columns": null,
            "grid_template_rows": null,
            "height": null,
            "justify_content": null,
            "justify_items": null,
            "left": null,
            "margin": null,
            "max_height": null,
            "max_width": null,
            "min_height": null,
            "min_width": null,
            "object_fit": null,
            "object_position": null,
            "order": null,
            "overflow": null,
            "overflow_x": null,
            "overflow_y": null,
            "padding": null,
            "right": null,
            "top": null,
            "visibility": null,
            "width": null
          }
        },
        "124595c6e79a479a87f9dd1f24abc3fc": {
          "model_module": "@jupyter-widgets/controls",
          "model_module_version": "1.5.0",
          "model_name": "ButtonModel",
          "state": {
            "_dom_classes": [],
            "_model_module": "@jupyter-widgets/controls",
            "_model_module_version": "1.5.0",
            "_model_name": "ButtonModel",
            "_view_count": null,
            "_view_module": "@jupyter-widgets/controls",
            "_view_module_version": "1.5.0",
            "_view_name": "ButtonView",
            "button_style": "",
            "description": "Simular",
            "disabled": false,
            "icon": "",
            "layout": "IPY_MODEL_ae3823a8999c4598a063038bb87da802",
            "style": "IPY_MODEL_307ccdf64cc34f73afc984cf57a83c9c",
            "tooltip": ""
          }
        },
        "13f8b207899b471483555f20bf7360ad": {
          "model_module": "@jupyter-widgets/controls",
          "model_module_version": "1.5.0",
          "model_name": "FloatSliderModel",
          "state": {
            "_dom_classes": [],
            "_model_module": "@jupyter-widgets/controls",
            "_model_module_version": "1.5.0",
            "_model_name": "FloatSliderModel",
            "_view_count": null,
            "_view_module": "@jupyter-widgets/controls",
            "_view_module_version": "1.5.0",
            "_view_name": "FloatSliderView",
            "continuous_update": false,
            "description": "Pausa:",
            "description_tooltip": "Defina a pausa (em segundos) de exibição entre as descrições instantâneas da simulação.",
            "disabled": false,
            "layout": "IPY_MODEL_e1d7035afe9649bbad4c7919510405d2",
            "max": 3,
            "min": 0,
            "orientation": "horizontal",
            "readout": true,
            "readout_format": ".1f",
            "step": 0.1,
            "style": "IPY_MODEL_9d5673799c094dc8b268e3f7fef4be53",
            "value": 0.8
          }
        },
        "143e46fedb4548a2a16728a889dddc82": {
          "model_module": "@jupyter-widgets/controls",
          "model_module_version": "1.5.0",
          "model_name": "ButtonStyleModel",
          "state": {
            "_model_module": "@jupyter-widgets/controls",
            "_model_module_version": "1.5.0",
            "_model_name": "ButtonStyleModel",
            "_view_count": null,
            "_view_module": "@jupyter-widgets/base",
            "_view_module_version": "1.2.0",
            "_view_name": "StyleView",
            "button_color": null,
            "font_weight": ""
          }
        },
        "1451e75fa21346949f21f2ab39526db8": {
          "model_module": "@jupyter-widgets/controls",
          "model_module_version": "1.5.0",
          "model_name": "HBoxModel",
          "state": {
            "_dom_classes": [],
            "_model_module": "@jupyter-widgets/controls",
            "_model_module_version": "1.5.0",
            "_model_name": "HBoxModel",
            "_view_count": null,
            "_view_module": "@jupyter-widgets/controls",
            "_view_module_version": "1.5.0",
            "_view_name": "HBoxView",
            "box_style": "",
            "children": [
              "IPY_MODEL_812710ec561345e68ff492274d96598a",
              "IPY_MODEL_deadd8c6138f423fa421b002ee95832a"
            ],
            "layout": "IPY_MODEL_8617666ea90a4abf94794806905ac88d"
          }
        },
        "14ecac56c87e4861b4d4da37fb7d24af": {
          "model_module": "@jupyter-widgets/controls",
          "model_module_version": "1.5.0",
          "model_name": "HBoxModel",
          "state": {
            "_dom_classes": [],
            "_model_module": "@jupyter-widgets/controls",
            "_model_module_version": "1.5.0",
            "_model_name": "HBoxModel",
            "_view_count": null,
            "_view_module": "@jupyter-widgets/controls",
            "_view_module_version": "1.5.0",
            "_view_name": "HBoxView",
            "box_style": "",
            "children": [
              "IPY_MODEL_a3f28719f13543489ddffbd743a4a2d8",
              "IPY_MODEL_819b819d5638423091b864c09c1b7c90",
              "IPY_MODEL_f65617dece1e413aa2309fa90e8761fc",
              "IPY_MODEL_c719b722dab44245a89dd4adf4fca79e"
            ],
            "layout": "IPY_MODEL_e41dce5b152040f18f207e63369cf403"
          }
        },
        "1932cd43c7fd49768ae64d36a555892a": {
          "model_module": "@jupyter-widgets/controls",
          "model_module_version": "1.5.0",
          "model_name": "ButtonStyleModel",
          "state": {
            "_model_module": "@jupyter-widgets/controls",
            "_model_module_version": "1.5.0",
            "_model_name": "ButtonStyleModel",
            "_view_count": null,
            "_view_module": "@jupyter-widgets/base",
            "_view_module_version": "1.2.0",
            "_view_name": "StyleView",
            "button_color": null,
            "font_weight": ""
          }
        },
        "1b71e9d2f7ae43e98410cb569dc6f4ca": {
          "model_module": "@jupyter-widgets/controls",
          "model_module_version": "1.5.0",
          "model_name": "ButtonStyleModel",
          "state": {
            "_model_module": "@jupyter-widgets/controls",
            "_model_module_version": "1.5.0",
            "_model_name": "ButtonStyleModel",
            "_view_count": null,
            "_view_module": "@jupyter-widgets/base",
            "_view_module_version": "1.2.0",
            "_view_name": "StyleView",
            "button_color": null,
            "font_weight": ""
          }
        },
        "1b8201880f4f4864bf10f2690b624bc2": {
          "model_module": "@jupyter-widgets/controls",
          "model_module_version": "1.5.0",
          "model_name": "DescriptionStyleModel",
          "state": {
            "_model_module": "@jupyter-widgets/controls",
            "_model_module_version": "1.5.0",
            "_model_name": "DescriptionStyleModel",
            "_view_count": null,
            "_view_module": "@jupyter-widgets/base",
            "_view_module_version": "1.2.0",
            "_view_name": "StyleView",
            "description_width": ""
          }
        },
        "1d1bdf9aa021498988880e4718ddd1f0": {
          "model_module": "@jupyter-widgets/controls",
          "model_module_version": "1.5.0",
          "model_name": "HBoxModel",
          "state": {
            "_dom_classes": [],
            "_model_module": "@jupyter-widgets/controls",
            "_model_module_version": "1.5.0",
            "_model_name": "HBoxModel",
            "_view_count": null,
            "_view_module": "@jupyter-widgets/controls",
            "_view_module_version": "1.5.0",
            "_view_name": "HBoxView",
            "box_style": "",
            "children": [
              "IPY_MODEL_abdff2ab9546408db585cf55fb140d18",
              "IPY_MODEL_e78a160c6e924514ab758b144a0a9300",
              "IPY_MODEL_124595c6e79a479a87f9dd1f24abc3fc",
              "IPY_MODEL_9c70b773f1ab42bb8c533e078c8101d5"
            ],
            "layout": "IPY_MODEL_5c554e4cf50043e985d567f852deb340"
          }
        },
        "1eaab8fdcdd341f982d1095b02de991a": {
          "model_module": "@jupyter-widgets/controls",
          "model_module_version": "1.5.0",
          "model_name": "ButtonStyleModel",
          "state": {
            "_model_module": "@jupyter-widgets/controls",
            "_model_module_version": "1.5.0",
            "_model_name": "ButtonStyleModel",
            "_view_count": null,
            "_view_module": "@jupyter-widgets/base",
            "_view_module_version": "1.2.0",
            "_view_name": "StyleView",
            "button_color": null,
            "font_weight": ""
          }
        },
        "1f0076ea7e2a48b589ecd775649c3d00": {
          "model_module": "@jupyter-widgets/output",
          "model_module_version": "1.0.0",
          "model_name": "OutputModel",
          "state": {
            "_dom_classes": [],
            "_model_module": "@jupyter-widgets/output",
            "_model_module_version": "1.0.0",
            "_model_name": "OutputModel",
            "_view_count": null,
            "_view_module": "@jupyter-widgets/output",
            "_view_module_version": "1.0.0",
            "_view_name": "OutputView",
            "layout": "IPY_MODEL_a92a0b25c8bd400aa50bef7a25ca3e13",
            "msg_id": "",
            "outputs": []
          }
        },
        "216e5ae8be05445593c86282d471884c": {
          "model_module": "@jupyter-widgets/controls",
          "model_module_version": "1.5.0",
          "model_name": "HBoxModel",
          "state": {
            "_dom_classes": [],
            "_model_module": "@jupyter-widgets/controls",
            "_model_module_version": "1.5.0",
            "_model_name": "HBoxModel",
            "_view_count": null,
            "_view_module": "@jupyter-widgets/controls",
            "_view_module_version": "1.5.0",
            "_view_name": "HBoxView",
            "box_style": "",
            "children": [
              "IPY_MODEL_0995c8ce130348828fc4ef53e564c115",
              "IPY_MODEL_705fc78419ae4f7ca5fa028e7ba1c9c5",
              "IPY_MODEL_5b4887288cb64beaa4fd33f561f9835d",
              "IPY_MODEL_5ad059f61e0a4d18a3938fb4aa650b0d"
            ],
            "layout": "IPY_MODEL_3dd9e65ed2aa446690d304ba984aa172"
          }
        },
        "23649f4466364e218567d757c622121c": {
          "model_module": "@jupyter-widgets/controls",
          "model_module_version": "1.5.0",
          "model_name": "VBoxModel",
          "state": {
            "_dom_classes": [],
            "_model_module": "@jupyter-widgets/controls",
            "_model_module_version": "1.5.0",
            "_model_name": "VBoxModel",
            "_view_count": null,
            "_view_module": "@jupyter-widgets/controls",
            "_view_module_version": "1.5.0",
            "_view_name": "VBoxView",
            "box_style": "",
            "children": [
              "IPY_MODEL_f72c973a80784a1bbf98e18a6ce4c6b1",
              "IPY_MODEL_dccb181b706e45e3a7c17c63988b56bf"
            ],
            "layout": "IPY_MODEL_3c7dd2139a7042dd8caf672451862754"
          }
        },
        "2579197710cb4b9f83be88f74862387e": {
          "model_module": "@jupyter-widgets/output",
          "model_module_version": "1.0.0",
          "model_name": "OutputModel",
          "state": {
            "_dom_classes": [],
            "_model_module": "@jupyter-widgets/output",
            "_model_module_version": "1.0.0",
            "_model_name": "OutputModel",
            "_view_count": null,
            "_view_module": "@jupyter-widgets/output",
            "_view_module_version": "1.0.0",
            "_view_name": "OutputView",
            "layout": "IPY_MODEL_75b1e6f916a443ee9848060b56f73c0d",
            "msg_id": "",
            "outputs": []
          }
        },
        "26fe2cbf287745c4930c616a4c6c5349": {
          "model_module": "@jupyter-widgets/base",
          "model_module_version": "1.2.0",
          "model_name": "LayoutModel",
          "state": {
            "_model_module": "@jupyter-widgets/base",
            "_model_module_version": "1.2.0",
            "_model_name": "LayoutModel",
            "_view_count": null,
            "_view_module": "@jupyter-widgets/base",
            "_view_module_version": "1.2.0",
            "_view_name": "LayoutView",
            "align_content": null,
            "align_items": null,
            "align_self": null,
            "border": null,
            "bottom": null,
            "display": null,
            "flex": null,
            "flex_flow": null,
            "grid_area": null,
            "grid_auto_columns": null,
            "grid_auto_flow": null,
            "grid_auto_rows": null,
            "grid_column": null,
            "grid_gap": null,
            "grid_row": null,
            "grid_template_areas": null,
            "grid_template_columns": null,
            "grid_template_rows": null,
            "height": null,
            "justify_content": null,
            "justify_items": null,
            "left": null,
            "margin": null,
            "max_height": null,
            "max_width": null,
            "min_height": null,
            "min_width": null,
            "object_fit": null,
            "object_position": null,
            "order": null,
            "overflow": null,
            "overflow_x": null,
            "overflow_y": null,
            "padding": null,
            "right": null,
            "top": null,
            "visibility": null,
            "width": null
          }
        },
        "28eb309e71484d1aaca76d29bd476771": {
          "model_module": "@jupyter-widgets/controls",
          "model_module_version": "1.5.0",
          "model_name": "ButtonModel",
          "state": {
            "_dom_classes": [],
            "_model_module": "@jupyter-widgets/controls",
            "_model_module_version": "1.5.0",
            "_model_name": "ButtonModel",
            "_view_count": null,
            "_view_module": "@jupyter-widgets/controls",
            "_view_module_version": "1.5.0",
            "_view_name": "ButtonView",
            "button_style": "",
            "description": "Limpar",
            "disabled": false,
            "icon": "",
            "layout": "IPY_MODEL_7fb21bff2e094847b9739e7b95a49e9a",
            "style": "IPY_MODEL_d12196804e3f4370a15d1972b6c32423",
            "tooltip": ""
          }
        },
        "2adfdc1e98cd49d7849989faf7089a59": {
          "model_module": "@jupyter-widgets/base",
          "model_module_version": "1.2.0",
          "model_name": "LayoutModel",
          "state": {
            "_model_module": "@jupyter-widgets/base",
            "_model_module_version": "1.2.0",
            "_model_name": "LayoutModel",
            "_view_count": null,
            "_view_module": "@jupyter-widgets/base",
            "_view_module_version": "1.2.0",
            "_view_name": "LayoutView",
            "align_content": null,
            "align_items": null,
            "align_self": null,
            "border": null,
            "bottom": null,
            "display": null,
            "flex": null,
            "flex_flow": null,
            "grid_area": null,
            "grid_auto_columns": null,
            "grid_auto_flow": null,
            "grid_auto_rows": null,
            "grid_column": null,
            "grid_gap": null,
            "grid_row": null,
            "grid_template_areas": null,
            "grid_template_columns": null,
            "grid_template_rows": null,
            "height": null,
            "justify_content": null,
            "justify_items": null,
            "left": null,
            "margin": null,
            "max_height": null,
            "max_width": null,
            "min_height": null,
            "min_width": null,
            "object_fit": null,
            "object_position": null,
            "order": null,
            "overflow": null,
            "overflow_x": null,
            "overflow_y": null,
            "padding": null,
            "right": null,
            "top": null,
            "visibility": null,
            "width": null
          }
        },
        "2b9af498c428465ca09d697d515e2c4c": {
          "model_module": "@jupyter-widgets/base",
          "model_module_version": "1.2.0",
          "model_name": "LayoutModel",
          "state": {
            "_model_module": "@jupyter-widgets/base",
            "_model_module_version": "1.2.0",
            "_model_name": "LayoutModel",
            "_view_count": null,
            "_view_module": "@jupyter-widgets/base",
            "_view_module_version": "1.2.0",
            "_view_name": "LayoutView",
            "align_content": null,
            "align_items": null,
            "align_self": null,
            "border": null,
            "bottom": null,
            "display": null,
            "flex": null,
            "flex_flow": null,
            "grid_area": null,
            "grid_auto_columns": null,
            "grid_auto_flow": null,
            "grid_auto_rows": null,
            "grid_column": null,
            "grid_gap": null,
            "grid_row": null,
            "grid_template_areas": null,
            "grid_template_columns": null,
            "grid_template_rows": null,
            "height": null,
            "justify_content": null,
            "justify_items": null,
            "left": null,
            "margin": null,
            "max_height": null,
            "max_width": null,
            "min_height": null,
            "min_width": null,
            "object_fit": null,
            "object_position": null,
            "order": null,
            "overflow": null,
            "overflow_x": null,
            "overflow_y": null,
            "padding": null,
            "right": null,
            "top": null,
            "visibility": null,
            "width": "750px"
          }
        },
        "2d95f78541624a4fa620ae06c61f3477": {
          "model_module": "@jupyter-widgets/base",
          "model_module_version": "1.2.0",
          "model_name": "LayoutModel",
          "state": {
            "_model_module": "@jupyter-widgets/base",
            "_model_module_version": "1.2.0",
            "_model_name": "LayoutModel",
            "_view_count": null,
            "_view_module": "@jupyter-widgets/base",
            "_view_module_version": "1.2.0",
            "_view_name": "LayoutView",
            "align_content": null,
            "align_items": null,
            "align_self": null,
            "border": null,
            "bottom": null,
            "display": null,
            "flex": null,
            "flex_flow": null,
            "grid_area": null,
            "grid_auto_columns": null,
            "grid_auto_flow": null,
            "grid_auto_rows": null,
            "grid_column": null,
            "grid_gap": null,
            "grid_row": null,
            "grid_template_areas": null,
            "grid_template_columns": null,
            "grid_template_rows": null,
            "height": null,
            "justify_content": null,
            "justify_items": null,
            "left": null,
            "margin": null,
            "max_height": null,
            "max_width": null,
            "min_height": null,
            "min_width": null,
            "object_fit": null,
            "object_position": null,
            "order": null,
            "overflow": null,
            "overflow_x": null,
            "overflow_y": null,
            "padding": null,
            "right": null,
            "top": null,
            "visibility": null,
            "width": null
          }
        },
        "2f143b33628f498486ad9cbde8a46fdd": {
          "model_module": "@jupyter-widgets/base",
          "model_module_version": "1.2.0",
          "model_name": "LayoutModel",
          "state": {
            "_model_module": "@jupyter-widgets/base",
            "_model_module_version": "1.2.0",
            "_model_name": "LayoutModel",
            "_view_count": null,
            "_view_module": "@jupyter-widgets/base",
            "_view_module_version": "1.2.0",
            "_view_name": "LayoutView",
            "align_content": null,
            "align_items": null,
            "align_self": null,
            "border": null,
            "bottom": null,
            "display": null,
            "flex": null,
            "flex_flow": null,
            "grid_area": null,
            "grid_auto_columns": null,
            "grid_auto_flow": null,
            "grid_auto_rows": null,
            "grid_column": null,
            "grid_gap": null,
            "grid_row": null,
            "grid_template_areas": null,
            "grid_template_columns": null,
            "grid_template_rows": null,
            "height": null,
            "justify_content": null,
            "justify_items": null,
            "left": null,
            "margin": null,
            "max_height": null,
            "max_width": null,
            "min_height": null,
            "min_width": null,
            "object_fit": null,
            "object_position": null,
            "order": null,
            "overflow": null,
            "overflow_x": null,
            "overflow_y": null,
            "padding": null,
            "right": null,
            "top": null,
            "visibility": null,
            "width": null
          }
        },
        "307ccdf64cc34f73afc984cf57a83c9c": {
          "model_module": "@jupyter-widgets/controls",
          "model_module_version": "1.5.0",
          "model_name": "ButtonStyleModel",
          "state": {
            "_model_module": "@jupyter-widgets/controls",
            "_model_module_version": "1.5.0",
            "_model_name": "ButtonStyleModel",
            "_view_count": null,
            "_view_module": "@jupyter-widgets/base",
            "_view_module_version": "1.2.0",
            "_view_name": "StyleView",
            "button_color": null,
            "font_weight": ""
          }
        },
        "3150b3df7c284b718ebecd41c817ab8c": {
          "model_module": "@jupyter-widgets/base",
          "model_module_version": "1.2.0",
          "model_name": "LayoutModel",
          "state": {
            "_model_module": "@jupyter-widgets/base",
            "_model_module_version": "1.2.0",
            "_model_name": "LayoutModel",
            "_view_count": null,
            "_view_module": "@jupyter-widgets/base",
            "_view_module_version": "1.2.0",
            "_view_name": "LayoutView",
            "align_content": null,
            "align_items": null,
            "align_self": null,
            "border": null,
            "bottom": null,
            "display": null,
            "flex": null,
            "flex_flow": null,
            "grid_area": null,
            "grid_auto_columns": null,
            "grid_auto_flow": null,
            "grid_auto_rows": null,
            "grid_column": null,
            "grid_gap": null,
            "grid_row": null,
            "grid_template_areas": null,
            "grid_template_columns": null,
            "grid_template_rows": null,
            "height": null,
            "justify_content": null,
            "justify_items": null,
            "left": null,
            "margin": null,
            "max_height": null,
            "max_width": null,
            "min_height": null,
            "min_width": null,
            "object_fit": null,
            "object_position": null,
            "order": null,
            "overflow": null,
            "overflow_x": null,
            "overflow_y": null,
            "padding": null,
            "right": null,
            "top": null,
            "visibility": null,
            "width": null
          }
        },
        "349c267091f74340a26332fc36d32b19": {
          "model_module": "@jupyter-widgets/controls",
          "model_module_version": "1.5.0",
          "model_name": "TextModel",
          "state": {
            "_dom_classes": [],
            "_model_module": "@jupyter-widgets/controls",
            "_model_module_version": "1.5.0",
            "_model_name": "TextModel",
            "_view_count": null,
            "_view_module": "@jupyter-widgets/controls",
            "_view_module_version": "1.5.0",
            "_view_name": "TextView",
            "continuous_update": true,
            "description": "Entrada:",
            "description_tooltip": null,
            "disabled": false,
            "layout": "IPY_MODEL_ed84de455eea4aefbced2d6ec42d5159",
            "placeholder": "Digite a entrada",
            "style": "IPY_MODEL_ae2fda0ba52d40b4991039006e6e65d4",
            "value": "1010"
          }
        },
        "35af6a124b5a491c86f87f4055fa56cf": {
          "model_module": "@jupyter-widgets/base",
          "model_module_version": "1.2.0",
          "model_name": "LayoutModel",
          "state": {
            "_model_module": "@jupyter-widgets/base",
            "_model_module_version": "1.2.0",
            "_model_name": "LayoutModel",
            "_view_count": null,
            "_view_module": "@jupyter-widgets/base",
            "_view_module_version": "1.2.0",
            "_view_name": "LayoutView",
            "align_content": null,
            "align_items": null,
            "align_self": null,
            "border": null,
            "bottom": null,
            "display": null,
            "flex": null,
            "flex_flow": null,
            "grid_area": null,
            "grid_auto_columns": null,
            "grid_auto_flow": null,
            "grid_auto_rows": null,
            "grid_column": null,
            "grid_gap": null,
            "grid_row": null,
            "grid_template_areas": null,
            "grid_template_columns": null,
            "grid_template_rows": null,
            "height": null,
            "justify_content": null,
            "justify_items": null,
            "left": null,
            "margin": null,
            "max_height": null,
            "max_width": null,
            "min_height": null,
            "min_width": null,
            "object_fit": null,
            "object_position": null,
            "order": null,
            "overflow": null,
            "overflow_x": null,
            "overflow_y": null,
            "padding": null,
            "right": null,
            "top": null,
            "visibility": null,
            "width": null
          }
        },
        "36306957f1cf4a02a52bf022a48bd969": {
          "model_module": "@jupyter-widgets/controls",
          "model_module_version": "1.5.0",
          "model_name": "ButtonStyleModel",
          "state": {
            "_model_module": "@jupyter-widgets/controls",
            "_model_module_version": "1.5.0",
            "_model_name": "ButtonStyleModel",
            "_view_count": null,
            "_view_module": "@jupyter-widgets/base",
            "_view_module_version": "1.2.0",
            "_view_name": "StyleView",
            "button_color": null,
            "font_weight": ""
          }
        },
        "3c7dd2139a7042dd8caf672451862754": {
          "model_module": "@jupyter-widgets/base",
          "model_module_version": "1.2.0",
          "model_name": "LayoutModel",
          "state": {
            "_model_module": "@jupyter-widgets/base",
            "_model_module_version": "1.2.0",
            "_model_name": "LayoutModel",
            "_view_count": null,
            "_view_module": "@jupyter-widgets/base",
            "_view_module_version": "1.2.0",
            "_view_name": "LayoutView",
            "align_content": null,
            "align_items": null,
            "align_self": null,
            "border": null,
            "bottom": null,
            "display": null,
            "flex": null,
            "flex_flow": null,
            "grid_area": null,
            "grid_auto_columns": null,
            "grid_auto_flow": null,
            "grid_auto_rows": null,
            "grid_column": null,
            "grid_gap": null,
            "grid_row": null,
            "grid_template_areas": null,
            "grid_template_columns": null,
            "grid_template_rows": null,
            "height": null,
            "justify_content": null,
            "justify_items": null,
            "left": null,
            "margin": null,
            "max_height": null,
            "max_width": null,
            "min_height": null,
            "min_width": null,
            "object_fit": null,
            "object_position": null,
            "order": null,
            "overflow": null,
            "overflow_x": null,
            "overflow_y": null,
            "padding": null,
            "right": null,
            "top": null,
            "visibility": null,
            "width": null
          }
        },
        "3dd9e65ed2aa446690d304ba984aa172": {
          "model_module": "@jupyter-widgets/base",
          "model_module_version": "1.2.0",
          "model_name": "LayoutModel",
          "state": {
            "_model_module": "@jupyter-widgets/base",
            "_model_module_version": "1.2.0",
            "_model_name": "LayoutModel",
            "_view_count": null,
            "_view_module": "@jupyter-widgets/base",
            "_view_module_version": "1.2.0",
            "_view_name": "LayoutView",
            "align_content": null,
            "align_items": null,
            "align_self": null,
            "border": null,
            "bottom": null,
            "display": null,
            "flex": null,
            "flex_flow": null,
            "grid_area": null,
            "grid_auto_columns": null,
            "grid_auto_flow": null,
            "grid_auto_rows": null,
            "grid_column": null,
            "grid_gap": null,
            "grid_row": null,
            "grid_template_areas": null,
            "grid_template_columns": null,
            "grid_template_rows": null,
            "height": null,
            "justify_content": null,
            "justify_items": null,
            "left": null,
            "margin": null,
            "max_height": null,
            "max_width": null,
            "min_height": null,
            "min_width": null,
            "object_fit": null,
            "object_position": null,
            "order": null,
            "overflow": null,
            "overflow_x": null,
            "overflow_y": null,
            "padding": null,
            "right": null,
            "top": null,
            "visibility": null,
            "width": null
          }
        },
        "3e0ee568f7d348759a9ba54068d0d48f": {
          "model_module": "@jupyter-widgets/controls",
          "model_module_version": "1.5.0",
          "model_name": "HBoxModel",
          "state": {
            "_dom_classes": [],
            "_model_module": "@jupyter-widgets/controls",
            "_model_module_version": "1.5.0",
            "_model_name": "HBoxModel",
            "_view_count": null,
            "_view_module": "@jupyter-widgets/controls",
            "_view_module_version": "1.5.0",
            "_view_name": "HBoxView",
            "box_style": "",
            "children": [
              "IPY_MODEL_c6da6313d8e4469b8aca58a81f5f0f40",
              "IPY_MODEL_a34ec78b574a4fb79ff69a26aba13059",
              "IPY_MODEL_949ae857a7214aed9183e7618a99bcea",
              "IPY_MODEL_ec5710b66a1a449e80310859ec93162d"
            ],
            "layout": "IPY_MODEL_849a6b7e71fa43ac9724dea58dad4b9d"
          }
        },
        "411f6d22d3cb4ab39b8276d367d78f23": {
          "model_module": "@jupyter-widgets/base",
          "model_module_version": "1.2.0",
          "model_name": "LayoutModel",
          "state": {
            "_model_module": "@jupyter-widgets/base",
            "_model_module_version": "1.2.0",
            "_model_name": "LayoutModel",
            "_view_count": null,
            "_view_module": "@jupyter-widgets/base",
            "_view_module_version": "1.2.0",
            "_view_name": "LayoutView",
            "align_content": null,
            "align_items": null,
            "align_self": null,
            "border": null,
            "bottom": null,
            "display": null,
            "flex": null,
            "flex_flow": null,
            "grid_area": null,
            "grid_auto_columns": null,
            "grid_auto_flow": null,
            "grid_auto_rows": null,
            "grid_column": null,
            "grid_gap": null,
            "grid_row": null,
            "grid_template_areas": null,
            "grid_template_columns": null,
            "grid_template_rows": null,
            "height": null,
            "justify_content": null,
            "justify_items": null,
            "left": null,
            "margin": null,
            "max_height": null,
            "max_width": null,
            "min_height": null,
            "min_width": null,
            "object_fit": null,
            "object_position": null,
            "order": null,
            "overflow": null,
            "overflow_x": null,
            "overflow_y": null,
            "padding": null,
            "right": null,
            "top": null,
            "visibility": null,
            "width": null
          }
        },
        "4196f05ac1a54200b1389e380da20e41": {
          "model_module": "@jupyter-widgets/base",
          "model_module_version": "1.2.0",
          "model_name": "LayoutModel",
          "state": {
            "_model_module": "@jupyter-widgets/base",
            "_model_module_version": "1.2.0",
            "_model_name": "LayoutModel",
            "_view_count": null,
            "_view_module": "@jupyter-widgets/base",
            "_view_module_version": "1.2.0",
            "_view_name": "LayoutView",
            "align_content": null,
            "align_items": null,
            "align_self": null,
            "border": null,
            "bottom": null,
            "display": null,
            "flex": null,
            "flex_flow": null,
            "grid_area": null,
            "grid_auto_columns": null,
            "grid_auto_flow": null,
            "grid_auto_rows": null,
            "grid_column": null,
            "grid_gap": null,
            "grid_row": null,
            "grid_template_areas": null,
            "grid_template_columns": null,
            "grid_template_rows": null,
            "height": null,
            "justify_content": null,
            "justify_items": null,
            "left": null,
            "margin": null,
            "max_height": null,
            "max_width": null,
            "min_height": null,
            "min_width": null,
            "object_fit": null,
            "object_position": null,
            "order": null,
            "overflow": null,
            "overflow_x": null,
            "overflow_y": null,
            "padding": null,
            "right": null,
            "top": null,
            "visibility": null,
            "width": "750px"
          }
        },
        "41b6b4178cf34376b03abb85932f5e5a": {
          "model_module": "@jupyter-widgets/controls",
          "model_module_version": "1.5.0",
          "model_name": "DescriptionStyleModel",
          "state": {
            "_model_module": "@jupyter-widgets/controls",
            "_model_module_version": "1.5.0",
            "_model_name": "DescriptionStyleModel",
            "_view_count": null,
            "_view_module": "@jupyter-widgets/base",
            "_view_module_version": "1.2.0",
            "_view_name": "StyleView",
            "description_width": ""
          }
        },
        "4238aea969d9403abc165888c7151ced": {
          "model_module": "@jupyter-widgets/base",
          "model_module_version": "1.2.0",
          "model_name": "LayoutModel",
          "state": {
            "_model_module": "@jupyter-widgets/base",
            "_model_module_version": "1.2.0",
            "_model_name": "LayoutModel",
            "_view_count": null,
            "_view_module": "@jupyter-widgets/base",
            "_view_module_version": "1.2.0",
            "_view_name": "LayoutView",
            "align_content": null,
            "align_items": null,
            "align_self": null,
            "border": null,
            "bottom": null,
            "display": null,
            "flex": null,
            "flex_flow": null,
            "grid_area": null,
            "grid_auto_columns": null,
            "grid_auto_flow": null,
            "grid_auto_rows": null,
            "grid_column": null,
            "grid_gap": null,
            "grid_row": null,
            "grid_template_areas": null,
            "grid_template_columns": null,
            "grid_template_rows": null,
            "height": null,
            "justify_content": null,
            "justify_items": null,
            "left": null,
            "margin": null,
            "max_height": null,
            "max_width": null,
            "min_height": null,
            "min_width": null,
            "object_fit": null,
            "object_position": null,
            "order": null,
            "overflow": null,
            "overflow_x": null,
            "overflow_y": null,
            "padding": null,
            "right": null,
            "top": null,
            "visibility": null,
            "width": null
          }
        },
        "430533a8200848c7af3068db4831c33a": {
          "model_module": "@jupyter-widgets/controls",
          "model_module_version": "1.5.0",
          "model_name": "TextModel",
          "state": {
            "_dom_classes": [],
            "_model_module": "@jupyter-widgets/controls",
            "_model_module_version": "1.5.0",
            "_model_name": "TextModel",
            "_view_count": null,
            "_view_module": "@jupyter-widgets/controls",
            "_view_module_version": "1.5.0",
            "_view_name": "TextView",
            "continuous_update": true,
            "description": "Entrada:",
            "description_tooltip": null,
            "disabled": false,
            "layout": "IPY_MODEL_2b9af498c428465ca09d697d515e2c4c",
            "placeholder": "Digite a entrada",
            "style": "IPY_MODEL_afbd127ca19642778e8ce9408ef0496e",
            "value": "1010110"
          }
        },
        "44bed6bf56444a4b8c27fa21d6626044": {
          "model_module": "@jupyter-widgets/controls",
          "model_module_version": "1.5.0",
          "model_name": "TextModel",
          "state": {
            "_dom_classes": [],
            "_model_module": "@jupyter-widgets/controls",
            "_model_module_version": "1.5.0",
            "_model_name": "TextModel",
            "_view_count": null,
            "_view_module": "@jupyter-widgets/controls",
            "_view_module_version": "1.5.0",
            "_view_name": "TextView",
            "continuous_update": true,
            "description": "Entrada:",
            "description_tooltip": null,
            "disabled": false,
            "layout": "IPY_MODEL_7013b30010a241faadae8c5baa3f8668",
            "placeholder": "Digite a entrada",
            "style": "IPY_MODEL_1b8201880f4f4864bf10f2690b624bc2",
            "value": "01100101"
          }
        },
        "475e46d8b1c04b4a86b9d7b22cb37392": {
          "model_module": "@jupyter-widgets/base",
          "model_module_version": "1.2.0",
          "model_name": "LayoutModel",
          "state": {
            "_model_module": "@jupyter-widgets/base",
            "_model_module_version": "1.2.0",
            "_model_name": "LayoutModel",
            "_view_count": null,
            "_view_module": "@jupyter-widgets/base",
            "_view_module_version": "1.2.0",
            "_view_name": "LayoutView",
            "align_content": null,
            "align_items": null,
            "align_self": null,
            "border": null,
            "bottom": null,
            "display": null,
            "flex": null,
            "flex_flow": null,
            "grid_area": null,
            "grid_auto_columns": null,
            "grid_auto_flow": null,
            "grid_auto_rows": null,
            "grid_column": null,
            "grid_gap": null,
            "grid_row": null,
            "grid_template_areas": null,
            "grid_template_columns": null,
            "grid_template_rows": null,
            "height": null,
            "justify_content": null,
            "justify_items": null,
            "left": null,
            "margin": null,
            "max_height": null,
            "max_width": null,
            "min_height": null,
            "min_width": null,
            "object_fit": null,
            "object_position": null,
            "order": null,
            "overflow": null,
            "overflow_x": null,
            "overflow_y": null,
            "padding": null,
            "right": null,
            "top": null,
            "visibility": null,
            "width": null
          }
        },
        "49484c961fcd499ab1fe9f62eb4a8127": {
          "model_module": "@jupyter-widgets/controls",
          "model_module_version": "1.5.0",
          "model_name": "ButtonStyleModel",
          "state": {
            "_model_module": "@jupyter-widgets/controls",
            "_model_module_version": "1.5.0",
            "_model_name": "ButtonStyleModel",
            "_view_count": null,
            "_view_module": "@jupyter-widgets/base",
            "_view_module_version": "1.2.0",
            "_view_name": "StyleView",
            "button_color": null,
            "font_weight": ""
          }
        },
        "49af87db664744fbab2e59d8fd9aab92": {
          "model_module": "@jupyter-widgets/base",
          "model_module_version": "1.2.0",
          "model_name": "LayoutModel",
          "state": {
            "_model_module": "@jupyter-widgets/base",
            "_model_module_version": "1.2.0",
            "_model_name": "LayoutModel",
            "_view_count": null,
            "_view_module": "@jupyter-widgets/base",
            "_view_module_version": "1.2.0",
            "_view_name": "LayoutView",
            "align_content": null,
            "align_items": null,
            "align_self": null,
            "border": null,
            "bottom": null,
            "display": null,
            "flex": null,
            "flex_flow": null,
            "grid_area": null,
            "grid_auto_columns": null,
            "grid_auto_flow": null,
            "grid_auto_rows": null,
            "grid_column": null,
            "grid_gap": null,
            "grid_row": null,
            "grid_template_areas": null,
            "grid_template_columns": null,
            "grid_template_rows": null,
            "height": null,
            "justify_content": null,
            "justify_items": null,
            "left": null,
            "margin": null,
            "max_height": null,
            "max_width": null,
            "min_height": null,
            "min_width": null,
            "object_fit": null,
            "object_position": null,
            "order": null,
            "overflow": null,
            "overflow_x": null,
            "overflow_y": null,
            "padding": null,
            "right": null,
            "top": null,
            "visibility": null,
            "width": null
          }
        },
        "4d195cb87e6941b0ae30ca7b78dec66a": {
          "model_module": "@jupyter-widgets/controls",
          "model_module_version": "1.5.0",
          "model_name": "HBoxModel",
          "state": {
            "_dom_classes": [],
            "_model_module": "@jupyter-widgets/controls",
            "_model_module_version": "1.5.0",
            "_model_name": "HBoxModel",
            "_view_count": null,
            "_view_module": "@jupyter-widgets/controls",
            "_view_module_version": "1.5.0",
            "_view_name": "HBoxView",
            "box_style": "",
            "children": [
              "IPY_MODEL_44bed6bf56444a4b8c27fa21d6626044",
              "IPY_MODEL_fe4cfdb5a7054c1489bc7a54b8583000"
            ],
            "layout": "IPY_MODEL_e40d4272e6eb4f27951af2a33c68a388"
          }
        },
        "53318ba76a0d4b5cab6a6ae84ad4c5fb": {
          "model_module": "@jupyter-widgets/controls",
          "model_module_version": "1.5.0",
          "model_name": "TextModel",
          "state": {
            "_dom_classes": [],
            "_model_module": "@jupyter-widgets/controls",
            "_model_module_version": "1.5.0",
            "_model_name": "TextModel",
            "_view_count": null,
            "_view_module": "@jupyter-widgets/controls",
            "_view_module_version": "1.5.0",
            "_view_name": "TextView",
            "continuous_update": true,
            "description": "Entrada:",
            "description_tooltip": null,
            "disabled": false,
            "layout": "IPY_MODEL_4196f05ac1a54200b1389e380da20e41",
            "placeholder": "Digite a entrada",
            "style": "IPY_MODEL_41b6b4178cf34376b03abb85932f5e5a",
            "value": "0101"
          }
        },
        "54620ba7707b48cbbeec964a34fa5bc9": {
          "model_module": "@jupyter-widgets/base",
          "model_module_version": "1.2.0",
          "model_name": "LayoutModel",
          "state": {
            "_model_module": "@jupyter-widgets/base",
            "_model_module_version": "1.2.0",
            "_model_name": "LayoutModel",
            "_view_count": null,
            "_view_module": "@jupyter-widgets/base",
            "_view_module_version": "1.2.0",
            "_view_name": "LayoutView",
            "align_content": null,
            "align_items": null,
            "align_self": null,
            "border": null,
            "bottom": null,
            "display": null,
            "flex": null,
            "flex_flow": null,
            "grid_area": null,
            "grid_auto_columns": null,
            "grid_auto_flow": null,
            "grid_auto_rows": null,
            "grid_column": null,
            "grid_gap": null,
            "grid_row": null,
            "grid_template_areas": null,
            "grid_template_columns": null,
            "grid_template_rows": null,
            "height": null,
            "justify_content": null,
            "justify_items": null,
            "left": null,
            "margin": null,
            "max_height": null,
            "max_width": null,
            "min_height": null,
            "min_width": null,
            "object_fit": null,
            "object_position": null,
            "order": null,
            "overflow": null,
            "overflow_x": null,
            "overflow_y": null,
            "padding": null,
            "right": null,
            "top": null,
            "visibility": null,
            "width": null
          }
        },
        "59760fb0957643f185e5eae946d4da33": {
          "model_module": "@jupyter-widgets/base",
          "model_module_version": "1.2.0",
          "model_name": "LayoutModel",
          "state": {
            "_model_module": "@jupyter-widgets/base",
            "_model_module_version": "1.2.0",
            "_model_name": "LayoutModel",
            "_view_count": null,
            "_view_module": "@jupyter-widgets/base",
            "_view_module_version": "1.2.0",
            "_view_name": "LayoutView",
            "align_content": null,
            "align_items": null,
            "align_self": null,
            "border": null,
            "bottom": null,
            "display": null,
            "flex": null,
            "flex_flow": null,
            "grid_area": null,
            "grid_auto_columns": null,
            "grid_auto_flow": null,
            "grid_auto_rows": null,
            "grid_column": null,
            "grid_gap": null,
            "grid_row": null,
            "grid_template_areas": null,
            "grid_template_columns": null,
            "grid_template_rows": null,
            "height": null,
            "justify_content": null,
            "justify_items": null,
            "left": null,
            "margin": null,
            "max_height": null,
            "max_width": null,
            "min_height": null,
            "min_width": null,
            "object_fit": null,
            "object_position": null,
            "order": null,
            "overflow": null,
            "overflow_x": null,
            "overflow_y": null,
            "padding": null,
            "right": null,
            "top": null,
            "visibility": null,
            "width": null
          }
        },
        "5a37fbe0eb6d43bca5609a000f9cb410": {
          "model_module": "@jupyter-widgets/controls",
          "model_module_version": "1.5.0",
          "model_name": "VBoxModel",
          "state": {
            "_dom_classes": [],
            "_model_module": "@jupyter-widgets/controls",
            "_model_module_version": "1.5.0",
            "_model_name": "VBoxModel",
            "_view_count": null,
            "_view_module": "@jupyter-widgets/controls",
            "_view_module_version": "1.5.0",
            "_view_name": "VBoxView",
            "box_style": "",
            "children": [
              "IPY_MODEL_1451e75fa21346949f21f2ab39526db8",
              "IPY_MODEL_1d1bdf9aa021498988880e4718ddd1f0"
            ],
            "layout": "IPY_MODEL_014816522b334d5888bb66b4d0214a25"
          }
        },
        "5ad059f61e0a4d18a3938fb4aa650b0d": {
          "model_module": "@jupyter-widgets/controls",
          "model_module_version": "1.5.0",
          "model_name": "FloatSliderModel",
          "state": {
            "_dom_classes": [],
            "_model_module": "@jupyter-widgets/controls",
            "_model_module_version": "1.5.0",
            "_model_name": "FloatSliderModel",
            "_view_count": null,
            "_view_module": "@jupyter-widgets/controls",
            "_view_module_version": "1.5.0",
            "_view_name": "FloatSliderView",
            "continuous_update": false,
            "description": "Pausa:",
            "description_tooltip": "Defina a pausa (em segundos) de exibição entre as descrições instantâneas da simulação.",
            "disabled": false,
            "layout": "IPY_MODEL_59760fb0957643f185e5eae946d4da33",
            "max": 3,
            "min": 0,
            "orientation": "horizontal",
            "readout": true,
            "readout_format": ".1f",
            "step": 0.1,
            "style": "IPY_MODEL_6885ed9f84a54ae1a0e1cf597320b5c8",
            "value": 0.8
          }
        },
        "5b11df28d147469e90349fa9a2831d9b": {
          "model_module": "@jupyter-widgets/base",
          "model_module_version": "1.2.0",
          "model_name": "LayoutModel",
          "state": {
            "_model_module": "@jupyter-widgets/base",
            "_model_module_version": "1.2.0",
            "_model_name": "LayoutModel",
            "_view_count": null,
            "_view_module": "@jupyter-widgets/base",
            "_view_module_version": "1.2.0",
            "_view_name": "LayoutView",
            "align_content": null,
            "align_items": null,
            "align_self": null,
            "border": null,
            "bottom": null,
            "display": null,
            "flex": null,
            "flex_flow": null,
            "grid_area": null,
            "grid_auto_columns": null,
            "grid_auto_flow": null,
            "grid_auto_rows": null,
            "grid_column": null,
            "grid_gap": null,
            "grid_row": null,
            "grid_template_areas": null,
            "grid_template_columns": null,
            "grid_template_rows": null,
            "height": null,
            "justify_content": null,
            "justify_items": null,
            "left": null,
            "margin": null,
            "max_height": null,
            "max_width": null,
            "min_height": null,
            "min_width": null,
            "object_fit": null,
            "object_position": null,
            "order": null,
            "overflow": null,
            "overflow_x": null,
            "overflow_y": null,
            "padding": null,
            "right": null,
            "top": null,
            "visibility": null,
            "width": null
          }
        },
        "5b39ea045c0548a5b6d9af9c7eb35804": {
          "model_module": "@jupyter-widgets/base",
          "model_module_version": "1.2.0",
          "model_name": "LayoutModel",
          "state": {
            "_model_module": "@jupyter-widgets/base",
            "_model_module_version": "1.2.0",
            "_model_name": "LayoutModel",
            "_view_count": null,
            "_view_module": "@jupyter-widgets/base",
            "_view_module_version": "1.2.0",
            "_view_name": "LayoutView",
            "align_content": null,
            "align_items": null,
            "align_self": null,
            "border": null,
            "bottom": null,
            "display": null,
            "flex": null,
            "flex_flow": null,
            "grid_area": null,
            "grid_auto_columns": null,
            "grid_auto_flow": null,
            "grid_auto_rows": null,
            "grid_column": null,
            "grid_gap": null,
            "grid_row": null,
            "grid_template_areas": null,
            "grid_template_columns": null,
            "grid_template_rows": null,
            "height": null,
            "justify_content": null,
            "justify_items": null,
            "left": null,
            "margin": null,
            "max_height": null,
            "max_width": null,
            "min_height": null,
            "min_width": null,
            "object_fit": null,
            "object_position": null,
            "order": null,
            "overflow": null,
            "overflow_x": null,
            "overflow_y": null,
            "padding": null,
            "right": null,
            "top": null,
            "visibility": null,
            "width": null
          }
        },
        "5b4887288cb64beaa4fd33f561f9835d": {
          "model_module": "@jupyter-widgets/controls",
          "model_module_version": "1.5.0",
          "model_name": "ButtonModel",
          "state": {
            "_dom_classes": [],
            "_model_module": "@jupyter-widgets/controls",
            "_model_module_version": "1.5.0",
            "_model_name": "ButtonModel",
            "_view_count": null,
            "_view_module": "@jupyter-widgets/controls",
            "_view_module_version": "1.5.0",
            "_view_name": "ButtonView",
            "button_style": "",
            "description": "Simular",
            "disabled": false,
            "icon": "",
            "layout": "IPY_MODEL_35af6a124b5a491c86f87f4055fa56cf",
            "style": "IPY_MODEL_aea3041a57e041d09884576f1db4292e",
            "tooltip": ""
          }
        },
        "5c554e4cf50043e985d567f852deb340": {
          "model_module": "@jupyter-widgets/base",
          "model_module_version": "1.2.0",
          "model_name": "LayoutModel",
          "state": {
            "_model_module": "@jupyter-widgets/base",
            "_model_module_version": "1.2.0",
            "_model_name": "LayoutModel",
            "_view_count": null,
            "_view_module": "@jupyter-widgets/base",
            "_view_module_version": "1.2.0",
            "_view_name": "LayoutView",
            "align_content": null,
            "align_items": null,
            "align_self": null,
            "border": null,
            "bottom": null,
            "display": null,
            "flex": null,
            "flex_flow": null,
            "grid_area": null,
            "grid_auto_columns": null,
            "grid_auto_flow": null,
            "grid_auto_rows": null,
            "grid_column": null,
            "grid_gap": null,
            "grid_row": null,
            "grid_template_areas": null,
            "grid_template_columns": null,
            "grid_template_rows": null,
            "height": null,
            "justify_content": null,
            "justify_items": null,
            "left": null,
            "margin": null,
            "max_height": null,
            "max_width": null,
            "min_height": null,
            "min_width": null,
            "object_fit": null,
            "object_position": null,
            "order": null,
            "overflow": null,
            "overflow_x": null,
            "overflow_y": null,
            "padding": null,
            "right": null,
            "top": null,
            "visibility": null,
            "width": null
          }
        },
        "5cc9a45b6c9a48199267f9591d56747a": {
          "model_module": "@jupyter-widgets/controls",
          "model_module_version": "1.5.0",
          "model_name": "SliderStyleModel",
          "state": {
            "_model_module": "@jupyter-widgets/controls",
            "_model_module_version": "1.5.0",
            "_model_name": "SliderStyleModel",
            "_view_count": null,
            "_view_module": "@jupyter-widgets/base",
            "_view_module_version": "1.2.0",
            "_view_name": "StyleView",
            "description_width": "",
            "handle_color": null
          }
        },
        "60cea5bbe60c4aeead02c4afe28d2785": {
          "model_module": "@jupyter-widgets/controls",
          "model_module_version": "1.5.0",
          "model_name": "ButtonModel",
          "state": {
            "_dom_classes": [],
            "_model_module": "@jupyter-widgets/controls",
            "_model_module_version": "1.5.0",
            "_model_name": "ButtonModel",
            "_view_count": null,
            "_view_module": "@jupyter-widgets/controls",
            "_view_module_version": "1.5.0",
            "_view_name": "ButtonView",
            "button_style": "",
            "description": "Simular",
            "disabled": false,
            "icon": "",
            "layout": "IPY_MODEL_64c1040b2d3a4236a3eabee61b276650",
            "style": "IPY_MODEL_dadc6a2e937546af86e32ab018a4e1be",
            "tooltip": ""
          }
        },
        "6118f7ac26af4b9b8c71ef709cf56c3d": {
          "model_module": "@jupyter-widgets/output",
          "model_module_version": "1.0.0",
          "model_name": "OutputModel",
          "state": {
            "_dom_classes": [],
            "_model_module": "@jupyter-widgets/output",
            "_model_module_version": "1.0.0",
            "_model_name": "OutputModel",
            "_view_count": null,
            "_view_module": "@jupyter-widgets/output",
            "_view_module_version": "1.0.0",
            "_view_name": "OutputView",
            "layout": "IPY_MODEL_01cb1c2be35b47b5b4eb83b9e9a836fe",
            "msg_id": "",
            "outputs": []
          }
        },
        "623162c751a0464c81965bf612423882": {
          "model_module": "@jupyter-widgets/base",
          "model_module_version": "1.2.0",
          "model_name": "LayoutModel",
          "state": {
            "_model_module": "@jupyter-widgets/base",
            "_model_module_version": "1.2.0",
            "_model_name": "LayoutModel",
            "_view_count": null,
            "_view_module": "@jupyter-widgets/base",
            "_view_module_version": "1.2.0",
            "_view_name": "LayoutView",
            "align_content": null,
            "align_items": null,
            "align_self": null,
            "border": null,
            "bottom": null,
            "display": null,
            "flex": null,
            "flex_flow": null,
            "grid_area": null,
            "grid_auto_columns": null,
            "grid_auto_flow": null,
            "grid_auto_rows": null,
            "grid_column": null,
            "grid_gap": null,
            "grid_row": null,
            "grid_template_areas": null,
            "grid_template_columns": null,
            "grid_template_rows": null,
            "height": null,
            "justify_content": null,
            "justify_items": null,
            "left": null,
            "margin": null,
            "max_height": null,
            "max_width": null,
            "min_height": null,
            "min_width": null,
            "object_fit": null,
            "object_position": null,
            "order": null,
            "overflow": null,
            "overflow_x": null,
            "overflow_y": null,
            "padding": null,
            "right": null,
            "top": null,
            "visibility": null,
            "width": null
          }
        },
        "64c1040b2d3a4236a3eabee61b276650": {
          "model_module": "@jupyter-widgets/base",
          "model_module_version": "1.2.0",
          "model_name": "LayoutModel",
          "state": {
            "_model_module": "@jupyter-widgets/base",
            "_model_module_version": "1.2.0",
            "_model_name": "LayoutModel",
            "_view_count": null,
            "_view_module": "@jupyter-widgets/base",
            "_view_module_version": "1.2.0",
            "_view_name": "LayoutView",
            "align_content": null,
            "align_items": null,
            "align_self": null,
            "border": null,
            "bottom": null,
            "display": null,
            "flex": null,
            "flex_flow": null,
            "grid_area": null,
            "grid_auto_columns": null,
            "grid_auto_flow": null,
            "grid_auto_rows": null,
            "grid_column": null,
            "grid_gap": null,
            "grid_row": null,
            "grid_template_areas": null,
            "grid_template_columns": null,
            "grid_template_rows": null,
            "height": null,
            "justify_content": null,
            "justify_items": null,
            "left": null,
            "margin": null,
            "max_height": null,
            "max_width": null,
            "min_height": null,
            "min_width": null,
            "object_fit": null,
            "object_position": null,
            "order": null,
            "overflow": null,
            "overflow_x": null,
            "overflow_y": null,
            "padding": null,
            "right": null,
            "top": null,
            "visibility": null,
            "width": null
          }
        },
        "68103f0731574f92a51a0d79c06bc515": {
          "model_module": "@jupyter-widgets/controls",
          "model_module_version": "1.5.0",
          "model_name": "DescriptionStyleModel",
          "state": {
            "_model_module": "@jupyter-widgets/controls",
            "_model_module_version": "1.5.0",
            "_model_name": "DescriptionStyleModel",
            "_view_count": null,
            "_view_module": "@jupyter-widgets/base",
            "_view_module_version": "1.2.0",
            "_view_name": "StyleView",
            "description_width": ""
          }
        },
        "68343877bf784c3aa3f2284a29f31b81": {
          "model_module": "@jupyter-widgets/controls",
          "model_module_version": "1.5.0",
          "model_name": "DescriptionStyleModel",
          "state": {
            "_model_module": "@jupyter-widgets/controls",
            "_model_module_version": "1.5.0",
            "_model_name": "DescriptionStyleModel",
            "_view_count": null,
            "_view_module": "@jupyter-widgets/base",
            "_view_module_version": "1.2.0",
            "_view_name": "StyleView",
            "description_width": ""
          }
        },
        "6885ed9f84a54ae1a0e1cf597320b5c8": {
          "model_module": "@jupyter-widgets/controls",
          "model_module_version": "1.5.0",
          "model_name": "SliderStyleModel",
          "state": {
            "_model_module": "@jupyter-widgets/controls",
            "_model_module_version": "1.5.0",
            "_model_name": "SliderStyleModel",
            "_view_count": null,
            "_view_module": "@jupyter-widgets/base",
            "_view_module_version": "1.2.0",
            "_view_name": "StyleView",
            "description_width": "",
            "handle_color": null
          }
        },
        "6a68a3fe3ca743d9a6ddcb0c9b57f8de": {
          "model_module": "@jupyter-widgets/controls",
          "model_module_version": "1.5.0",
          "model_name": "DescriptionStyleModel",
          "state": {
            "_model_module": "@jupyter-widgets/controls",
            "_model_module_version": "1.5.0",
            "_model_name": "DescriptionStyleModel",
            "_view_count": null,
            "_view_module": "@jupyter-widgets/base",
            "_view_module_version": "1.2.0",
            "_view_name": "StyleView",
            "description_width": ""
          }
        },
        "6bcfae4984c3452eb9a7365ab934dda3": {
          "model_module": "@jupyter-widgets/controls",
          "model_module_version": "1.5.0",
          "model_name": "VBoxModel",
          "state": {
            "_dom_classes": [],
            "_model_module": "@jupyter-widgets/controls",
            "_model_module_version": "1.5.0",
            "_model_name": "VBoxModel",
            "_view_count": null,
            "_view_module": "@jupyter-widgets/controls",
            "_view_module_version": "1.5.0",
            "_view_name": "VBoxView",
            "box_style": "",
            "children": [
              "IPY_MODEL_4d195cb87e6941b0ae30ca7b78dec66a",
              "IPY_MODEL_14ecac56c87e4861b4d4da37fb7d24af"
            ],
            "layout": "IPY_MODEL_2adfdc1e98cd49d7849989faf7089a59"
          }
        },
        "6d8f30cfed8846898323c038f7c5ad97": {
          "model_module": "@jupyter-widgets/controls",
          "model_module_version": "1.5.0",
          "model_name": "ButtonStyleModel",
          "state": {
            "_model_module": "@jupyter-widgets/controls",
            "_model_module_version": "1.5.0",
            "_model_name": "ButtonStyleModel",
            "_view_count": null,
            "_view_module": "@jupyter-widgets/base",
            "_view_module_version": "1.2.0",
            "_view_name": "StyleView",
            "button_color": null,
            "font_weight": ""
          }
        },
        "6da9ef3889c243e0b26b4e649af3a7dd": {
          "model_module": "@jupyter-widgets/base",
          "model_module_version": "1.2.0",
          "model_name": "LayoutModel",
          "state": {
            "_model_module": "@jupyter-widgets/base",
            "_model_module_version": "1.2.0",
            "_model_name": "LayoutModel",
            "_view_count": null,
            "_view_module": "@jupyter-widgets/base",
            "_view_module_version": "1.2.0",
            "_view_name": "LayoutView",
            "align_content": null,
            "align_items": null,
            "align_self": null,
            "border": null,
            "bottom": null,
            "display": null,
            "flex": null,
            "flex_flow": null,
            "grid_area": null,
            "grid_auto_columns": null,
            "grid_auto_flow": null,
            "grid_auto_rows": null,
            "grid_column": null,
            "grid_gap": null,
            "grid_row": null,
            "grid_template_areas": null,
            "grid_template_columns": null,
            "grid_template_rows": null,
            "height": null,
            "justify_content": null,
            "justify_items": null,
            "left": null,
            "margin": null,
            "max_height": null,
            "max_width": null,
            "min_height": null,
            "min_width": null,
            "object_fit": null,
            "object_position": null,
            "order": null,
            "overflow": null,
            "overflow_x": null,
            "overflow_y": null,
            "padding": null,
            "right": null,
            "top": null,
            "visibility": null,
            "width": null
          }
        },
        "7013b30010a241faadae8c5baa3f8668": {
          "model_module": "@jupyter-widgets/base",
          "model_module_version": "1.2.0",
          "model_name": "LayoutModel",
          "state": {
            "_model_module": "@jupyter-widgets/base",
            "_model_module_version": "1.2.0",
            "_model_name": "LayoutModel",
            "_view_count": null,
            "_view_module": "@jupyter-widgets/base",
            "_view_module_version": "1.2.0",
            "_view_name": "LayoutView",
            "align_content": null,
            "align_items": null,
            "align_self": null,
            "border": null,
            "bottom": null,
            "display": null,
            "flex": null,
            "flex_flow": null,
            "grid_area": null,
            "grid_auto_columns": null,
            "grid_auto_flow": null,
            "grid_auto_rows": null,
            "grid_column": null,
            "grid_gap": null,
            "grid_row": null,
            "grid_template_areas": null,
            "grid_template_columns": null,
            "grid_template_rows": null,
            "height": null,
            "justify_content": null,
            "justify_items": null,
            "left": null,
            "margin": null,
            "max_height": null,
            "max_width": null,
            "min_height": null,
            "min_width": null,
            "object_fit": null,
            "object_position": null,
            "order": null,
            "overflow": null,
            "overflow_x": null,
            "overflow_y": null,
            "padding": null,
            "right": null,
            "top": null,
            "visibility": null,
            "width": "750px"
          }
        },
        "705fc78419ae4f7ca5fa028e7ba1c9c5": {
          "model_module": "@jupyter-widgets/controls",
          "model_module_version": "1.5.0",
          "model_name": "ButtonModel",
          "state": {
            "_dom_classes": [],
            "_model_module": "@jupyter-widgets/controls",
            "_model_module_version": "1.5.0",
            "_model_name": "ButtonModel",
            "_view_count": null,
            "_view_module": "@jupyter-widgets/controls",
            "_view_module_version": "1.5.0",
            "_view_name": "ButtonView",
            "button_style": "",
            "description": "Passo-a-Passo",
            "disabled": false,
            "icon": "",
            "layout": "IPY_MODEL_4238aea969d9403abc165888c7151ced",
            "style": "IPY_MODEL_dd78f83adfa346859f29cb6ae00e206d",
            "tooltip": ""
          }
        },
        "74bfc76e750e481983975502ecfaf86a": {
          "model_module": "@jupyter-widgets/base",
          "model_module_version": "1.2.0",
          "model_name": "LayoutModel",
          "state": {
            "_model_module": "@jupyter-widgets/base",
            "_model_module_version": "1.2.0",
            "_model_name": "LayoutModel",
            "_view_count": null,
            "_view_module": "@jupyter-widgets/base",
            "_view_module_version": "1.2.0",
            "_view_name": "LayoutView",
            "align_content": null,
            "align_items": null,
            "align_self": null,
            "border": null,
            "bottom": null,
            "display": null,
            "flex": null,
            "flex_flow": null,
            "grid_area": null,
            "grid_auto_columns": null,
            "grid_auto_flow": null,
            "grid_auto_rows": null,
            "grid_column": null,
            "grid_gap": null,
            "grid_row": null,
            "grid_template_areas": null,
            "grid_template_columns": null,
            "grid_template_rows": null,
            "height": null,
            "justify_content": null,
            "justify_items": null,
            "left": null,
            "margin": null,
            "max_height": null,
            "max_width": null,
            "min_height": null,
            "min_width": null,
            "object_fit": null,
            "object_position": null,
            "order": null,
            "overflow": null,
            "overflow_x": null,
            "overflow_y": null,
            "padding": null,
            "right": null,
            "top": null,
            "visibility": null,
            "width": null
          }
        },
        "75b1e6f916a443ee9848060b56f73c0d": {
          "model_module": "@jupyter-widgets/base",
          "model_module_version": "1.2.0",
          "model_name": "LayoutModel",
          "state": {
            "_model_module": "@jupyter-widgets/base",
            "_model_module_version": "1.2.0",
            "_model_name": "LayoutModel",
            "_view_count": null,
            "_view_module": "@jupyter-widgets/base",
            "_view_module_version": "1.2.0",
            "_view_name": "LayoutView",
            "align_content": null,
            "align_items": null,
            "align_self": null,
            "border": null,
            "bottom": null,
            "display": null,
            "flex": null,
            "flex_flow": null,
            "grid_area": null,
            "grid_auto_columns": null,
            "grid_auto_flow": null,
            "grid_auto_rows": null,
            "grid_column": null,
            "grid_gap": null,
            "grid_row": null,
            "grid_template_areas": null,
            "grid_template_columns": null,
            "grid_template_rows": null,
            "height": null,
            "justify_content": null,
            "justify_items": null,
            "left": null,
            "margin": null,
            "max_height": null,
            "max_width": null,
            "min_height": null,
            "min_width": null,
            "object_fit": null,
            "object_position": null,
            "order": null,
            "overflow": null,
            "overflow_x": null,
            "overflow_y": null,
            "padding": null,
            "right": null,
            "top": null,
            "visibility": null,
            "width": null
          }
        },
        "78d57ef39b024cf7859836bec0dd15e8": {
          "model_module": "@jupyter-widgets/controls",
          "model_module_version": "1.5.0",
          "model_name": "CheckboxModel",
          "state": {
            "_dom_classes": [],
            "_model_module": "@jupyter-widgets/controls",
            "_model_module_version": "1.5.0",
            "_model_name": "CheckboxModel",
            "_view_count": null,
            "_view_module": "@jupyter-widgets/controls",
            "_view_module_version": "1.5.0",
            "_view_name": "CheckboxView",
            "description": "Trace único",
            "description_tooltip": "Marque se você deseja visualizar um trace apenas",
            "disabled": false,
            "indent": true,
            "layout": "IPY_MODEL_cfc659f578444f7ebcf0b9b3fddf5be6",
            "style": "IPY_MODEL_9d80868478184c0b893d6692ed870e54",
            "value": true
          }
        },
        "7b3d2e900fd741f990be33cd80efa089": {
          "model_module": "@jupyter-widgets/base",
          "model_module_version": "1.2.0",
          "model_name": "LayoutModel",
          "state": {
            "_model_module": "@jupyter-widgets/base",
            "_model_module_version": "1.2.0",
            "_model_name": "LayoutModel",
            "_view_count": null,
            "_view_module": "@jupyter-widgets/base",
            "_view_module_version": "1.2.0",
            "_view_name": "LayoutView",
            "align_content": null,
            "align_items": null,
            "align_self": null,
            "border": null,
            "bottom": null,
            "display": null,
            "flex": null,
            "flex_flow": null,
            "grid_area": null,
            "grid_auto_columns": null,
            "grid_auto_flow": null,
            "grid_auto_rows": null,
            "grid_column": null,
            "grid_gap": null,
            "grid_row": null,
            "grid_template_areas": null,
            "grid_template_columns": null,
            "grid_template_rows": null,
            "height": null,
            "justify_content": null,
            "justify_items": null,
            "left": null,
            "margin": null,
            "max_height": null,
            "max_width": null,
            "min_height": null,
            "min_width": null,
            "object_fit": null,
            "object_position": null,
            "order": null,
            "overflow": null,
            "overflow_x": null,
            "overflow_y": null,
            "padding": null,
            "right": null,
            "top": null,
            "visibility": null,
            "width": null
          }
        },
        "7c7cdec3ea5f4564be916002d80f3ba6": {
          "model_module": "@jupyter-widgets/base",
          "model_module_version": "1.2.0",
          "model_name": "LayoutModel",
          "state": {
            "_model_module": "@jupyter-widgets/base",
            "_model_module_version": "1.2.0",
            "_model_name": "LayoutModel",
            "_view_count": null,
            "_view_module": "@jupyter-widgets/base",
            "_view_module_version": "1.2.0",
            "_view_name": "LayoutView",
            "align_content": null,
            "align_items": null,
            "align_self": null,
            "border": null,
            "bottom": null,
            "display": null,
            "flex": null,
            "flex_flow": null,
            "grid_area": null,
            "grid_auto_columns": null,
            "grid_auto_flow": null,
            "grid_auto_rows": null,
            "grid_column": null,
            "grid_gap": null,
            "grid_row": null,
            "grid_template_areas": null,
            "grid_template_columns": null,
            "grid_template_rows": null,
            "height": null,
            "justify_content": null,
            "justify_items": null,
            "left": null,
            "margin": null,
            "max_height": null,
            "max_width": null,
            "min_height": null,
            "min_width": null,
            "object_fit": null,
            "object_position": null,
            "order": null,
            "overflow": null,
            "overflow_x": null,
            "overflow_y": null,
            "padding": null,
            "right": null,
            "top": null,
            "visibility": null,
            "width": null
          }
        },
        "7d5825438cc94bc982384ab1ac4e14c0": {
          "model_module": "@jupyter-widgets/controls",
          "model_module_version": "1.5.0",
          "model_name": "VBoxModel",
          "state": {
            "_dom_classes": [],
            "_model_module": "@jupyter-widgets/controls",
            "_model_module_version": "1.5.0",
            "_model_name": "VBoxModel",
            "_view_count": null,
            "_view_module": "@jupyter-widgets/controls",
            "_view_module_version": "1.5.0",
            "_view_name": "VBoxView",
            "box_style": "",
            "children": [
              "IPY_MODEL_89760637dd7e4a7980c72174154d8bd8",
              "IPY_MODEL_99bd858957054c4ab28b9df17dadf97b"
            ],
            "layout": "IPY_MODEL_9bacf44e67624a7fa0a734513f15da13"
          }
        },
        "7fb21bff2e094847b9739e7b95a49e9a": {
          "model_module": "@jupyter-widgets/base",
          "model_module_version": "1.2.0",
          "model_name": "LayoutModel",
          "state": {
            "_model_module": "@jupyter-widgets/base",
            "_model_module_version": "1.2.0",
            "_model_name": "LayoutModel",
            "_view_count": null,
            "_view_module": "@jupyter-widgets/base",
            "_view_module_version": "1.2.0",
            "_view_name": "LayoutView",
            "align_content": null,
            "align_items": null,
            "align_self": null,
            "border": null,
            "bottom": null,
            "display": null,
            "flex": null,
            "flex_flow": null,
            "grid_area": null,
            "grid_auto_columns": null,
            "grid_auto_flow": null,
            "grid_auto_rows": null,
            "grid_column": null,
            "grid_gap": null,
            "grid_row": null,
            "grid_template_areas": null,
            "grid_template_columns": null,
            "grid_template_rows": null,
            "height": null,
            "justify_content": null,
            "justify_items": null,
            "left": null,
            "margin": null,
            "max_height": null,
            "max_width": null,
            "min_height": null,
            "min_width": null,
            "object_fit": null,
            "object_position": null,
            "order": null,
            "overflow": null,
            "overflow_x": null,
            "overflow_y": null,
            "padding": null,
            "right": null,
            "top": null,
            "visibility": null,
            "width": null
          }
        },
        "812710ec561345e68ff492274d96598a": {
          "model_module": "@jupyter-widgets/controls",
          "model_module_version": "1.5.0",
          "model_name": "TextModel",
          "state": {
            "_dom_classes": [],
            "_model_module": "@jupyter-widgets/controls",
            "_model_module_version": "1.5.0",
            "_model_name": "TextModel",
            "_view_count": null,
            "_view_module": "@jupyter-widgets/controls",
            "_view_module_version": "1.5.0",
            "_view_name": "TextView",
            "continuous_update": true,
            "description": "Entrada:",
            "description_tooltip": null,
            "disabled": false,
            "layout": "IPY_MODEL_97d9b4482fb5481fb5b5b0c0744bd662",
            "placeholder": "Digite a entrada",
            "style": "IPY_MODEL_ac90c076a2c647c19d679e19b3b00aed",
            "value": "1010110"
          }
        },
        "819b819d5638423091b864c09c1b7c90": {
          "model_module": "@jupyter-widgets/controls",
          "model_module_version": "1.5.0",
          "model_name": "ButtonModel",
          "state": {
            "_dom_classes": [],
            "_model_module": "@jupyter-widgets/controls",
            "_model_module_version": "1.5.0",
            "_model_name": "ButtonModel",
            "_view_count": null,
            "_view_module": "@jupyter-widgets/controls",
            "_view_module_version": "1.5.0",
            "_view_name": "ButtonView",
            "button_style": "",
            "description": "Passo-a-Passo",
            "disabled": false,
            "icon": "",
            "layout": "IPY_MODEL_8ab74bba4a0d4f179654da8cf43de690",
            "style": "IPY_MODEL_1932cd43c7fd49768ae64d36a555892a",
            "tooltip": ""
          }
        },
        "833757c867e2425cad44ccfcdca1d299": {
          "model_module": "@jupyter-widgets/base",
          "model_module_version": "1.2.0",
          "model_name": "LayoutModel",
          "state": {
            "_model_module": "@jupyter-widgets/base",
            "_model_module_version": "1.2.0",
            "_model_name": "LayoutModel",
            "_view_count": null,
            "_view_module": "@jupyter-widgets/base",
            "_view_module_version": "1.2.0",
            "_view_name": "LayoutView",
            "align_content": null,
            "align_items": null,
            "align_self": null,
            "border": null,
            "bottom": null,
            "display": null,
            "flex": null,
            "flex_flow": null,
            "grid_area": null,
            "grid_auto_columns": null,
            "grid_auto_flow": null,
            "grid_auto_rows": null,
            "grid_column": null,
            "grid_gap": null,
            "grid_row": null,
            "grid_template_areas": null,
            "grid_template_columns": null,
            "grid_template_rows": null,
            "height": null,
            "justify_content": null,
            "justify_items": null,
            "left": null,
            "margin": null,
            "max_height": null,
            "max_width": null,
            "min_height": null,
            "min_width": null,
            "object_fit": null,
            "object_position": null,
            "order": null,
            "overflow": null,
            "overflow_x": null,
            "overflow_y": null,
            "padding": null,
            "right": null,
            "top": null,
            "visibility": null,
            "width": null
          }
        },
        "849a6b7e71fa43ac9724dea58dad4b9d": {
          "model_module": "@jupyter-widgets/base",
          "model_module_version": "1.2.0",
          "model_name": "LayoutModel",
          "state": {
            "_model_module": "@jupyter-widgets/base",
            "_model_module_version": "1.2.0",
            "_model_name": "LayoutModel",
            "_view_count": null,
            "_view_module": "@jupyter-widgets/base",
            "_view_module_version": "1.2.0",
            "_view_name": "LayoutView",
            "align_content": null,
            "align_items": null,
            "align_self": null,
            "border": null,
            "bottom": null,
            "display": null,
            "flex": null,
            "flex_flow": null,
            "grid_area": null,
            "grid_auto_columns": null,
            "grid_auto_flow": null,
            "grid_auto_rows": null,
            "grid_column": null,
            "grid_gap": null,
            "grid_row": null,
            "grid_template_areas": null,
            "grid_template_columns": null,
            "grid_template_rows": null,
            "height": null,
            "justify_content": null,
            "justify_items": null,
            "left": null,
            "margin": null,
            "max_height": null,
            "max_width": null,
            "min_height": null,
            "min_width": null,
            "object_fit": null,
            "object_position": null,
            "order": null,
            "overflow": null,
            "overflow_x": null,
            "overflow_y": null,
            "padding": null,
            "right": null,
            "top": null,
            "visibility": null,
            "width": null
          }
        },
        "8617666ea90a4abf94794806905ac88d": {
          "model_module": "@jupyter-widgets/base",
          "model_module_version": "1.2.0",
          "model_name": "LayoutModel",
          "state": {
            "_model_module": "@jupyter-widgets/base",
            "_model_module_version": "1.2.0",
            "_model_name": "LayoutModel",
            "_view_count": null,
            "_view_module": "@jupyter-widgets/base",
            "_view_module_version": "1.2.0",
            "_view_name": "LayoutView",
            "align_content": null,
            "align_items": null,
            "align_self": null,
            "border": null,
            "bottom": null,
            "display": null,
            "flex": null,
            "flex_flow": null,
            "grid_area": null,
            "grid_auto_columns": null,
            "grid_auto_flow": null,
            "grid_auto_rows": null,
            "grid_column": null,
            "grid_gap": null,
            "grid_row": null,
            "grid_template_areas": null,
            "grid_template_columns": null,
            "grid_template_rows": null,
            "height": null,
            "justify_content": null,
            "justify_items": null,
            "left": null,
            "margin": null,
            "max_height": null,
            "max_width": null,
            "min_height": null,
            "min_width": null,
            "object_fit": null,
            "object_position": null,
            "order": null,
            "overflow": null,
            "overflow_x": null,
            "overflow_y": null,
            "padding": null,
            "right": null,
            "top": null,
            "visibility": null,
            "width": null
          }
        },
        "89760637dd7e4a7980c72174154d8bd8": {
          "model_module": "@jupyter-widgets/controls",
          "model_module_version": "1.5.0",
          "model_name": "HBoxModel",
          "state": {
            "_dom_classes": [],
            "_model_module": "@jupyter-widgets/controls",
            "_model_module_version": "1.5.0",
            "_model_name": "HBoxModel",
            "_view_count": null,
            "_view_module": "@jupyter-widgets/controls",
            "_view_module_version": "1.5.0",
            "_view_name": "HBoxView",
            "box_style": "",
            "children": [
              "IPY_MODEL_8c55f262635946ecbece14f50032267e",
              "IPY_MODEL_28eb309e71484d1aaca76d29bd476771"
            ],
            "layout": "IPY_MODEL_90589b9dc92b44c3b2783c83e6950fd1"
          }
        },
        "8ab74bba4a0d4f179654da8cf43de690": {
          "model_module": "@jupyter-widgets/base",
          "model_module_version": "1.2.0",
          "model_name": "LayoutModel",
          "state": {
            "_model_module": "@jupyter-widgets/base",
            "_model_module_version": "1.2.0",
            "_model_name": "LayoutModel",
            "_view_count": null,
            "_view_module": "@jupyter-widgets/base",
            "_view_module_version": "1.2.0",
            "_view_name": "LayoutView",
            "align_content": null,
            "align_items": null,
            "align_self": null,
            "border": null,
            "bottom": null,
            "display": null,
            "flex": null,
            "flex_flow": null,
            "grid_area": null,
            "grid_auto_columns": null,
            "grid_auto_flow": null,
            "grid_auto_rows": null,
            "grid_column": null,
            "grid_gap": null,
            "grid_row": null,
            "grid_template_areas": null,
            "grid_template_columns": null,
            "grid_template_rows": null,
            "height": null,
            "justify_content": null,
            "justify_items": null,
            "left": null,
            "margin": null,
            "max_height": null,
            "max_width": null,
            "min_height": null,
            "min_width": null,
            "object_fit": null,
            "object_position": null,
            "order": null,
            "overflow": null,
            "overflow_x": null,
            "overflow_y": null,
            "padding": null,
            "right": null,
            "top": null,
            "visibility": null,
            "width": null
          }
        },
        "8b27f30a058b48f39518fea5c631ec35": {
          "model_module": "@jupyter-widgets/base",
          "model_module_version": "1.2.0",
          "model_name": "LayoutModel",
          "state": {
            "_model_module": "@jupyter-widgets/base",
            "_model_module_version": "1.2.0",
            "_model_name": "LayoutModel",
            "_view_count": null,
            "_view_module": "@jupyter-widgets/base",
            "_view_module_version": "1.2.0",
            "_view_name": "LayoutView",
            "align_content": null,
            "align_items": null,
            "align_self": null,
            "border": null,
            "bottom": null,
            "display": null,
            "flex": null,
            "flex_flow": null,
            "grid_area": null,
            "grid_auto_columns": null,
            "grid_auto_flow": null,
            "grid_auto_rows": null,
            "grid_column": null,
            "grid_gap": null,
            "grid_row": null,
            "grid_template_areas": null,
            "grid_template_columns": null,
            "grid_template_rows": null,
            "height": null,
            "justify_content": null,
            "justify_items": null,
            "left": null,
            "margin": null,
            "max_height": null,
            "max_width": null,
            "min_height": null,
            "min_width": null,
            "object_fit": null,
            "object_position": null,
            "order": null,
            "overflow": null,
            "overflow_x": null,
            "overflow_y": null,
            "padding": null,
            "right": null,
            "top": null,
            "visibility": null,
            "width": null
          }
        },
        "8c55f262635946ecbece14f50032267e": {
          "model_module": "@jupyter-widgets/controls",
          "model_module_version": "1.5.0",
          "model_name": "TextModel",
          "state": {
            "_dom_classes": [],
            "_model_module": "@jupyter-widgets/controls",
            "_model_module_version": "1.5.0",
            "_model_name": "TextModel",
            "_view_count": null,
            "_view_module": "@jupyter-widgets/controls",
            "_view_module_version": "1.5.0",
            "_view_name": "TextView",
            "continuous_update": true,
            "description": "Entrada:",
            "description_tooltip": null,
            "disabled": false,
            "layout": "IPY_MODEL_0777bbd90b014c2dbda3df4291f25a70",
            "placeholder": "Digite a entrada",
            "style": "IPY_MODEL_6a68a3fe3ca743d9a6ddcb0c9b57f8de",
            "value": "00111"
          }
        },
        "8e8163aaed664d9a8174d54c8857b5b3": {
          "model_module": "@jupyter-widgets/base",
          "model_module_version": "1.2.0",
          "model_name": "LayoutModel",
          "state": {
            "_model_module": "@jupyter-widgets/base",
            "_model_module_version": "1.2.0",
            "_model_name": "LayoutModel",
            "_view_count": null,
            "_view_module": "@jupyter-widgets/base",
            "_view_module_version": "1.2.0",
            "_view_name": "LayoutView",
            "align_content": null,
            "align_items": null,
            "align_self": null,
            "border": null,
            "bottom": null,
            "display": null,
            "flex": null,
            "flex_flow": null,
            "grid_area": null,
            "grid_auto_columns": null,
            "grid_auto_flow": null,
            "grid_auto_rows": null,
            "grid_column": null,
            "grid_gap": null,
            "grid_row": null,
            "grid_template_areas": null,
            "grid_template_columns": null,
            "grid_template_rows": null,
            "height": null,
            "justify_content": null,
            "justify_items": null,
            "left": null,
            "margin": null,
            "max_height": null,
            "max_width": null,
            "min_height": null,
            "min_width": null,
            "object_fit": null,
            "object_position": null,
            "order": null,
            "overflow": null,
            "overflow_x": null,
            "overflow_y": null,
            "padding": null,
            "right": null,
            "top": null,
            "visibility": null,
            "width": null
          }
        },
        "8f9cf27085d148a789d5663126fe3c04": {
          "model_module": "@jupyter-widgets/controls",
          "model_module_version": "1.5.0",
          "model_name": "ButtonStyleModel",
          "state": {
            "_model_module": "@jupyter-widgets/controls",
            "_model_module_version": "1.5.0",
            "_model_name": "ButtonStyleModel",
            "_view_count": null,
            "_view_module": "@jupyter-widgets/base",
            "_view_module_version": "1.2.0",
            "_view_name": "StyleView",
            "button_color": null,
            "font_weight": ""
          }
        },
        "90589b9dc92b44c3b2783c83e6950fd1": {
          "model_module": "@jupyter-widgets/base",
          "model_module_version": "1.2.0",
          "model_name": "LayoutModel",
          "state": {
            "_model_module": "@jupyter-widgets/base",
            "_model_module_version": "1.2.0",
            "_model_name": "LayoutModel",
            "_view_count": null,
            "_view_module": "@jupyter-widgets/base",
            "_view_module_version": "1.2.0",
            "_view_name": "LayoutView",
            "align_content": null,
            "align_items": null,
            "align_self": null,
            "border": null,
            "bottom": null,
            "display": null,
            "flex": null,
            "flex_flow": null,
            "grid_area": null,
            "grid_auto_columns": null,
            "grid_auto_flow": null,
            "grid_auto_rows": null,
            "grid_column": null,
            "grid_gap": null,
            "grid_row": null,
            "grid_template_areas": null,
            "grid_template_columns": null,
            "grid_template_rows": null,
            "height": null,
            "justify_content": null,
            "justify_items": null,
            "left": null,
            "margin": null,
            "max_height": null,
            "max_width": null,
            "min_height": null,
            "min_width": null,
            "object_fit": null,
            "object_position": null,
            "order": null,
            "overflow": null,
            "overflow_x": null,
            "overflow_y": null,
            "padding": null,
            "right": null,
            "top": null,
            "visibility": null,
            "width": null
          }
        },
        "945f431bbf684fc1a320cfcd7499d98a": {
          "model_module": "@jupyter-widgets/controls",
          "model_module_version": "1.5.0",
          "model_name": "VBoxModel",
          "state": {
            "_dom_classes": [],
            "_model_module": "@jupyter-widgets/controls",
            "_model_module_version": "1.5.0",
            "_model_name": "VBoxModel",
            "_view_count": null,
            "_view_module": "@jupyter-widgets/controls",
            "_view_module_version": "1.5.0",
            "_view_name": "VBoxView",
            "box_style": "",
            "children": [
              "IPY_MODEL_a628acac6cf44feb91e44346c83c7376",
              "IPY_MODEL_3e0ee568f7d348759a9ba54068d0d48f"
            ],
            "layout": "IPY_MODEL_7c7cdec3ea5f4564be916002d80f3ba6"
          }
        },
        "9466326991804cc98af9f5f936cbe540": {
          "model_module": "@jupyter-widgets/controls",
          "model_module_version": "1.5.0",
          "model_name": "VBoxModel",
          "state": {
            "_dom_classes": [],
            "_model_module": "@jupyter-widgets/controls",
            "_model_module_version": "1.5.0",
            "_model_name": "VBoxModel",
            "_view_count": null,
            "_view_module": "@jupyter-widgets/controls",
            "_view_module_version": "1.5.0",
            "_view_name": "VBoxView",
            "box_style": "",
            "children": [
              "IPY_MODEL_ce5c10b676734260bc20db39184a9326",
              "IPY_MODEL_216e5ae8be05445593c86282d471884c"
            ],
            "layout": "IPY_MODEL_411f6d22d3cb4ab39b8276d367d78f23"
          }
        },
        "949ae857a7214aed9183e7618a99bcea": {
          "model_module": "@jupyter-widgets/controls",
          "model_module_version": "1.5.0",
          "model_name": "ButtonModel",
          "state": {
            "_dom_classes": [],
            "_model_module": "@jupyter-widgets/controls",
            "_model_module_version": "1.5.0",
            "_model_name": "ButtonModel",
            "_view_count": null,
            "_view_module": "@jupyter-widgets/controls",
            "_view_module_version": "1.5.0",
            "_view_name": "ButtonView",
            "button_style": "",
            "description": "Simular",
            "disabled": false,
            "icon": "",
            "layout": "IPY_MODEL_7b3d2e900fd741f990be33cd80efa089",
            "style": "IPY_MODEL_143e46fedb4548a2a16728a889dddc82",
            "tooltip": ""
          }
        },
        "97d9b4482fb5481fb5b5b0c0744bd662": {
          "model_module": "@jupyter-widgets/base",
          "model_module_version": "1.2.0",
          "model_name": "LayoutModel",
          "state": {
            "_model_module": "@jupyter-widgets/base",
            "_model_module_version": "1.2.0",
            "_model_name": "LayoutModel",
            "_view_count": null,
            "_view_module": "@jupyter-widgets/base",
            "_view_module_version": "1.2.0",
            "_view_name": "LayoutView",
            "align_content": null,
            "align_items": null,
            "align_self": null,
            "border": null,
            "bottom": null,
            "display": null,
            "flex": null,
            "flex_flow": null,
            "grid_area": null,
            "grid_auto_columns": null,
            "grid_auto_flow": null,
            "grid_auto_rows": null,
            "grid_column": null,
            "grid_gap": null,
            "grid_row": null,
            "grid_template_areas": null,
            "grid_template_columns": null,
            "grid_template_rows": null,
            "height": null,
            "justify_content": null,
            "justify_items": null,
            "left": null,
            "margin": null,
            "max_height": null,
            "max_width": null,
            "min_height": null,
            "min_width": null,
            "object_fit": null,
            "object_position": null,
            "order": null,
            "overflow": null,
            "overflow_x": null,
            "overflow_y": null,
            "padding": null,
            "right": null,
            "top": null,
            "visibility": null,
            "width": "750px"
          }
        },
        "99215cb33cdd4182bdb41c1e4175436e": {
          "model_module": "@jupyter-widgets/controls",
          "model_module_version": "1.5.0",
          "model_name": "SliderStyleModel",
          "state": {
            "_model_module": "@jupyter-widgets/controls",
            "_model_module_version": "1.5.0",
            "_model_name": "SliderStyleModel",
            "_view_count": null,
            "_view_module": "@jupyter-widgets/base",
            "_view_module_version": "1.2.0",
            "_view_name": "StyleView",
            "description_width": "",
            "handle_color": null
          }
        },
        "99bd858957054c4ab28b9df17dadf97b": {
          "model_module": "@jupyter-widgets/controls",
          "model_module_version": "1.5.0",
          "model_name": "HBoxModel",
          "state": {
            "_dom_classes": [],
            "_model_module": "@jupyter-widgets/controls",
            "_model_module_version": "1.5.0",
            "_model_name": "HBoxModel",
            "_view_count": null,
            "_view_module": "@jupyter-widgets/controls",
            "_view_module_version": "1.5.0",
            "_view_name": "HBoxView",
            "box_style": "",
            "children": [
              "IPY_MODEL_78d57ef39b024cf7859836bec0dd15e8",
              "IPY_MODEL_f2a5d55e0ecb482bb1b8e4738ef14356",
              "IPY_MODEL_60cea5bbe60c4aeead02c4afe28d2785",
              "IPY_MODEL_ceccdb4c02914878ab1a9b50b2e74ecf"
            ],
            "layout": "IPY_MODEL_b953bf9759ed4cdfbc7076723a904d86"
          }
        },
        "9b28fbf18e8e4cf29b62e37298e1d19a": {
          "model_module": "@jupyter-widgets/controls",
          "model_module_version": "1.5.0",
          "model_name": "ButtonModel",
          "state": {
            "_dom_classes": [],
            "_model_module": "@jupyter-widgets/controls",
            "_model_module_version": "1.5.0",
            "_model_name": "ButtonModel",
            "_view_count": null,
            "_view_module": "@jupyter-widgets/controls",
            "_view_module_version": "1.5.0",
            "_view_name": "ButtonView",
            "button_style": "",
            "description": "Limpar",
            "disabled": false,
            "icon": "",
            "layout": "IPY_MODEL_49af87db664744fbab2e59d8fd9aab92",
            "style": "IPY_MODEL_a9875fe96fd34fa1b0db2e154f5fc149",
            "tooltip": ""
          }
        },
        "9bacf44e67624a7fa0a734513f15da13": {
          "model_module": "@jupyter-widgets/base",
          "model_module_version": "1.2.0",
          "model_name": "LayoutModel",
          "state": {
            "_model_module": "@jupyter-widgets/base",
            "_model_module_version": "1.2.0",
            "_model_name": "LayoutModel",
            "_view_count": null,
            "_view_module": "@jupyter-widgets/base",
            "_view_module_version": "1.2.0",
            "_view_name": "LayoutView",
            "align_content": null,
            "align_items": null,
            "align_self": null,
            "border": null,
            "bottom": null,
            "display": null,
            "flex": null,
            "flex_flow": null,
            "grid_area": null,
            "grid_auto_columns": null,
            "grid_auto_flow": null,
            "grid_auto_rows": null,
            "grid_column": null,
            "grid_gap": null,
            "grid_row": null,
            "grid_template_areas": null,
            "grid_template_columns": null,
            "grid_template_rows": null,
            "height": null,
            "justify_content": null,
            "justify_items": null,
            "left": null,
            "margin": null,
            "max_height": null,
            "max_width": null,
            "min_height": null,
            "min_width": null,
            "object_fit": null,
            "object_position": null,
            "order": null,
            "overflow": null,
            "overflow_x": null,
            "overflow_y": null,
            "padding": null,
            "right": null,
            "top": null,
            "visibility": null,
            "width": null
          }
        },
        "9c70b773f1ab42bb8c533e078c8101d5": {
          "model_module": "@jupyter-widgets/controls",
          "model_module_version": "1.5.0",
          "model_name": "FloatSliderModel",
          "state": {
            "_dom_classes": [],
            "_model_module": "@jupyter-widgets/controls",
            "_model_module_version": "1.5.0",
            "_model_name": "FloatSliderModel",
            "_view_count": null,
            "_view_module": "@jupyter-widgets/controls",
            "_view_module_version": "1.5.0",
            "_view_name": "FloatSliderView",
            "continuous_update": false,
            "description": "Pausa:",
            "description_tooltip": "Defina a pausa (em segundos) de exibição entre as descrições instantâneas da simulação.",
            "disabled": false,
            "layout": "IPY_MODEL_bee08fb4f10242bbb2265bdb57ff55e1",
            "max": 3,
            "min": 0,
            "orientation": "horizontal",
            "readout": true,
            "readout_format": ".1f",
            "step": 0.1,
            "style": "IPY_MODEL_99215cb33cdd4182bdb41c1e4175436e",
            "value": 0.8
          }
        },
        "9d5673799c094dc8b268e3f7fef4be53": {
          "model_module": "@jupyter-widgets/controls",
          "model_module_version": "1.5.0",
          "model_name": "SliderStyleModel",
          "state": {
            "_model_module": "@jupyter-widgets/controls",
            "_model_module_version": "1.5.0",
            "_model_name": "SliderStyleModel",
            "_view_count": null,
            "_view_module": "@jupyter-widgets/base",
            "_view_module_version": "1.2.0",
            "_view_name": "StyleView",
            "description_width": "",
            "handle_color": null
          }
        },
        "9d80868478184c0b893d6692ed870e54": {
          "model_module": "@jupyter-widgets/controls",
          "model_module_version": "1.5.0",
          "model_name": "DescriptionStyleModel",
          "state": {
            "_model_module": "@jupyter-widgets/controls",
            "_model_module_version": "1.5.0",
            "_model_name": "DescriptionStyleModel",
            "_view_count": null,
            "_view_module": "@jupyter-widgets/base",
            "_view_module_version": "1.2.0",
            "_view_name": "StyleView",
            "description_width": ""
          }
        },
        "a281c3c7cca04259b11e00444d706cfa": {
          "model_module": "@jupyter-widgets/base",
          "model_module_version": "1.2.0",
          "model_name": "LayoutModel",
          "state": {
            "_model_module": "@jupyter-widgets/base",
            "_model_module_version": "1.2.0",
            "_model_name": "LayoutModel",
            "_view_count": null,
            "_view_module": "@jupyter-widgets/base",
            "_view_module_version": "1.2.0",
            "_view_name": "LayoutView",
            "align_content": null,
            "align_items": null,
            "align_self": null,
            "border": null,
            "bottom": null,
            "display": null,
            "flex": null,
            "flex_flow": null,
            "grid_area": null,
            "grid_auto_columns": null,
            "grid_auto_flow": null,
            "grid_auto_rows": null,
            "grid_column": null,
            "grid_gap": null,
            "grid_row": null,
            "grid_template_areas": null,
            "grid_template_columns": null,
            "grid_template_rows": null,
            "height": null,
            "justify_content": null,
            "justify_items": null,
            "left": null,
            "margin": null,
            "max_height": null,
            "max_width": null,
            "min_height": null,
            "min_width": null,
            "object_fit": null,
            "object_position": null,
            "order": null,
            "overflow": null,
            "overflow_x": null,
            "overflow_y": null,
            "padding": null,
            "right": null,
            "top": null,
            "visibility": null,
            "width": null
          }
        },
        "a34ec78b574a4fb79ff69a26aba13059": {
          "model_module": "@jupyter-widgets/controls",
          "model_module_version": "1.5.0",
          "model_name": "ButtonModel",
          "state": {
            "_dom_classes": [],
            "_model_module": "@jupyter-widgets/controls",
            "_model_module_version": "1.5.0",
            "_model_name": "ButtonModel",
            "_view_count": null,
            "_view_module": "@jupyter-widgets/controls",
            "_view_module_version": "1.5.0",
            "_view_name": "ButtonView",
            "button_style": "",
            "description": "Passo-a-Passo",
            "disabled": false,
            "icon": "",
            "layout": "IPY_MODEL_475e46d8b1c04b4a86b9d7b22cb37392",
            "style": "IPY_MODEL_6d8f30cfed8846898323c038f7c5ad97",
            "tooltip": ""
          }
        },
        "a3f28719f13543489ddffbd743a4a2d8": {
          "model_module": "@jupyter-widgets/controls",
          "model_module_version": "1.5.0",
          "model_name": "CheckboxModel",
          "state": {
            "_dom_classes": [],
            "_model_module": "@jupyter-widgets/controls",
            "_model_module_version": "1.5.0",
            "_model_name": "CheckboxModel",
            "_view_count": null,
            "_view_module": "@jupyter-widgets/controls",
            "_view_module_version": "1.5.0",
            "_view_name": "CheckboxView",
            "description": "Trace único",
            "description_tooltip": "Marque se você deseja visualizar um trace apenas",
            "disabled": false,
            "indent": true,
            "layout": "IPY_MODEL_0c4d7ffb73e84cdbba50d305f0703c7a",
            "style": "IPY_MODEL_ba69c4a9de794ae1aff6abbb83fd360a",
            "value": true
          }
        },
        "a628acac6cf44feb91e44346c83c7376": {
          "model_module": "@jupyter-widgets/controls",
          "model_module_version": "1.5.0",
          "model_name": "HBoxModel",
          "state": {
            "_dom_classes": [],
            "_model_module": "@jupyter-widgets/controls",
            "_model_module_version": "1.5.0",
            "_model_name": "HBoxModel",
            "_view_count": null,
            "_view_module": "@jupyter-widgets/controls",
            "_view_module_version": "1.5.0",
            "_view_name": "HBoxView",
            "box_style": "",
            "children": [
              "IPY_MODEL_430533a8200848c7af3068db4831c33a",
              "IPY_MODEL_9b28fbf18e8e4cf29b62e37298e1d19a"
            ],
            "layout": "IPY_MODEL_112cfb77454d47b7b577b4fe866ca1eb"
          }
        },
        "a63aaef3b97c4597a8ae8042586efece": {
          "model_module": "@jupyter-widgets/base",
          "model_module_version": "1.2.0",
          "model_name": "LayoutModel",
          "state": {
            "_model_module": "@jupyter-widgets/base",
            "_model_module_version": "1.2.0",
            "_model_name": "LayoutModel",
            "_view_count": null,
            "_view_module": "@jupyter-widgets/base",
            "_view_module_version": "1.2.0",
            "_view_name": "LayoutView",
            "align_content": null,
            "align_items": null,
            "align_self": null,
            "border": null,
            "bottom": null,
            "display": null,
            "flex": null,
            "flex_flow": null,
            "grid_area": null,
            "grid_auto_columns": null,
            "grid_auto_flow": null,
            "grid_auto_rows": null,
            "grid_column": null,
            "grid_gap": null,
            "grid_row": null,
            "grid_template_areas": null,
            "grid_template_columns": null,
            "grid_template_rows": null,
            "height": null,
            "justify_content": null,
            "justify_items": null,
            "left": null,
            "margin": null,
            "max_height": null,
            "max_width": null,
            "min_height": null,
            "min_width": null,
            "object_fit": null,
            "object_position": null,
            "order": null,
            "overflow": null,
            "overflow_x": null,
            "overflow_y": null,
            "padding": null,
            "right": null,
            "top": null,
            "visibility": null,
            "width": null
          }
        },
        "a7234b0e2165402b9229728b953a0928": {
          "model_module": "@jupyter-widgets/controls",
          "model_module_version": "1.5.0",
          "model_name": "SliderStyleModel",
          "state": {
            "_model_module": "@jupyter-widgets/controls",
            "_model_module_version": "1.5.0",
            "_model_name": "SliderStyleModel",
            "_view_count": null,
            "_view_module": "@jupyter-widgets/base",
            "_view_module_version": "1.2.0",
            "_view_name": "StyleView",
            "description_width": "",
            "handle_color": null
          }
        },
        "a8f6fb0d4fb04cb584059872960ef202": {
          "model_module": "@jupyter-widgets/controls",
          "model_module_version": "1.5.0",
          "model_name": "ButtonStyleModel",
          "state": {
            "_model_module": "@jupyter-widgets/controls",
            "_model_module_version": "1.5.0",
            "_model_name": "ButtonStyleModel",
            "_view_count": null,
            "_view_module": "@jupyter-widgets/base",
            "_view_module_version": "1.2.0",
            "_view_name": "StyleView",
            "button_color": null,
            "font_weight": ""
          }
        },
        "a92a0b25c8bd400aa50bef7a25ca3e13": {
          "model_module": "@jupyter-widgets/base",
          "model_module_version": "1.2.0",
          "model_name": "LayoutModel",
          "state": {
            "_model_module": "@jupyter-widgets/base",
            "_model_module_version": "1.2.0",
            "_model_name": "LayoutModel",
            "_view_count": null,
            "_view_module": "@jupyter-widgets/base",
            "_view_module_version": "1.2.0",
            "_view_name": "LayoutView",
            "align_content": null,
            "align_items": null,
            "align_self": null,
            "border": null,
            "bottom": null,
            "display": null,
            "flex": null,
            "flex_flow": null,
            "grid_area": null,
            "grid_auto_columns": null,
            "grid_auto_flow": null,
            "grid_auto_rows": null,
            "grid_column": null,
            "grid_gap": null,
            "grid_row": null,
            "grid_template_areas": null,
            "grid_template_columns": null,
            "grid_template_rows": null,
            "height": null,
            "justify_content": null,
            "justify_items": null,
            "left": null,
            "margin": null,
            "max_height": null,
            "max_width": null,
            "min_height": null,
            "min_width": null,
            "object_fit": null,
            "object_position": null,
            "order": null,
            "overflow": null,
            "overflow_x": null,
            "overflow_y": null,
            "padding": null,
            "right": null,
            "top": null,
            "visibility": null,
            "width": null
          }
        },
        "a9875fe96fd34fa1b0db2e154f5fc149": {
          "model_module": "@jupyter-widgets/controls",
          "model_module_version": "1.5.0",
          "model_name": "ButtonStyleModel",
          "state": {
            "_model_module": "@jupyter-widgets/controls",
            "_model_module_version": "1.5.0",
            "_model_name": "ButtonStyleModel",
            "_view_count": null,
            "_view_module": "@jupyter-widgets/base",
            "_view_module_version": "1.2.0",
            "_view_name": "StyleView",
            "button_color": null,
            "font_weight": ""
          }
        },
        "abdff2ab9546408db585cf55fb140d18": {
          "model_module": "@jupyter-widgets/controls",
          "model_module_version": "1.5.0",
          "model_name": "CheckboxModel",
          "state": {
            "_dom_classes": [],
            "_model_module": "@jupyter-widgets/controls",
            "_model_module_version": "1.5.0",
            "_model_name": "CheckboxModel",
            "_view_count": null,
            "_view_module": "@jupyter-widgets/controls",
            "_view_module_version": "1.5.0",
            "_view_name": "CheckboxView",
            "description": "Trace único",
            "description_tooltip": "Marque se você deseja visualizar um trace apenas",
            "disabled": false,
            "indent": true,
            "layout": "IPY_MODEL_74bfc76e750e481983975502ecfaf86a",
            "style": "IPY_MODEL_68103f0731574f92a51a0d79c06bc515",
            "value": true
          }
        },
        "ac90c076a2c647c19d679e19b3b00aed": {
          "model_module": "@jupyter-widgets/controls",
          "model_module_version": "1.5.0",
          "model_name": "DescriptionStyleModel",
          "state": {
            "_model_module": "@jupyter-widgets/controls",
            "_model_module_version": "1.5.0",
            "_model_name": "DescriptionStyleModel",
            "_view_count": null,
            "_view_module": "@jupyter-widgets/base",
            "_view_module_version": "1.2.0",
            "_view_name": "StyleView",
            "description_width": ""
          }
        },
        "ae2fda0ba52d40b4991039006e6e65d4": {
          "model_module": "@jupyter-widgets/controls",
          "model_module_version": "1.5.0",
          "model_name": "DescriptionStyleModel",
          "state": {
            "_model_module": "@jupyter-widgets/controls",
            "_model_module_version": "1.5.0",
            "_model_name": "DescriptionStyleModel",
            "_view_count": null,
            "_view_module": "@jupyter-widgets/base",
            "_view_module_version": "1.2.0",
            "_view_name": "StyleView",
            "description_width": ""
          }
        },
        "ae3823a8999c4598a063038bb87da802": {
          "model_module": "@jupyter-widgets/base",
          "model_module_version": "1.2.0",
          "model_name": "LayoutModel",
          "state": {
            "_model_module": "@jupyter-widgets/base",
            "_model_module_version": "1.2.0",
            "_model_name": "LayoutModel",
            "_view_count": null,
            "_view_module": "@jupyter-widgets/base",
            "_view_module_version": "1.2.0",
            "_view_name": "LayoutView",
            "align_content": null,
            "align_items": null,
            "align_self": null,
            "border": null,
            "bottom": null,
            "display": null,
            "flex": null,
            "flex_flow": null,
            "grid_area": null,
            "grid_auto_columns": null,
            "grid_auto_flow": null,
            "grid_auto_rows": null,
            "grid_column": null,
            "grid_gap": null,
            "grid_row": null,
            "grid_template_areas": null,
            "grid_template_columns": null,
            "grid_template_rows": null,
            "height": null,
            "justify_content": null,
            "justify_items": null,
            "left": null,
            "margin": null,
            "max_height": null,
            "max_width": null,
            "min_height": null,
            "min_width": null,
            "object_fit": null,
            "object_position": null,
            "order": null,
            "overflow": null,
            "overflow_x": null,
            "overflow_y": null,
            "padding": null,
            "right": null,
            "top": null,
            "visibility": null,
            "width": null
          }
        },
        "aea3041a57e041d09884576f1db4292e": {
          "model_module": "@jupyter-widgets/controls",
          "model_module_version": "1.5.0",
          "model_name": "ButtonStyleModel",
          "state": {
            "_model_module": "@jupyter-widgets/controls",
            "_model_module_version": "1.5.0",
            "_model_name": "ButtonStyleModel",
            "_view_count": null,
            "_view_module": "@jupyter-widgets/base",
            "_view_module_version": "1.2.0",
            "_view_name": "StyleView",
            "button_color": null,
            "font_weight": ""
          }
        },
        "afbd127ca19642778e8ce9408ef0496e": {
          "model_module": "@jupyter-widgets/controls",
          "model_module_version": "1.5.0",
          "model_name": "DescriptionStyleModel",
          "state": {
            "_model_module": "@jupyter-widgets/controls",
            "_model_module_version": "1.5.0",
            "_model_name": "DescriptionStyleModel",
            "_view_count": null,
            "_view_module": "@jupyter-widgets/base",
            "_view_module_version": "1.2.0",
            "_view_name": "StyleView",
            "description_width": ""
          }
        },
        "b30de80fc8004a97a0f2de1187fdf3e4": {
          "model_module": "@jupyter-widgets/base",
          "model_module_version": "1.2.0",
          "model_name": "LayoutModel",
          "state": {
            "_model_module": "@jupyter-widgets/base",
            "_model_module_version": "1.2.0",
            "_model_name": "LayoutModel",
            "_view_count": null,
            "_view_module": "@jupyter-widgets/base",
            "_view_module_version": "1.2.0",
            "_view_name": "LayoutView",
            "align_content": null,
            "align_items": null,
            "align_self": null,
            "border": null,
            "bottom": null,
            "display": null,
            "flex": null,
            "flex_flow": null,
            "grid_area": null,
            "grid_auto_columns": null,
            "grid_auto_flow": null,
            "grid_auto_rows": null,
            "grid_column": null,
            "grid_gap": null,
            "grid_row": null,
            "grid_template_areas": null,
            "grid_template_columns": null,
            "grid_template_rows": null,
            "height": null,
            "justify_content": null,
            "justify_items": null,
            "left": null,
            "margin": null,
            "max_height": null,
            "max_width": null,
            "min_height": null,
            "min_width": null,
            "object_fit": null,
            "object_position": null,
            "order": null,
            "overflow": null,
            "overflow_x": null,
            "overflow_y": null,
            "padding": null,
            "right": null,
            "top": null,
            "visibility": null,
            "width": null
          }
        },
        "b5404edee58d4bc4addb064991cf25f7": {
          "model_module": "@jupyter-widgets/base",
          "model_module_version": "1.2.0",
          "model_name": "LayoutModel",
          "state": {
            "_model_module": "@jupyter-widgets/base",
            "_model_module_version": "1.2.0",
            "_model_name": "LayoutModel",
            "_view_count": null,
            "_view_module": "@jupyter-widgets/base",
            "_view_module_version": "1.2.0",
            "_view_name": "LayoutView",
            "align_content": null,
            "align_items": null,
            "align_self": null,
            "border": null,
            "bottom": null,
            "display": null,
            "flex": null,
            "flex_flow": null,
            "grid_area": null,
            "grid_auto_columns": null,
            "grid_auto_flow": null,
            "grid_auto_rows": null,
            "grid_column": null,
            "grid_gap": null,
            "grid_row": null,
            "grid_template_areas": null,
            "grid_template_columns": null,
            "grid_template_rows": null,
            "height": null,
            "justify_content": null,
            "justify_items": null,
            "left": null,
            "margin": null,
            "max_height": null,
            "max_width": null,
            "min_height": null,
            "min_width": null,
            "object_fit": null,
            "object_position": null,
            "order": null,
            "overflow": null,
            "overflow_x": null,
            "overflow_y": null,
            "padding": null,
            "right": null,
            "top": null,
            "visibility": null,
            "width": null
          }
        },
        "b953bf9759ed4cdfbc7076723a904d86": {
          "model_module": "@jupyter-widgets/base",
          "model_module_version": "1.2.0",
          "model_name": "LayoutModel",
          "state": {
            "_model_module": "@jupyter-widgets/base",
            "_model_module_version": "1.2.0",
            "_model_name": "LayoutModel",
            "_view_count": null,
            "_view_module": "@jupyter-widgets/base",
            "_view_module_version": "1.2.0",
            "_view_name": "LayoutView",
            "align_content": null,
            "align_items": null,
            "align_self": null,
            "border": null,
            "bottom": null,
            "display": null,
            "flex": null,
            "flex_flow": null,
            "grid_area": null,
            "grid_auto_columns": null,
            "grid_auto_flow": null,
            "grid_auto_rows": null,
            "grid_column": null,
            "grid_gap": null,
            "grid_row": null,
            "grid_template_areas": null,
            "grid_template_columns": null,
            "grid_template_rows": null,
            "height": null,
            "justify_content": null,
            "justify_items": null,
            "left": null,
            "margin": null,
            "max_height": null,
            "max_width": null,
            "min_height": null,
            "min_width": null,
            "object_fit": null,
            "object_position": null,
            "order": null,
            "overflow": null,
            "overflow_x": null,
            "overflow_y": null,
            "padding": null,
            "right": null,
            "top": null,
            "visibility": null,
            "width": null
          }
        },
        "ba69c4a9de794ae1aff6abbb83fd360a": {
          "model_module": "@jupyter-widgets/controls",
          "model_module_version": "1.5.0",
          "model_name": "DescriptionStyleModel",
          "state": {
            "_model_module": "@jupyter-widgets/controls",
            "_model_module_version": "1.5.0",
            "_model_name": "DescriptionStyleModel",
            "_view_count": null,
            "_view_module": "@jupyter-widgets/base",
            "_view_module_version": "1.2.0",
            "_view_name": "StyleView",
            "description_width": ""
          }
        },
        "bc7a46a1aa4a47dbb9071f4badebf469": {
          "model_module": "@jupyter-widgets/base",
          "model_module_version": "1.2.0",
          "model_name": "LayoutModel",
          "state": {
            "_model_module": "@jupyter-widgets/base",
            "_model_module_version": "1.2.0",
            "_model_name": "LayoutModel",
            "_view_count": null,
            "_view_module": "@jupyter-widgets/base",
            "_view_module_version": "1.2.0",
            "_view_name": "LayoutView",
            "align_content": null,
            "align_items": null,
            "align_self": null,
            "border": null,
            "bottom": null,
            "display": null,
            "flex": null,
            "flex_flow": null,
            "grid_area": null,
            "grid_auto_columns": null,
            "grid_auto_flow": null,
            "grid_auto_rows": null,
            "grid_column": null,
            "grid_gap": null,
            "grid_row": null,
            "grid_template_areas": null,
            "grid_template_columns": null,
            "grid_template_rows": null,
            "height": null,
            "justify_content": null,
            "justify_items": null,
            "left": null,
            "margin": null,
            "max_height": null,
            "max_width": null,
            "min_height": null,
            "min_width": null,
            "object_fit": null,
            "object_position": null,
            "order": null,
            "overflow": null,
            "overflow_x": null,
            "overflow_y": null,
            "padding": null,
            "right": null,
            "top": null,
            "visibility": null,
            "width": null
          }
        },
        "bee08fb4f10242bbb2265bdb57ff55e1": {
          "model_module": "@jupyter-widgets/base",
          "model_module_version": "1.2.0",
          "model_name": "LayoutModel",
          "state": {
            "_model_module": "@jupyter-widgets/base",
            "_model_module_version": "1.2.0",
            "_model_name": "LayoutModel",
            "_view_count": null,
            "_view_module": "@jupyter-widgets/base",
            "_view_module_version": "1.2.0",
            "_view_name": "LayoutView",
            "align_content": null,
            "align_items": null,
            "align_self": null,
            "border": null,
            "bottom": null,
            "display": null,
            "flex": null,
            "flex_flow": null,
            "grid_area": null,
            "grid_auto_columns": null,
            "grid_auto_flow": null,
            "grid_auto_rows": null,
            "grid_column": null,
            "grid_gap": null,
            "grid_row": null,
            "grid_template_areas": null,
            "grid_template_columns": null,
            "grid_template_rows": null,
            "height": null,
            "justify_content": null,
            "justify_items": null,
            "left": null,
            "margin": null,
            "max_height": null,
            "max_width": null,
            "min_height": null,
            "min_width": null,
            "object_fit": null,
            "object_position": null,
            "order": null,
            "overflow": null,
            "overflow_x": null,
            "overflow_y": null,
            "padding": null,
            "right": null,
            "top": null,
            "visibility": null,
            "width": null
          }
        },
        "c513a0de769b47b6ae1f06facead85e0": {
          "model_module": "@jupyter-widgets/controls",
          "model_module_version": "1.5.0",
          "model_name": "ButtonStyleModel",
          "state": {
            "_model_module": "@jupyter-widgets/controls",
            "_model_module_version": "1.5.0",
            "_model_name": "ButtonStyleModel",
            "_view_count": null,
            "_view_module": "@jupyter-widgets/base",
            "_view_module_version": "1.2.0",
            "_view_name": "StyleView",
            "button_color": null,
            "font_weight": ""
          }
        },
        "c6da6313d8e4469b8aca58a81f5f0f40": {
          "model_module": "@jupyter-widgets/controls",
          "model_module_version": "1.5.0",
          "model_name": "CheckboxModel",
          "state": {
            "_dom_classes": [],
            "_model_module": "@jupyter-widgets/controls",
            "_model_module_version": "1.5.0",
            "_model_name": "CheckboxModel",
            "_view_count": null,
            "_view_module": "@jupyter-widgets/controls",
            "_view_module_version": "1.5.0",
            "_view_name": "CheckboxView",
            "description": "Trace único",
            "description_tooltip": "Marque se você deseja visualizar um trace apenas",
            "disabled": false,
            "indent": true,
            "layout": "IPY_MODEL_5b11df28d147469e90349fa9a2831d9b",
            "style": "IPY_MODEL_0c4d99f8eb5c41bd9b2a16811fb2cad3",
            "value": true
          }
        },
        "c719b722dab44245a89dd4adf4fca79e": {
          "model_module": "@jupyter-widgets/controls",
          "model_module_version": "1.5.0",
          "model_name": "FloatSliderModel",
          "state": {
            "_dom_classes": [],
            "_model_module": "@jupyter-widgets/controls",
            "_model_module_version": "1.5.0",
            "_model_name": "FloatSliderModel",
            "_view_count": null,
            "_view_module": "@jupyter-widgets/controls",
            "_view_module_version": "1.5.0",
            "_view_name": "FloatSliderView",
            "continuous_update": false,
            "description": "Pausa:",
            "description_tooltip": "Defina a pausa (em segundos) de exibição entre as descrições instantâneas da simulação.",
            "disabled": false,
            "layout": "IPY_MODEL_2f143b33628f498486ad9cbde8a46fdd",
            "max": 3,
            "min": 0,
            "orientation": "horizontal",
            "readout": true,
            "readout_format": ".1f",
            "step": 0.1,
            "style": "IPY_MODEL_eb0c9b5ec5f14476b2ecf7fd866eb705",
            "value": 0.8
          }
        },
        "cb1a75a3d45942c699cc6fae7a960038": {
          "model_module": "@jupyter-widgets/controls",
          "model_module_version": "1.5.0",
          "model_name": "ButtonModel",
          "state": {
            "_dom_classes": [],
            "_model_module": "@jupyter-widgets/controls",
            "_model_module_version": "1.5.0",
            "_model_name": "ButtonModel",
            "_view_count": null,
            "_view_module": "@jupyter-widgets/controls",
            "_view_module_version": "1.5.0",
            "_view_name": "ButtonView",
            "button_style": "",
            "description": "Simular",
            "disabled": false,
            "icon": "",
            "layout": "IPY_MODEL_8e8163aaed664d9a8174d54c8857b5b3",
            "style": "IPY_MODEL_eae3164e0c254183b6908f03c23ca46d",
            "tooltip": ""
          }
        },
        "ce5c10b676734260bc20db39184a9326": {
          "model_module": "@jupyter-widgets/controls",
          "model_module_version": "1.5.0",
          "model_name": "HBoxModel",
          "state": {
            "_dom_classes": [],
            "_model_module": "@jupyter-widgets/controls",
            "_model_module_version": "1.5.0",
            "_model_name": "HBoxModel",
            "_view_count": null,
            "_view_module": "@jupyter-widgets/controls",
            "_view_module_version": "1.5.0",
            "_view_name": "HBoxView",
            "box_style": "",
            "children": [
              "IPY_MODEL_53318ba76a0d4b5cab6a6ae84ad4c5fb",
              "IPY_MODEL_08248a33b8484450ab99ad0a0f2e37e8"
            ],
            "layout": "IPY_MODEL_0164988bd5294b65b98e5228b91d7d44"
          }
        },
        "ceccdb4c02914878ab1a9b50b2e74ecf": {
          "model_module": "@jupyter-widgets/controls",
          "model_module_version": "1.5.0",
          "model_name": "FloatSliderModel",
          "state": {
            "_dom_classes": [],
            "_model_module": "@jupyter-widgets/controls",
            "_model_module_version": "1.5.0",
            "_model_name": "FloatSliderModel",
            "_view_count": null,
            "_view_module": "@jupyter-widgets/controls",
            "_view_module_version": "1.5.0",
            "_view_name": "FloatSliderView",
            "continuous_update": false,
            "description": "Pausa:",
            "description_tooltip": "Defina a pausa (em segundos) de exibição entre as descrições instantâneas da simulação.",
            "disabled": false,
            "layout": "IPY_MODEL_5b39ea045c0548a5b6d9af9c7eb35804",
            "max": 3,
            "min": 0,
            "orientation": "horizontal",
            "readout": true,
            "readout_format": ".1f",
            "step": 0.1,
            "style": "IPY_MODEL_5cc9a45b6c9a48199267f9591d56747a",
            "value": 0.8
          }
        },
        "cfc659f578444f7ebcf0b9b3fddf5be6": {
          "model_module": "@jupyter-widgets/base",
          "model_module_version": "1.2.0",
          "model_name": "LayoutModel",
          "state": {
            "_model_module": "@jupyter-widgets/base",
            "_model_module_version": "1.2.0",
            "_model_name": "LayoutModel",
            "_view_count": null,
            "_view_module": "@jupyter-widgets/base",
            "_view_module_version": "1.2.0",
            "_view_name": "LayoutView",
            "align_content": null,
            "align_items": null,
            "align_self": null,
            "border": null,
            "bottom": null,
            "display": null,
            "flex": null,
            "flex_flow": null,
            "grid_area": null,
            "grid_auto_columns": null,
            "grid_auto_flow": null,
            "grid_auto_rows": null,
            "grid_column": null,
            "grid_gap": null,
            "grid_row": null,
            "grid_template_areas": null,
            "grid_template_columns": null,
            "grid_template_rows": null,
            "height": null,
            "justify_content": null,
            "justify_items": null,
            "left": null,
            "margin": null,
            "max_height": null,
            "max_width": null,
            "min_height": null,
            "min_width": null,
            "object_fit": null,
            "object_position": null,
            "order": null,
            "overflow": null,
            "overflow_x": null,
            "overflow_y": null,
            "padding": null,
            "right": null,
            "top": null,
            "visibility": null,
            "width": null
          }
        },
        "d12196804e3f4370a15d1972b6c32423": {
          "model_module": "@jupyter-widgets/controls",
          "model_module_version": "1.5.0",
          "model_name": "ButtonStyleModel",
          "state": {
            "_model_module": "@jupyter-widgets/controls",
            "_model_module_version": "1.5.0",
            "_model_name": "ButtonStyleModel",
            "_view_count": null,
            "_view_module": "@jupyter-widgets/base",
            "_view_module_version": "1.2.0",
            "_view_name": "StyleView",
            "button_color": null,
            "font_weight": ""
          }
        },
        "dadc6a2e937546af86e32ab018a4e1be": {
          "model_module": "@jupyter-widgets/controls",
          "model_module_version": "1.5.0",
          "model_name": "ButtonStyleModel",
          "state": {
            "_model_module": "@jupyter-widgets/controls",
            "_model_module_version": "1.5.0",
            "_model_name": "ButtonStyleModel",
            "_view_count": null,
            "_view_module": "@jupyter-widgets/base",
            "_view_module_version": "1.2.0",
            "_view_name": "StyleView",
            "button_color": null,
            "font_weight": ""
          }
        },
        "dccb181b706e45e3a7c17c63988b56bf": {
          "model_module": "@jupyter-widgets/controls",
          "model_module_version": "1.5.0",
          "model_name": "HBoxModel",
          "state": {
            "_dom_classes": [],
            "_model_module": "@jupyter-widgets/controls",
            "_model_module_version": "1.5.0",
            "_model_name": "HBoxModel",
            "_view_count": null,
            "_view_module": "@jupyter-widgets/controls",
            "_view_module_version": "1.5.0",
            "_view_name": "HBoxView",
            "box_style": "",
            "children": [
              "IPY_MODEL_f3d4c843422249ebab48d79bc7ab5f1c",
              "IPY_MODEL_cb1a75a3d45942c699cc6fae7a960038",
              "IPY_MODEL_13f8b207899b471483555f20bf7360ad"
            ],
            "layout": "IPY_MODEL_26fe2cbf287745c4930c616a4c6c5349"
          }
        },
        "dd78f83adfa346859f29cb6ae00e206d": {
          "model_module": "@jupyter-widgets/controls",
          "model_module_version": "1.5.0",
          "model_name": "ButtonStyleModel",
          "state": {
            "_model_module": "@jupyter-widgets/controls",
            "_model_module_version": "1.5.0",
            "_model_name": "ButtonStyleModel",
            "_view_count": null,
            "_view_module": "@jupyter-widgets/base",
            "_view_module_version": "1.2.0",
            "_view_name": "StyleView",
            "button_color": null,
            "font_weight": ""
          }
        },
        "deadd8c6138f423fa421b002ee95832a": {
          "model_module": "@jupyter-widgets/controls",
          "model_module_version": "1.5.0",
          "model_name": "ButtonModel",
          "state": {
            "_dom_classes": [],
            "_model_module": "@jupyter-widgets/controls",
            "_model_module_version": "1.5.0",
            "_model_name": "ButtonModel",
            "_view_count": null,
            "_view_module": "@jupyter-widgets/controls",
            "_view_module_version": "1.5.0",
            "_view_name": "ButtonView",
            "button_style": "",
            "description": "Limpar",
            "disabled": false,
            "icon": "",
            "layout": "IPY_MODEL_623162c751a0464c81965bf612423882",
            "style": "IPY_MODEL_36306957f1cf4a02a52bf022a48bd969",
            "tooltip": ""
          }
        },
        "e04583d2af5742e791554b25adc5c2d2": {
          "model_module": "@jupyter-widgets/output",
          "model_module_version": "1.0.0",
          "model_name": "OutputModel",
          "state": {
            "_dom_classes": [],
            "_model_module": "@jupyter-widgets/output",
            "_model_module_version": "1.0.0",
            "_model_name": "OutputModel",
            "_view_count": null,
            "_view_module": "@jupyter-widgets/output",
            "_view_module_version": "1.0.0",
            "_view_name": "OutputView",
            "layout": "IPY_MODEL_3150b3df7c284b718ebecd41c817ab8c",
            "msg_id": "",
            "outputs": []
          }
        },
        "e1d7035afe9649bbad4c7919510405d2": {
          "model_module": "@jupyter-widgets/base",
          "model_module_version": "1.2.0",
          "model_name": "LayoutModel",
          "state": {
            "_model_module": "@jupyter-widgets/base",
            "_model_module_version": "1.2.0",
            "_model_name": "LayoutModel",
            "_view_count": null,
            "_view_module": "@jupyter-widgets/base",
            "_view_module_version": "1.2.0",
            "_view_name": "LayoutView",
            "align_content": null,
            "align_items": null,
            "align_self": null,
            "border": null,
            "bottom": null,
            "display": null,
            "flex": null,
            "flex_flow": null,
            "grid_area": null,
            "grid_auto_columns": null,
            "grid_auto_flow": null,
            "grid_auto_rows": null,
            "grid_column": null,
            "grid_gap": null,
            "grid_row": null,
            "grid_template_areas": null,
            "grid_template_columns": null,
            "grid_template_rows": null,
            "height": null,
            "justify_content": null,
            "justify_items": null,
            "left": null,
            "margin": null,
            "max_height": null,
            "max_width": null,
            "min_height": null,
            "min_width": null,
            "object_fit": null,
            "object_position": null,
            "order": null,
            "overflow": null,
            "overflow_x": null,
            "overflow_y": null,
            "padding": null,
            "right": null,
            "top": null,
            "visibility": null,
            "width": null
          }
        },
        "e28ec2781d8d42fdace8ca9fa6710c0f": {
          "model_module": "@jupyter-widgets/base",
          "model_module_version": "1.2.0",
          "model_name": "LayoutModel",
          "state": {
            "_model_module": "@jupyter-widgets/base",
            "_model_module_version": "1.2.0",
            "_model_name": "LayoutModel",
            "_view_count": null,
            "_view_module": "@jupyter-widgets/base",
            "_view_module_version": "1.2.0",
            "_view_name": "LayoutView",
            "align_content": null,
            "align_items": null,
            "align_self": null,
            "border": null,
            "bottom": null,
            "display": null,
            "flex": null,
            "flex_flow": null,
            "grid_area": null,
            "grid_auto_columns": null,
            "grid_auto_flow": null,
            "grid_auto_rows": null,
            "grid_column": null,
            "grid_gap": null,
            "grid_row": null,
            "grid_template_areas": null,
            "grid_template_columns": null,
            "grid_template_rows": null,
            "height": null,
            "justify_content": null,
            "justify_items": null,
            "left": null,
            "margin": null,
            "max_height": null,
            "max_width": null,
            "min_height": null,
            "min_width": null,
            "object_fit": null,
            "object_position": null,
            "order": null,
            "overflow": null,
            "overflow_x": null,
            "overflow_y": null,
            "padding": null,
            "right": null,
            "top": null,
            "visibility": null,
            "width": null
          }
        },
        "e40d4272e6eb4f27951af2a33c68a388": {
          "model_module": "@jupyter-widgets/base",
          "model_module_version": "1.2.0",
          "model_name": "LayoutModel",
          "state": {
            "_model_module": "@jupyter-widgets/base",
            "_model_module_version": "1.2.0",
            "_model_name": "LayoutModel",
            "_view_count": null,
            "_view_module": "@jupyter-widgets/base",
            "_view_module_version": "1.2.0",
            "_view_name": "LayoutView",
            "align_content": null,
            "align_items": null,
            "align_self": null,
            "border": null,
            "bottom": null,
            "display": null,
            "flex": null,
            "flex_flow": null,
            "grid_area": null,
            "grid_auto_columns": null,
            "grid_auto_flow": null,
            "grid_auto_rows": null,
            "grid_column": null,
            "grid_gap": null,
            "grid_row": null,
            "grid_template_areas": null,
            "grid_template_columns": null,
            "grid_template_rows": null,
            "height": null,
            "justify_content": null,
            "justify_items": null,
            "left": null,
            "margin": null,
            "max_height": null,
            "max_width": null,
            "min_height": null,
            "min_width": null,
            "object_fit": null,
            "object_position": null,
            "order": null,
            "overflow": null,
            "overflow_x": null,
            "overflow_y": null,
            "padding": null,
            "right": null,
            "top": null,
            "visibility": null,
            "width": null
          }
        },
        "e41dce5b152040f18f207e63369cf403": {
          "model_module": "@jupyter-widgets/base",
          "model_module_version": "1.2.0",
          "model_name": "LayoutModel",
          "state": {
            "_model_module": "@jupyter-widgets/base",
            "_model_module_version": "1.2.0",
            "_model_name": "LayoutModel",
            "_view_count": null,
            "_view_module": "@jupyter-widgets/base",
            "_view_module_version": "1.2.0",
            "_view_name": "LayoutView",
            "align_content": null,
            "align_items": null,
            "align_self": null,
            "border": null,
            "bottom": null,
            "display": null,
            "flex": null,
            "flex_flow": null,
            "grid_area": null,
            "grid_auto_columns": null,
            "grid_auto_flow": null,
            "grid_auto_rows": null,
            "grid_column": null,
            "grid_gap": null,
            "grid_row": null,
            "grid_template_areas": null,
            "grid_template_columns": null,
            "grid_template_rows": null,
            "height": null,
            "justify_content": null,
            "justify_items": null,
            "left": null,
            "margin": null,
            "max_height": null,
            "max_width": null,
            "min_height": null,
            "min_width": null,
            "object_fit": null,
            "object_position": null,
            "order": null,
            "overflow": null,
            "overflow_x": null,
            "overflow_y": null,
            "padding": null,
            "right": null,
            "top": null,
            "visibility": null,
            "width": null
          }
        },
        "e42cc626f1bf4358923d889886d9e711": {
          "model_module": "@jupyter-widgets/output",
          "model_module_version": "1.0.0",
          "model_name": "OutputModel",
          "state": {
            "_dom_classes": [],
            "_model_module": "@jupyter-widgets/output",
            "_model_module_version": "1.0.0",
            "_model_name": "OutputModel",
            "_view_count": null,
            "_view_module": "@jupyter-widgets/output",
            "_view_module_version": "1.0.0",
            "_view_name": "OutputView",
            "layout": "IPY_MODEL_a281c3c7cca04259b11e00444d706cfa",
            "msg_id": "",
            "outputs": []
          }
        },
        "e78a160c6e924514ab758b144a0a9300": {
          "model_module": "@jupyter-widgets/controls",
          "model_module_version": "1.5.0",
          "model_name": "ButtonModel",
          "state": {
            "_dom_classes": [],
            "_model_module": "@jupyter-widgets/controls",
            "_model_module_version": "1.5.0",
            "_model_name": "ButtonModel",
            "_view_count": null,
            "_view_module": "@jupyter-widgets/controls",
            "_view_module_version": "1.5.0",
            "_view_name": "ButtonView",
            "button_style": "",
            "description": "Passo-a-Passo",
            "disabled": false,
            "icon": "",
            "layout": "IPY_MODEL_bc7a46a1aa4a47dbb9071f4badebf469",
            "style": "IPY_MODEL_1eaab8fdcdd341f982d1095b02de991a",
            "tooltip": ""
          }
        },
        "e7b20e2b2d914ec2a237eba595f9d1a1": {
          "model_module": "@jupyter-widgets/controls",
          "model_module_version": "1.5.0",
          "model_name": "ButtonStyleModel",
          "state": {
            "_model_module": "@jupyter-widgets/controls",
            "_model_module_version": "1.5.0",
            "_model_name": "ButtonStyleModel",
            "_view_count": null,
            "_view_module": "@jupyter-widgets/base",
            "_view_module_version": "1.2.0",
            "_view_name": "StyleView",
            "button_color": null,
            "font_weight": ""
          }
        },
        "eae3164e0c254183b6908f03c23ca46d": {
          "model_module": "@jupyter-widgets/controls",
          "model_module_version": "1.5.0",
          "model_name": "ButtonStyleModel",
          "state": {
            "_model_module": "@jupyter-widgets/controls",
            "_model_module_version": "1.5.0",
            "_model_name": "ButtonStyleModel",
            "_view_count": null,
            "_view_module": "@jupyter-widgets/base",
            "_view_module_version": "1.2.0",
            "_view_name": "StyleView",
            "button_color": null,
            "font_weight": ""
          }
        },
        "eb0c9b5ec5f14476b2ecf7fd866eb705": {
          "model_module": "@jupyter-widgets/controls",
          "model_module_version": "1.5.0",
          "model_name": "SliderStyleModel",
          "state": {
            "_model_module": "@jupyter-widgets/controls",
            "_model_module_version": "1.5.0",
            "_model_name": "SliderStyleModel",
            "_view_count": null,
            "_view_module": "@jupyter-widgets/base",
            "_view_module_version": "1.2.0",
            "_view_name": "StyleView",
            "description_width": "",
            "handle_color": null
          }
        },
        "ec5710b66a1a449e80310859ec93162d": {
          "model_module": "@jupyter-widgets/controls",
          "model_module_version": "1.5.0",
          "model_name": "FloatSliderModel",
          "state": {
            "_dom_classes": [],
            "_model_module": "@jupyter-widgets/controls",
            "_model_module_version": "1.5.0",
            "_model_name": "FloatSliderModel",
            "_view_count": null,
            "_view_module": "@jupyter-widgets/controls",
            "_view_module_version": "1.5.0",
            "_view_name": "FloatSliderView",
            "continuous_update": false,
            "description": "Pausa:",
            "description_tooltip": "Defina a pausa (em segundos) de exibição entre as descrições instantâneas da simulação.",
            "disabled": false,
            "layout": "IPY_MODEL_b30de80fc8004a97a0f2de1187fdf3e4",
            "max": 3,
            "min": 0,
            "orientation": "horizontal",
            "readout": true,
            "readout_format": ".1f",
            "step": 0.1,
            "style": "IPY_MODEL_a7234b0e2165402b9229728b953a0928",
            "value": 0.8
          }
        },
        "ed84de455eea4aefbced2d6ec42d5159": {
          "model_module": "@jupyter-widgets/base",
          "model_module_version": "1.2.0",
          "model_name": "LayoutModel",
          "state": {
            "_model_module": "@jupyter-widgets/base",
            "_model_module_version": "1.2.0",
            "_model_name": "LayoutModel",
            "_view_count": null,
            "_view_module": "@jupyter-widgets/base",
            "_view_module_version": "1.2.0",
            "_view_name": "LayoutView",
            "align_content": null,
            "align_items": null,
            "align_self": null,
            "border": null,
            "bottom": null,
            "display": null,
            "flex": null,
            "flex_flow": null,
            "grid_area": null,
            "grid_auto_columns": null,
            "grid_auto_flow": null,
            "grid_auto_rows": null,
            "grid_column": null,
            "grid_gap": null,
            "grid_row": null,
            "grid_template_areas": null,
            "grid_template_columns": null,
            "grid_template_rows": null,
            "height": null,
            "justify_content": null,
            "justify_items": null,
            "left": null,
            "margin": null,
            "max_height": null,
            "max_width": null,
            "min_height": null,
            "min_width": null,
            "object_fit": null,
            "object_position": null,
            "order": null,
            "overflow": null,
            "overflow_x": null,
            "overflow_y": null,
            "padding": null,
            "right": null,
            "top": null,
            "visibility": null,
            "width": "750px"
          }
        },
        "f2a5d55e0ecb482bb1b8e4738ef14356": {
          "model_module": "@jupyter-widgets/controls",
          "model_module_version": "1.5.0",
          "model_name": "ButtonModel",
          "state": {
            "_dom_classes": [],
            "_model_module": "@jupyter-widgets/controls",
            "_model_module_version": "1.5.0",
            "_model_name": "ButtonModel",
            "_view_count": null,
            "_view_module": "@jupyter-widgets/controls",
            "_view_module_version": "1.5.0",
            "_view_name": "ButtonView",
            "button_style": "",
            "description": "Passo-a-Passo",
            "disabled": false,
            "icon": "",
            "layout": "IPY_MODEL_fbe00661e3d444b984a10d0d83024b6b",
            "style": "IPY_MODEL_8f9cf27085d148a789d5663126fe3c04",
            "tooltip": ""
          }
        },
        "f3d4c843422249ebab48d79bc7ab5f1c": {
          "model_module": "@jupyter-widgets/controls",
          "model_module_version": "1.5.0",
          "model_name": "ButtonModel",
          "state": {
            "_dom_classes": [],
            "_model_module": "@jupyter-widgets/controls",
            "_model_module_version": "1.5.0",
            "_model_name": "ButtonModel",
            "_view_count": null,
            "_view_module": "@jupyter-widgets/controls",
            "_view_module_version": "1.5.0",
            "_view_name": "ButtonView",
            "button_style": "",
            "description": "Passo-a-Passo",
            "disabled": false,
            "icon": "",
            "layout": "IPY_MODEL_6da9ef3889c243e0b26b4e649af3a7dd",
            "style": "IPY_MODEL_1b71e9d2f7ae43e98410cb569dc6f4ca",
            "tooltip": ""
          }
        },
        "f3e7df4477f2489d8e0c4553b48ad4f4": {
          "model_module": "@jupyter-widgets/output",
          "model_module_version": "1.0.0",
          "model_name": "OutputModel",
          "state": {
            "_dom_classes": [],
            "_model_module": "@jupyter-widgets/output",
            "_model_module_version": "1.0.0",
            "_model_name": "OutputModel",
            "_view_count": null,
            "_view_module": "@jupyter-widgets/output",
            "_view_module_version": "1.0.0",
            "_view_name": "OutputView",
            "layout": "IPY_MODEL_2d95f78541624a4fa620ae06c61f3477",
            "msg_id": "",
            "outputs": []
          }
        },
        "f65617dece1e413aa2309fa90e8761fc": {
          "model_module": "@jupyter-widgets/controls",
          "model_module_version": "1.5.0",
          "model_name": "ButtonModel",
          "state": {
            "_dom_classes": [],
            "_model_module": "@jupyter-widgets/controls",
            "_model_module_version": "1.5.0",
            "_model_name": "ButtonModel",
            "_view_count": null,
            "_view_module": "@jupyter-widgets/controls",
            "_view_module_version": "1.5.0",
            "_view_name": "ButtonView",
            "button_style": "",
            "description": "Simular",
            "disabled": false,
            "icon": "",
            "layout": "IPY_MODEL_a63aaef3b97c4597a8ae8042586efece",
            "style": "IPY_MODEL_a8f6fb0d4fb04cb584059872960ef202",
            "tooltip": ""
          }
        },
        "f72c973a80784a1bbf98e18a6ce4c6b1": {
          "model_module": "@jupyter-widgets/controls",
          "model_module_version": "1.5.0",
          "model_name": "HBoxModel",
          "state": {
            "_dom_classes": [],
            "_model_module": "@jupyter-widgets/controls",
            "_model_module_version": "1.5.0",
            "_model_name": "HBoxModel",
            "_view_count": null,
            "_view_module": "@jupyter-widgets/controls",
            "_view_module_version": "1.5.0",
            "_view_name": "HBoxView",
            "box_style": "",
            "children": [
              "IPY_MODEL_349c267091f74340a26332fc36d32b19",
              "IPY_MODEL_07b30fb67d2e456d9178f8d1a6c922b1"
            ],
            "layout": "IPY_MODEL_833757c867e2425cad44ccfcdca1d299"
          }
        },
        "fbe00661e3d444b984a10d0d83024b6b": {
          "model_module": "@jupyter-widgets/base",
          "model_module_version": "1.2.0",
          "model_name": "LayoutModel",
          "state": {
            "_model_module": "@jupyter-widgets/base",
            "_model_module_version": "1.2.0",
            "_model_name": "LayoutModel",
            "_view_count": null,
            "_view_module": "@jupyter-widgets/base",
            "_view_module_version": "1.2.0",
            "_view_name": "LayoutView",
            "align_content": null,
            "align_items": null,
            "align_self": null,
            "border": null,
            "bottom": null,
            "display": null,
            "flex": null,
            "flex_flow": null,
            "grid_area": null,
            "grid_auto_columns": null,
            "grid_auto_flow": null,
            "grid_auto_rows": null,
            "grid_column": null,
            "grid_gap": null,
            "grid_row": null,
            "grid_template_areas": null,
            "grid_template_columns": null,
            "grid_template_rows": null,
            "height": null,
            "justify_content": null,
            "justify_items": null,
            "left": null,
            "margin": null,
            "max_height": null,
            "max_width": null,
            "min_height": null,
            "min_width": null,
            "object_fit": null,
            "object_position": null,
            "order": null,
            "overflow": null,
            "overflow_x": null,
            "overflow_y": null,
            "padding": null,
            "right": null,
            "top": null,
            "visibility": null,
            "width": null
          }
        },
        "fe4cfdb5a7054c1489bc7a54b8583000": {
          "model_module": "@jupyter-widgets/controls",
          "model_module_version": "1.5.0",
          "model_name": "ButtonModel",
          "state": {
            "_dom_classes": [],
            "_model_module": "@jupyter-widgets/controls",
            "_model_module_version": "1.5.0",
            "_model_name": "ButtonModel",
            "_view_count": null,
            "_view_module": "@jupyter-widgets/controls",
            "_view_module_version": "1.5.0",
            "_view_name": "ButtonView",
            "button_style": "",
            "description": "Limpar",
            "disabled": false,
            "icon": "",
            "layout": "IPY_MODEL_54620ba7707b48cbbeec964a34fa5bc9",
            "style": "IPY_MODEL_c513a0de769b47b6ae1f06facead85e0",
            "tooltip": ""
          }
        }
      }
    }
  },
  "nbformat": 4,
  "nbformat_minor": 0
}
